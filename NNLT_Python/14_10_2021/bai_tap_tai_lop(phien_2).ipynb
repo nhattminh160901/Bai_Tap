{
  "nbformat": 4,
  "nbformat_minor": 0,
  "metadata": {
    "colab": {
      "name": "bai_tap_tai_lop(phien_2).ipynb",
      "provenance": [],
      "collapsed_sections": [],
      "authorship_tag": "ABX9TyOJEtNsHVjb6jeq8BUoLghg",
      "include_colab_link": true
    },
    "kernelspec": {
      "name": "python3",
      "display_name": "Python 3"
    },
    "language_info": {
      "name": "python"
    }
  },
  "cells": [
    {
      "cell_type": "markdown",
      "metadata": {
        "id": "view-in-github",
        "colab_type": "text"
      },
      "source": [
        "<a href=\"https://colab.research.google.com/github/nhattminh160901/Bai_Tap/blob/main/NNLT_Python/14_10_2021/bai_tap_tai_lop(phien_2).ipynb\" target=\"_parent\"><img src=\"https://colab.research.google.com/assets/colab-badge.svg\" alt=\"Open In Colab\"/></a>"
      ]
    },
    {
      "cell_type": "code",
      "metadata": {
        "colab": {
          "base_uri": "https://localhost:8080/"
        },
        "id": "Y8bQmHT0Sh7q",
        "outputId": "16611153-f2c8-420c-e4ac-9a3d6cd55bfa"
      },
      "source": [
        "#1. Write a Python program to find the number of days in a month.\n",
        "month1 = int(input(\"Enter month: \"))\n",
        "year1 = int(input(\"Enter year: \"))\n",
        "dict1 = {1: \"January\", 2: \"February\", 3: \"March\", 4: \"April\", 5: \"May\", 6:\"June\", 7:\"July\", 8: \"August\", 9: \"September\", 10: \"October\", 11: \"November\", 12: \"December\"}\n",
        "if month1 == 2:\n",
        "  if year1%4 == 0:\n",
        "    print(dict1[month1], year1, \"has 29 days\")\n",
        "  else:\n",
        "    print(dict1[month1], year1, \"has 28 days\")\n",
        "elif month1 in (4, 6, 9, 11):\n",
        "  print(dict1[month1], year1, \"has 30 days\")\n",
        "elif month1 in (1, 3, 5, 7, 8, 10, 12):\n",
        "  print(dict1[month1], year1, \"has 31 days\")\n",
        "else:\n",
        "  print(\"Wrong month\")"
      ],
      "execution_count": 23,
      "outputs": [
        {
          "output_type": "stream",
          "name": "stdout",
          "text": [
            "Enter month: 2\n",
            "Enter year: 2012\n",
            "February 2012 has 29 days\n"
          ]
        }
      ]
    },
    {
      "cell_type": "code",
      "metadata": {
        "colab": {
          "base_uri": "https://localhost:8080/"
        },
        "id": "QIGAZcwRVXwn",
        "outputId": "494dfdca-1269-45c2-a67c-1b02d6a3c537"
      },
      "source": [
        "#2. Write a Python program that takes the user to provide a single character from the alphabet. Print Vowel or Consonant, depending on the user input. If the user input is not a letter (between a and z or A and Z), or is a string of length > 1, print an error message.\n",
        "import string\n",
        "vip = str(input(\"Enter a character: \"))\n",
        "if len(vip) == 1:\n",
        "  if vip.lower() in (\"a\", \"e\", \"i\", \"o\", \"u\"):\n",
        "    print(vip, \"is Vowel\")\n",
        "  elif vip.upper() in (\"A\", \"E\", \"I\", \"O\", \"U\"):\n",
        "    print(vip, \"is Vowel\")\n",
        "  elif vip in list(string.digits):\n",
        "    print(\"Error message\")\n",
        "  else:\n",
        "    print(vip, \"is Consonant\")\n",
        "else:\n",
        "  print(\"Error message\")"
      ],
      "execution_count": 21,
      "outputs": [
        {
          "output_type": "stream",
          "name": "stdout",
          "text": [
            "Enter a character: b\n",
            "b is Consonant\n"
          ]
        }
      ]
    },
    {
      "cell_type": "code",
      "metadata": {
        "colab": {
          "base_uri": "https://localhost:8080/"
        },
        "id": "z2D-tegfa-ot",
        "outputId": "79035718-618a-4c31-e15f-9fdc818d0209"
      },
      "source": [
        "#3. Write a Python program that takes a year from user and print whether that year is a leap year or not\n",
        "year3 = int(input(\"Enter year: \"))\n",
        "if year3%4 == 0:\n",
        "  print(year3,\"is a leap year\")\n",
        "else:\n",
        "  print(year3, \"is not a leap year\")"
      ],
      "execution_count": 19,
      "outputs": [
        {
          "output_type": "stream",
          "name": "stdout",
          "text": [
            "Enter year: 2020\n",
            "2020 is a leap year\n"
          ]
        }
      ]
    },
    {
      "cell_type": "code",
      "metadata": {
        "colab": {
          "base_uri": "https://localhost:8080/"
        },
        "id": "TnKJAveHdRzg",
        "outputId": "c380b877-c0f6-45d8-f67e-b90de8d37edb"
      },
      "source": [
        "#4. Write a program in Python to input 5 numbers from keyboard and find their sum and average.\n",
        "import statistics\n",
        "a = float(input(\"Enter first number: \"))\n",
        "b = float(input(\"Enter second number: \"))\n",
        "c = float(input(\"Enter third number: \"))\n",
        "d = float(input(\"Enter fourth number: \"))\n",
        "e = float(input(\"Enter fifth number: \"))\n",
        "print(a+b+c+d+e)\n",
        "print(statistics.mean([a, b, c ,d ,e]))"
      ],
      "execution_count": 22,
      "outputs": [
        {
          "output_type": "stream",
          "name": "stdout",
          "text": [
            "Enter first number: 5\n",
            "Enter second number: 2\n",
            "Enter third number: 3\n",
            "Enter fourth number: 4\n",
            "Enter fifth number: 1\n",
            "15.0\n",
            "3.0\n"
          ]
        }
      ]
    }
  ]
}