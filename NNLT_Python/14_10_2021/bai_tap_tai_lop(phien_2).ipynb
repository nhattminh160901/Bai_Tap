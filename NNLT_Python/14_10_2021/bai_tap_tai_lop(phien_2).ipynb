{
  "nbformat": 4,
  "nbformat_minor": 0,
  "metadata": {
    "colab": {
      "name": "bai_tap_tai_lop(phien_2).ipynb",
      "provenance": [],
      "authorship_tag": "ABX9TyPDF/swiu9fBQ1KiJephRG/",
      "include_colab_link": true
    },
    "kernelspec": {
      "name": "python3",
      "display_name": "Python 3"
    },
    "language_info": {
      "name": "python"
    }
  },
  "cells": [
    {
      "cell_type": "markdown",
      "metadata": {
        "id": "view-in-github",
        "colab_type": "text"
      },
      "source": [
        "<a href=\"https://colab.research.google.com/github/nhattminh160901/Bai_Tap/blob/main/NNLT_Python/14_10_2021/bai_tap_tai_lop(phien_2).ipynb\" target=\"_parent\"><img src=\"https://colab.research.google.com/assets/colab-badge.svg\" alt=\"Open In Colab\"/></a>"
      ]
    },
    {
      "cell_type": "code",
      "metadata": {
        "colab": {
          "base_uri": "https://localhost:8080/"
        },
        "id": "Y8bQmHT0Sh7q",
        "outputId": "1a53c2c8-944f-4a83-da43-782347b440e3"
      },
      "source": [
        "#1. Write a Python program to find the number of days in a month.\n",
        "month1 = int(input(\"Enter month: \"))\n",
        "year1 = int(input(\"Enter year: \"))\n",
        "dic = {1: \"January\", 2: \"February\", 3: \"March\", 4: \"April\", 5: \"May\", 6:\"June\", 7:\"July\", 8: \"August\", 9: \"September\", 10: \"October\", 11: \"November\", 12: \"December\"}\n",
        "if month == 2:\n",
        "  if year%4 == 0:\n",
        "    print(dic[month], year, \"has 29 days\")\n",
        "  else:\n",
        "    print(dic[month], year, \"has 28 days\")\n",
        "if month in (4, 6, 9, 11):\n",
        "  print(dic[month], year, \"has 30 days\")\n",
        "if month in (1, 3, 5, 7, 8, 10, 12):\n",
        "  print(dic[month], year, \"has 31 days\")\n",
        "else:\n",
        "  print(\"Wrong month\")"
      ],
      "execution_count": 15,
      "outputs": [
        {
          "output_type": "stream",
          "name": "stdout",
          "text": [
            "Enter month: 2\n",
            "Enter year: 2020\n",
            "February 2020 has 29 days\n",
            "Wrong month\n"
          ]
        }
      ]
    },
    {
      "cell_type": "code",
      "metadata": {
        "colab": {
          "base_uri": "https://localhost:8080/"
        },
        "id": "QIGAZcwRVXwn",
        "outputId": "041360d0-1722-48cb-acd6-adc0d5652c2e"
      },
      "source": [
        "#2. Write a Python program that takes the user to provide a single character from the alphabet. Print Vowel or Consonant, depending on the user input. If the user input is not a letter (between a and z or A and Z), or is a string of length > 1, print an error message.\n",
        "vip = str(input(\"Enter a character: \"))\n",
        "if len(vip) == 1:\n",
        "  if vip.lower() in (\"a\", \"e\", \"i\", \"o\", \"u\"):\n",
        "    print(vip, \"is Vowel\")\n",
        "  elif vip.upper() in (\"A\", \"E\", \"I\", \"O\", \"U\"):\n",
        "    print(vip, \"is Vowel\")\n",
        "  elif vip.upper() in (\"B\", \"C\", \"D\", \"F\", \"G\", \"H\", \"J\", \"K\", \"L\", \"M\", \"N\", \"P\", \"Q\", \"R\", \"S\", \"T\", \"P\", \"Q\", \"R\", \"S\", \"T\", \"V\", \"W\", \"X\", \"Y\", \"Z\"): \n",
        "    print(vip, \"is Consonant\")\n",
        "  elif vip.lower() in (\"b\", \"c\", \"d\", \"f\", \"g\", \"h\", \"j\", \"k\", \"l\", \"m\", \"n\", \"p\", \"q\", \"r\", \"s\", \"t\", \"p\", \"q\", \"r\", \"s\", \"t\", \"v\", \"w\", \"x\", \"y\", \"z\"):\n",
        "    print(vip, \"is Consonant\")\n",
        "  else:\n",
        "    print(\"Error message\")\n",
        "else:\n",
        "  print(\"Error message\")"
      ],
      "execution_count": 30,
      "outputs": [
        {
          "output_type": "stream",
          "name": "stdout",
          "text": [
            "Enter a character: b\n",
            "b is Consonant\n"
          ]
        }
      ]
    },
    {
      "cell_type": "code",
      "metadata": {
        "colab": {
          "base_uri": "https://localhost:8080/"
        },
        "id": "z2D-tegfa-ot",
        "outputId": "d2845e7d-922c-4401-da72-09611da6a7e0"
      },
      "source": [
        "#3. Write a Python program that takes a year from user and print whether that year is a leap year or not\n",
        "year3 = int(input(\"Enter year: \"))\n",
        "if year3%4 == 0:\n",
        "  print(year3,\"is a leap year\")\n",
        "else:\n",
        "  print(year3, \"is not a leap year\")"
      ],
      "execution_count": 32,
      "outputs": [
        {
          "output_type": "stream",
          "name": "stdout",
          "text": [
            "Enter year: 2016\n",
            "2016 is a leap year\n"
          ]
        }
      ]
    },
    {
      "cell_type": "code",
      "metadata": {
        "colab": {
          "base_uri": "https://localhost:8080/"
        },
        "id": "TnKJAveHdRzg",
        "outputId": "25ebd32c-3a2e-42dd-e862-8121103c7288"
      },
      "source": [
        "#4. Write a program in Python to input 5 numbers from keyboard and find their sum and average.\n",
        "import statistics\n",
        "a = float(input(\"Enter first number: \"))\n",
        "b = float(input(\"Enter second number: \"))\n",
        "c = float(input(\"Enter third number: \"))\n",
        "d = float(input(\"Enter fourth number: \"))\n",
        "e = float(input(\"Enter fifth number: \"))\n",
        "print(a+b+c+d+e)\n",
        "print(statistics.mean([a, b, c ,d ,e]))"
      ],
      "execution_count": 35,
      "outputs": [
        {
          "output_type": "stream",
          "name": "stdout",
          "text": [
            "Enter first number: 2\n",
            "Enter second number: 3\n",
            "Enter third number: 4\n",
            "Enter fourth number: 6\n",
            "Enter fifth number: 10\n",
            "25.0\n",
            "5.0\n"
          ]
        }
      ]
    }
  ]
}