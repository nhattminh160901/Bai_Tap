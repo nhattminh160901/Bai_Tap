{
  "nbformat": 4,
  "nbformat_minor": 0,
  "metadata": {
    "colab": {
      "name": "bai_tap_tai_lop(phien_2).ipynb",
      "provenance": [],
      "collapsed_sections": [],
      "authorship_tag": "ABX9TyP/CgW7xww0dUVrszql+C+m",
      "include_colab_link": true
    },
    "kernelspec": {
      "name": "python3",
      "display_name": "Python 3"
    },
    "language_info": {
      "name": "python"
    }
  },
  "cells": [
    {
      "cell_type": "markdown",
      "metadata": {
        "id": "view-in-github",
        "colab_type": "text"
      },
      "source": [
        "<a href=\"https://colab.research.google.com/github/nhattminh160901/Bai_Tap/blob/main/NNLT_Python/14_10_2021/bai_tap_tai_lop(phien_2).ipynb\" target=\"_parent\"><img src=\"https://colab.research.google.com/assets/colab-badge.svg\" alt=\"Open In Colab\"/></a>"
      ]
    },
    {
      "cell_type": "code",
      "metadata": {
        "colab": {
          "base_uri": "https://localhost:8080/"
        },
        "id": "Y8bQmHT0Sh7q",
        "outputId": "c502367e-7f23-4d56-9c35-784e0f977e3f"
      },
      "source": [
        "#1. Write a Python program to find the number of days in a month.\n",
        "month1 = int(input(\"Enter month: \"))\n",
        "year1 = int(input(\"Enter year: \"))\n",
        "dict1 = {1: \"January\", 2: \"February\", 3: \"March\", 4: \"April\", 5: \"May\", 6:\"June\", 7:\"July\", 8: \"August\", 9: \"September\", 10: \"October\", 11: \"November\", 12: \"December\"}\n",
        "if month1 == 2:\n",
        "  if year1%4 == 0:\n",
        "    print(dict1[month1], year1, \"has 29 days\")\n",
        "  else:\n",
        "    print(dict1[month1], year1, \"has 28 days\")\n",
        "elif month1 in (4, 6, 9, 11):\n",
        "  print(dict1[month1], year1, \"has 30 days\")\n",
        "elif month1 in (1, 3, 5, 7, 8, 10, 12):\n",
        "  print(dict1[month1], year1, \"has 31 days\")\n",
        "else:\n",
        "  print(\"Wrong month\")"
      ],
      "execution_count": 7,
      "outputs": [
        {
          "output_type": "stream",
          "name": "stdout",
          "text": [
            "Enter month: 2\n",
            "Enter year: 2020\n",
            "February 2020 has 29 days\n"
          ]
        }
      ]
    },
    {
      "cell_type": "code",
      "metadata": {
        "colab": {
          "base_uri": "https://localhost:8080/"
        },
        "id": "QIGAZcwRVXwn",
        "outputId": "d4629bee-f8f4-4472-e951-b7b804e43864"
      },
      "source": [
        "#2. Write a Python program that takes the user to provide a single character from the alphabet. Print Vowel or Consonant, depending on the user input. If the user input is not a letter (between a and z or A and Z), or is a string of length > 1, print an error message.\n",
        "import string\n",
        "vip = str(input(\"Enter a character: \"))\n",
        "if len(vip) == 1:\n",
        "  if vip.lower() in (\"a\", \"e\", \"i\", \"o\", \"u\"):\n",
        "    print(vip, \"is Vowel\")\n",
        "  elif vip.upper() in (\"A\", \"E\", \"I\", \"O\", \"U\"):\n",
        "    print(vip, \"is Vowel\")\n",
        "  elif vip in string.digits:\n",
        "    print(\"Error message\")\n",
        "  else:\n",
        "    print(vip, \"is Consonant\")\n",
        "else:\n",
        "  print(\"Error message\")"
      ],
      "execution_count": 6,
      "outputs": [
        {
          "output_type": "stream",
          "name": "stdout",
          "text": [
            "Enter a character: B\n",
            "B is Consonant\n"
          ]
        }
      ]
    },
    {
      "cell_type": "code",
      "metadata": {
        "colab": {
          "base_uri": "https://localhost:8080/"
        },
        "id": "z2D-tegfa-ot",
        "outputId": "99a062b5-f10b-4bae-c26e-36d284fd85cb"
      },
      "source": [
        "#3. Write a Python program that takes a year from user and print whether that year is a leap year or not\n",
        "year3 = int(input(\"Enter year: \"))\n",
        "if year3%4 == 0:\n",
        "  print(year3,\"is a leap year\")\n",
        "else:\n",
        "  print(year3, \"is not a leap year\")"
      ],
      "execution_count": 8,
      "outputs": [
        {
          "output_type": "stream",
          "name": "stdout",
          "text": [
            "Enter year: 2016\n",
            "2016 is a leap year\n"
          ]
        }
      ]
    },
    {
      "cell_type": "code",
      "metadata": {
        "colab": {
          "base_uri": "https://localhost:8080/"
        },
        "id": "TnKJAveHdRzg",
        "outputId": "90ff89b9-6ade-4304-d188-ef124da0f984"
      },
      "source": [
        "#4. Write a program in Python to input 5 numbers from keyboard and find their sum and average.\n",
        "import statistics\n",
        "a = float(input(\"Enter first number: \"))\n",
        "b = float(input(\"Enter second number: \"))\n",
        "c = float(input(\"Enter third number: \"))\n",
        "d = float(input(\"Enter fourth number: \"))\n",
        "e = float(input(\"Enter fifth number: \"))\n",
        "print(a+b+c+d+e)\n",
        "print(statistics.mean([a, b, c ,d ,e]))"
      ],
      "execution_count": 9,
      "outputs": [
        {
          "output_type": "stream",
          "name": "stdout",
          "text": [
            "Enter first number: 5\n",
            "Enter second number: 4\n",
            "Enter third number: 1\n",
            "Enter fourth number: 2\n",
            "Enter fifth number: 3\n",
            "15.0\n",
            "3.0\n"
          ]
        }
      ]
    }
  ]
}