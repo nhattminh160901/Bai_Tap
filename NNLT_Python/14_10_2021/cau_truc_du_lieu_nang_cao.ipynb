{
  "nbformat": 4,
  "nbformat_minor": 0,
  "metadata": {
    "colab": {
      "name": "cau_truc_du_lieu_nang_cao.ipynb",
      "provenance": [],
      "collapsed_sections": [],
      "authorship_tag": "ABX9TyOQKxWOGGprHcKmV5Rk+VQG",
      "include_colab_link": true
    },
    "kernelspec": {
      "name": "python3",
      "display_name": "Python 3"
    },
    "language_info": {
      "name": "python"
    }
  },
  "cells": [
    {
      "cell_type": "markdown",
      "metadata": {
        "id": "view-in-github",
        "colab_type": "text"
      },
      "source": [
        "<a href=\"https://colab.research.google.com/github/nhattminh160901/Bai_Tap/blob/main/NNLT_Python/14_10_2021/cau_truc_du_lieu_nang_cao.ipynb\" target=\"_parent\"><img src=\"https://colab.research.google.com/assets/colab-badge.svg\" alt=\"Open In Colab\"/></a>"
      ]
    },
    {
      "cell_type": "markdown",
      "metadata": {
        "id": "hhQE4AjXgcIk"
      },
      "source": [
        "Bài 1: Viết chương trình thực hiện các yêu cầu sau:\n",
        "- Nhập vào 1 số nguyên dương N từ bàn phím\n",
        "- Hãy xây dựng 1 dictionary với các phần tử chỉ mục và giá trị có dạng (i: log(i)) với I đi từ\n",
        "0 tới N\n",
        "- Hiển thị dictionary trên ra màn hình"
      ]
    },
    {
      "cell_type": "code",
      "metadata": {
        "colab": {
          "base_uri": "https://localhost:8080/"
        },
        "id": "sALAIZK6gdai",
        "outputId": "9e78ab4c-17cd-49df-888e-eaf5c8b03f88"
      },
      "source": [
        "import math\n",
        "number1 = int(input(\"Nhập n: \"))\n",
        "dict1 = {}\n",
        "for i in range(1, number1+1):\n",
        "  dict1[i] = math.log(i)\n",
        "print(dict1)"
      ],
      "execution_count": null,
      "outputs": [
        {
          "output_type": "stream",
          "name": "stdout",
          "text": [
            "Nhập n: 10\n",
            "{1: 0.0, 2: 0.6931471805599453, 3: 1.0986122886681098, 4: 1.3862943611198906, 5: 1.6094379124341003, 6: 1.791759469228055, 7: 1.9459101490553132, 8: 2.0794415416798357, 9: 2.1972245773362196, 10: 2.302585092994046}\n"
          ]
        }
      ]
    },
    {
      "cell_type": "markdown",
      "metadata": {
        "id": "_M5ebmoAhqer"
      },
      "source": [
        "Bài 2: Viết chương trình thực hiện các yêu cầu sau:\n",
        "- Nhập vào từ bàn phím một chuỗi các giá trị (có thể là số nguyên, số thực hay các ký tự)\n",
        "cách nhau bởi dấu phẩy (“,”).\n",
        "- Chuyển chuỗi được nhập từ bàn phím thành một danh sách (list)\n",
        "- Hiển thị danh sách đó ra màn hình."
      ]
    },
    {
      "cell_type": "code",
      "metadata": {
        "colab": {
          "base_uri": "https://localhost:8080/"
        },
        "id": "12zXnWWniIw4",
        "outputId": "03c99fb0-d262-461a-a1df-9c31374a6278"
      },
      "source": [
        "str2 = str(input(\"Nhập chuỗi: \"))\n",
        "list2 = []\n",
        "res2 = \"\"\n",
        "for i in range(len(str2)):\n",
        "  if str2[i] != \",\":\n",
        "    res2 = res2 + str2[i]\n",
        "  else:\n",
        "    list2.append(res2)\n",
        "    res2 = \"\"\n",
        "else:\n",
        "  list2.append(res2)\n",
        "print(list2)"
      ],
      "execution_count": null,
      "outputs": [
        {
          "output_type": "stream",
          "name": "stdout",
          "text": [
            "Nhập chuỗi: sieucapvutru, vipprono1, springmike, n0brain, ceb, ana, chokeson, jerax\n",
            "['sieucapvutru', ' vipprono1', ' springmike', ' n0brain', ' ceb', ' ana', ' chokeson', ' jerax']\n"
          ]
        }
      ]
    },
    {
      "cell_type": "markdown",
      "metadata": {
        "id": "lIBL0_Gjk23G"
      },
      "source": [
        "Bài 3: Viết chương trình thực hiện các yêu cầu sau:\n",
        "- Nhập vào từ bàn phím một chuỗi các giá trị (có thể là số nguyên, số thực hay các ký tự)\n",
        "cách nhau bởi dấu phẩy (“,”).\n",
        "- Chuyển chuỗi được nhập từ bàn phím thành một tuple\n",
        "- Hiển thị tuple đó ra màn hình."
      ]
    },
    {
      "cell_type": "code",
      "metadata": {
        "colab": {
          "base_uri": "https://localhost:8080/"
        },
        "id": "iybL9o1_k4vL",
        "outputId": "9c3f401e-cfbc-4aa2-d78e-c6e4994edb5f"
      },
      "source": [
        "str3 = str(input(\"Nhập chuỗi: \"))\n",
        "list3 = []\n",
        "tuple3 = ()\n",
        "res3 = \"\"\n",
        "for i in range(len(str3)):\n",
        "  if str3[i] != \",\":\n",
        "    res3 = res3 + str3[i]\n",
        "  else:\n",
        "    list3.append(res3)\n",
        "    res3 = \"\"\n",
        "else:\n",
        "  list3.append(res3)\n",
        "tuple3 = tuple(list3)\n",
        "print(tuple3)"
      ],
      "execution_count": null,
      "outputs": [
        {
          "output_type": "stream",
          "name": "stdout",
          "text": [
            "Nhập chuỗi: sieucapvutru, vipprono1, springmike, n0brain, ceb, ana, chokeson, jerax\n",
            "('sieucapvutru', ' vipprono1', ' springmike', ' n0brain', ' ceb', ' ana', ' chokeson', ' jerax')\n"
          ]
        }
      ]
    },
    {
      "cell_type": "markdown",
      "metadata": {
        "id": "u3bihwI8UybK"
      },
      "source": [
        "Bài 4: Viết chương trình thực hiện các yêu cầu sau:\n",
        "- Nhập vào 1 chuỗi các kí tự từ bàn phím, các từ cách nhau bởi ít nhất một khoảng trắng\n",
        "- Chuyển chuỗi vừa nhập thành 1 danh sách với điều kiện phân tách là dấu khoảng trắng\n",
        "(space)\n",
        "- Hiển thị danh sách thu được ra màn hình"
      ]
    },
    {
      "cell_type": "code",
      "metadata": {
        "colab": {
          "base_uri": "https://localhost:8080/"
        },
        "id": "IWYoLyPPU0g-",
        "outputId": "ccf62014-9edf-4ade-dbe4-5b3db0c1dedc"
      },
      "source": [
        "str4 = str(input(\"Nhập chuỗi: \"))\n",
        "list4 = []\n",
        "res4 = \"\"\n",
        "for i in range(len(str4)):\n",
        "  if str4[i] != \" \":\n",
        "    res4 = res4 + str4[i]\n",
        "  else:\n",
        "    list4.append(res4)\n",
        "    res4 = \"\"\n",
        "else:\n",
        "  list4.append(res4)\n",
        "print(list4)"
      ],
      "execution_count": null,
      "outputs": [
        {
          "output_type": "stream",
          "name": "stdout",
          "text": [
            "Nhập chuỗi: sieu vip pro 123 no1 vu tru\n",
            "['sieu', 'vip', 'pro', '123', 'no1', 'vu', 'tru']\n"
          ]
        }
      ]
    },
    {
      "cell_type": "code",
      "metadata": {
        "colab": {
          "base_uri": "https://localhost:8080/"
        },
        "id": "v7BG6vnVVgDD",
        "outputId": "81dc7d72-18d2-4778-9f10-0342e8132a7f"
      },
      "source": [
        "import string\n",
        "list5 = []\n",
        "while True:\n",
        "  n = str(input(\"Nhập số nguyên: \"))\n",
        "  if n in string.ascii_letters:\n",
        "    break\n",
        "  list5.append(int(n))\n",
        "print(list5)"
      ],
      "execution_count": 11,
      "outputs": [
        {
          "output_type": "stream",
          "name": "stdout",
          "text": [
            "Nhập số nguyên: 6\n",
            "Nhập số nguyên: 5\n",
            "Nhập số nguyên: 2\n",
            "Nhập số nguyên: a\n",
            "[6, 5, 2]\n"
          ]
        }
      ]
    },
    {
      "cell_type": "code",
      "metadata": {
        "colab": {
          "base_uri": "https://localhost:8080/"
        },
        "id": "_9QcQOhfIKtc",
        "outputId": "837a8030-c4d7-4960-ddbb-5f2c9b419082"
      },
      "source": [
        "'a' in string.ascii_lowercase"
      ],
      "execution_count": 8,
      "outputs": [
        {
          "output_type": "execute_result",
          "data": {
            "text/plain": [
              "True"
            ]
          },
          "metadata": {},
          "execution_count": 8
        }
      ]
    },
    {
      "cell_type": "code",
      "metadata": {
        "colab": {
          "base_uri": "https://localhost:8080/"
        },
        "id": "ozNN1jsXGIWC",
        "outputId": "db0a80a0-d241-465a-9ecc-5bfb755f1412"
      },
      "source": [
        "for i in list(string.ascii_lowercase):\n",
        "    print(i,8)\n"
      ],
      "execution_count": 104,
      "outputs": [
        {
          "output_type": "stream",
          "name": "stdout",
          "text": [
            "a 8\n",
            "b 8\n",
            "c 8\n",
            "d 8\n",
            "e 8\n",
            "f 8\n",
            "g 8\n",
            "h 8\n",
            "i 8\n",
            "j 8\n",
            "k 8\n",
            "l 8\n",
            "m 8\n",
            "n 8\n",
            "o 8\n",
            "p 8\n",
            "q 8\n",
            "r 8\n",
            "s 8\n",
            "t 8\n",
            "u 8\n",
            "v 8\n",
            "w 8\n",
            "x 8\n",
            "y 8\n",
            "z 8\n"
          ]
        }
      ]
    }
  ]
}