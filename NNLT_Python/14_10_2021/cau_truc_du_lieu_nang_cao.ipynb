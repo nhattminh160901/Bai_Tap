{
  "nbformat": 4,
  "nbformat_minor": 0,
  "metadata": {
    "colab": {
      "name": "cau_truc_du_lieu_nang_cao.ipynb",
      "provenance": [],
      "authorship_tag": "ABX9TyNhiMkh19PaN+11juxz1rKI",
      "include_colab_link": true
    },
    "kernelspec": {
      "name": "python3",
      "display_name": "Python 3"
    },
    "language_info": {
      "name": "python"
    }
  },
  "cells": [
    {
      "cell_type": "markdown",
      "metadata": {
        "id": "view-in-github",
        "colab_type": "text"
      },
      "source": [
        "<a href=\"https://colab.research.google.com/github/nhattminh160901/Bai_Tap/blob/main/NNLT_Python/14_10_2021/cau_truc_du_lieu_nang_cao.ipynb\" target=\"_parent\"><img src=\"https://colab.research.google.com/assets/colab-badge.svg\" alt=\"Open In Colab\"/></a>"
      ]
    },
    {
      "cell_type": "markdown",
      "metadata": {
        "id": "hhQE4AjXgcIk"
      },
      "source": [
        "Bài 1: Viết chương trình thực hiện các yêu cầu sau:\n",
        "- Nhập vào 1 số nguyên dương N từ bàn phím\n",
        "- Hãy xây dựng 1 dictionary với các phần tử chỉ mục và giá trị có dạng (i: log(i)) với I đi từ\n",
        "0 tới N\n",
        "- Hiển thị dictionary trên ra màn hình"
      ]
    },
    {
      "cell_type": "code",
      "metadata": {
        "colab": {
          "base_uri": "https://localhost:8080/"
        },
        "id": "sALAIZK6gdai",
        "outputId": "89b5b8c4-09d4-4953-9e4b-a05c6187766a"
      },
      "source": [
        "import math\n",
        "number1 = int(input(\"Nhập n: \"))\n",
        "dict1 = {}\n",
        "for i in range(1, number1+1):\n",
        "  dict1[i] = math.log(i)\n",
        "print(dict1)"
      ],
      "execution_count": 9,
      "outputs": [
        {
          "output_type": "stream",
          "name": "stdout",
          "text": [
            "Nhập n: 10\n",
            "{1: 0.0, 2: 0.6931471805599453, 3: 1.0986122886681098, 4: 1.3862943611198906, 5: 1.6094379124341003, 6: 1.791759469228055, 7: 1.9459101490553132, 8: 2.0794415416798357, 9: 2.1972245773362196, 10: 2.302585092994046}\n"
          ]
        }
      ]
    },
    {
      "cell_type": "markdown",
      "metadata": {
        "id": "_M5ebmoAhqer"
      },
      "source": [
        "Bài 2: Viết chương trình thực hiện các yêu cầu sau:\n",
        "- Nhập vào từ bàn phím một chuỗi các giá trị (có thể là số nguyên, số thực hay các ký tự)\n",
        "cách nhau bởi dấu phẩy (“,”).\n",
        "- Chuyển chuỗi được nhập từ bàn phím thành một danh sách (list)\n",
        "- Hiển thị danh sách đó ra màn hình."
      ]
    },
    {
      "cell_type": "code",
      "metadata": {
        "colab": {
          "base_uri": "https://localhost:8080/"
        },
        "id": "12zXnWWniIw4",
        "outputId": "1fab1875-660f-45a9-a1d1-123f9e7c0409"
      },
      "source": [
        "str2 = str(input(\"Nhập chuỗi: \"))\n",
        "list2 = []\n",
        "res = \"\"\n",
        "for i in range(len(str2)):\n",
        "  if str2[i] != \",\":\n",
        "    res = res + str2[i]\n",
        "  else:\n",
        "    list2.append(res)\n",
        "    res = \"\"\n",
        "else:\n",
        "  list2.append(res)\n",
        "print(list2)"
      ],
      "execution_count": 17,
      "outputs": [
        {
          "output_type": "stream",
          "name": "stdout",
          "text": [
            "Nhập chuỗi: abc,123a,233fs,asdaksjdhajksd\n",
            "['abc', '123a', '233fs', 'asdaksjdhajksd']\n"
          ]
        }
      ]
    }
  ]
}