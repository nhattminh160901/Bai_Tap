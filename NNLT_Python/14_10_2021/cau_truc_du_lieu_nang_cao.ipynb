{
  "nbformat": 4,
  "nbformat_minor": 0,
  "metadata": {
    "colab": {
      "name": "cau_truc_du_lieu_nang_cao.ipynb",
      "provenance": [],
      "collapsed_sections": [],
      "authorship_tag": "ABX9TyPCn8G/ZFI/fJ0JzjyzKQOH",
      "include_colab_link": true
    },
    "kernelspec": {
      "name": "python3",
      "display_name": "Python 3"
    },
    "language_info": {
      "name": "python"
    }
  },
  "cells": [
    {
      "cell_type": "markdown",
      "metadata": {
        "id": "view-in-github",
        "colab_type": "text"
      },
      "source": [
        "<a href=\"https://colab.research.google.com/github/nhattminh160901/Bai_Tap/blob/main/NNLT_Python/14_10_2021/cau_truc_du_lieu_nang_cao.ipynb\" target=\"_parent\"><img src=\"https://colab.research.google.com/assets/colab-badge.svg\" alt=\"Open In Colab\"/></a>"
      ]
    },
    {
      "cell_type": "markdown",
      "metadata": {
        "id": "hhQE4AjXgcIk"
      },
      "source": [
        "Bài 1: Viết chương trình thực hiện các yêu cầu sau:\n",
        "- Nhập vào 1 số nguyên dương N từ bàn phím\n",
        "- Hãy xây dựng 1 dictionary với các phần tử chỉ mục và giá trị có dạng (i: log(i)) với I đi từ\n",
        "0 tới N\n",
        "- Hiển thị dictionary trên ra màn hình"
      ]
    },
    {
      "cell_type": "code",
      "metadata": {
        "colab": {
          "base_uri": "https://localhost:8080/"
        },
        "id": "sALAIZK6gdai",
        "outputId": "dd5fceff-53a8-4a22-e8ce-c458ecc67ff0"
      },
      "source": [
        "import math\n",
        "number1 = int(input(\"Nhập n: \"))\n",
        "dict1 = {}\n",
        "for i in range(1, number1+1):\n",
        "  dict1[i] = math.log(i)\n",
        "print(dict1)"
      ],
      "execution_count": 21,
      "outputs": [
        {
          "output_type": "stream",
          "name": "stdout",
          "text": [
            "Nhập n: 10\n",
            "{1: 0.0, 2: 0.6931471805599453, 3: 1.0986122886681098, 4: 1.3862943611198906, 5: 1.6094379124341003, 6: 1.791759469228055, 7: 1.9459101490553132, 8: 2.0794415416798357, 9: 2.1972245773362196, 10: 2.302585092994046}\n"
          ]
        }
      ]
    },
    {
      "cell_type": "markdown",
      "metadata": {
        "id": "_M5ebmoAhqer"
      },
      "source": [
        "Bài 2: Viết chương trình thực hiện các yêu cầu sau:\n",
        "- Nhập vào từ bàn phím một chuỗi các giá trị (có thể là số nguyên, số thực hay các ký tự)\n",
        "cách nhau bởi dấu phẩy (“,”).\n",
        "- Chuyển chuỗi được nhập từ bàn phím thành một danh sách (list)\n",
        "- Hiển thị danh sách đó ra màn hình."
      ]
    },
    {
      "cell_type": "code",
      "metadata": {
        "colab": {
          "base_uri": "https://localhost:8080/"
        },
        "id": "12zXnWWniIw4",
        "outputId": "54b7ed3d-ea81-408c-c588-2b1d1827c958"
      },
      "source": [
        "str2 = str(input(\"Nhập chuỗi: \"))\n",
        "list2 = []\n",
        "res2 = \"\"\n",
        "for i in range(len(str2)):\n",
        "  if str2[i] != \",\":\n",
        "    res2 = res2 + str2[i]\n",
        "  else:\n",
        "    list2.append(res2)\n",
        "    res2 = \"\"\n",
        "else:\n",
        "  list2.append(res2)\n",
        "print(list2)"
      ],
      "execution_count": 22,
      "outputs": [
        {
          "output_type": "stream",
          "name": "stdout",
          "text": [
            "Nhập chuỗi: vip, pro, no, 1, sieucap, vutru\n",
            "['vip', ' pro', ' no', ' 1', ' sieucap', ' vutru']\n"
          ]
        }
      ]
    },
    {
      "cell_type": "markdown",
      "metadata": {
        "id": "lIBL0_Gjk23G"
      },
      "source": [
        "Bài 3: Viết chương trình thực hiện các yêu cầu sau:\n",
        "- Nhập vào từ bàn phím một chuỗi các giá trị (có thể là số nguyên, số thực hay các ký tự)\n",
        "cách nhau bởi dấu phẩy (“,”).\n",
        "- Chuyển chuỗi được nhập từ bàn phím thành một tuple\n",
        "- Hiển thị tuple đó ra màn hình."
      ]
    },
    {
      "cell_type": "code",
      "metadata": {
        "colab": {
          "base_uri": "https://localhost:8080/"
        },
        "id": "iybL9o1_k4vL",
        "outputId": "9133eed4-3a7a-4779-f7eb-ca453bbb14fb"
      },
      "source": [
        "str3 = str(input(\"Nhập chuỗi: \"))\n",
        "list3 = []\n",
        "tuple3 = ()\n",
        "res3 = \"\"\n",
        "for i in range(len(str3)):\n",
        "  if str3[i] != \",\":\n",
        "    res3 = res3 + str3[i]\n",
        "  else:\n",
        "    list3.append(res3)\n",
        "    res3 = \"\"\n",
        "else:\n",
        "  list3.append(res3)\n",
        "tuple3 = tuple(list3)\n",
        "print(tuple3)"
      ],
      "execution_count": 24,
      "outputs": [
        {
          "output_type": "stream",
          "name": "stdout",
          "text": [
            "Nhập chuỗi: sieucapvutru, vipprono1, springmike, n0brain, ceb, ana, chokeson, jerax\n",
            "('sieucapvutru', ' vipprono1', ' springmike', ' n0brain', ' ceb', ' ana', ' chokeson', ' jerax')\n"
          ]
        }
      ]
    },
    {
      "cell_type": "markdown",
      "metadata": {
        "id": "u3bihwI8UybK"
      },
      "source": [
        "Bài 4: Viết chương trình thực hiện các yêu cầu sau:\n",
        "- Nhập vào 1 chuỗi các kí tự từ bàn phím, các từ cách nhau bởi ít nhất một khoảng trắng\n",
        "- Chuyển chuỗi vừa nhập thành 1 danh sách với điều kiện phân tách là dấu khoảng trắng\n",
        "(space)\n",
        "- Hiển thị danh sách thu được ra màn hình"
      ]
    },
    {
      "cell_type": "code",
      "metadata": {
        "colab": {
          "base_uri": "https://localhost:8080/"
        },
        "id": "IWYoLyPPU0g-",
        "outputId": "3cc5db7b-c620-4c2a-c627-f1b964129b75"
      },
      "source": [
        "str4 = str(input(\"Nhập chuỗi: \"))\n",
        "list4 = []\n",
        "res4 = \"\"\n",
        "for i in range(len(str4)):\n",
        "  if str4[i] != \" \":\n",
        "    res4 = res4 + str4[i]\n",
        "  else:\n",
        "    list4.append(res4)\n",
        "    res4 = \"\"\n",
        "else:\n",
        "  list4.append(res4)\n",
        "print(list4)"
      ],
      "execution_count": 25,
      "outputs": [
        {
          "output_type": "stream",
          "name": "stdout",
          "text": [
            "Nhập chuỗi: sieu cap vip pro no 1, hokage de bat\n",
            "['sieu', 'cap', 'vip', 'pro', 'no', '1,', 'hokage', 'de', 'bat']\n"
          ]
        }
      ]
    },
    {
      "cell_type": "markdown",
      "metadata": {
        "id": "MZV0IVZY3pQP"
      },
      "source": [
        "Bài 5: Viết chương trình thực hiện các yêu cầu sau:\n",
        "- Nhập vào 1 danh sách các số nguyên từ bàn phím (Quá trình nhập dừng khi người dùng\n",
        "nhập vào 1 kí tự từ a đến z)\n",
        "- Hiển thị danh sách đó ra màn hình\n",
        "- Yêu cầu người dùng nhập vào một số nguyên N từ bàn phím\n",
        "\n",
        "- Tìm kiếm vị trí xuất hiện đầu tiên của N trong danh sách và hiển thị ra màn hình (nếu không có thì thông báo không tìm thấy ra màn hình).\n",
        "- Tìm kiếm tất cả các vị trí xuất hiện của N trong danh sách và hiển thị ra màn hình. (Nếu không tìm thấy thì thông báo không tìm được ra màn hình)"
      ]
    },
    {
      "cell_type": "code",
      "metadata": {
        "colab": {
          "base_uri": "https://localhost:8080/"
        },
        "id": "v7BG6vnVVgDD",
        "outputId": "53b63a6b-a359-49c8-dbea-8f16366e3521"
      },
      "source": [
        "import string\n",
        "list5 = []\n",
        "pos = 0\n",
        "find = 0\n",
        "while True:\n",
        "  n = str(input(\"Nhập số nguyên: \"))\n",
        "  if n in string.ascii_letters:\n",
        "    break\n",
        "  list5.append(int(n))\n",
        "print(list5)\n",
        "N = int(input(\"Nhập số nguyên N: \"))\n",
        "for i in list5:\n",
        "  pos += 1\n",
        "  if N == i:\n",
        "    print(\"Số\", N, \"xuất hiện lần đầu tiên ở vị trí\", pos)\n",
        "    pos = 0\n",
        "    break\n",
        "else:\n",
        "  print(\"Không tìm thấy\")\n",
        "for i in list5:\n",
        "  pos += 1\n",
        "  if N == i:\n",
        "    print(\"Số\", N, \"xuất hiện ở vị trí\", pos)\n",
        "    find += 1\n",
        "if find == 0:\n",
        "  print(\"Không tìm thấy\")"
      ],
      "execution_count": 19,
      "outputs": [
        {
          "output_type": "stream",
          "name": "stdout",
          "text": [
            "Nhập số nguyên: 6\n",
            "Nhập số nguyên: 8\n",
            "Nhập số nguyên: 8\n",
            "Nhập số nguyên: 12\n",
            "Nhập số nguyên: 8\n",
            "Nhập số nguyên: 4\n",
            "Nhập số nguyên: 8\n",
            "Nhập số nguyên: 8\n",
            "Nhập số nguyên: 9\n",
            "Nhập số nguyên: d\n",
            "[6, 8, 8, 12, 8, 4, 8, 8, 9]\n",
            "Nhập số nguyên N: 8\n",
            "Số 8 xuất hiện lần đầu tiên ở vị trí 2\n",
            "Số 8 xuất hiện ở vị trí 2\n",
            "Số 8 xuất hiện ở vị trí 3\n",
            "Số 8 xuất hiện ở vị trí 5\n",
            "Số 8 xuất hiện ở vị trí 7\n",
            "Số 8 xuất hiện ở vị trí 8\n"
          ]
        }
      ]
    }
  ]
}