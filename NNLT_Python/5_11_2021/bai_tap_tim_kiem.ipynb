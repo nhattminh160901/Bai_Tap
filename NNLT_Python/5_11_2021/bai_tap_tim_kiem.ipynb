{
  "nbformat": 4,
  "nbformat_minor": 0,
  "metadata": {
    "colab": {
      "name": "bai_tap_tim_kiem.ipynb",
      "provenance": [],
      "authorship_tag": "ABX9TyOWpf5xKQUDtGIeSfU1Z6Qr",
      "include_colab_link": true
    },
    "kernelspec": {
      "name": "python3",
      "display_name": "Python 3"
    },
    "language_info": {
      "name": "python"
    }
  },
  "cells": [
    {
      "cell_type": "markdown",
      "metadata": {
        "id": "view-in-github",
        "colab_type": "text"
      },
      "source": [
        "<a href=\"https://colab.research.google.com/github/nhattminh160901/Bai_Tap/blob/main/NNLT_Python/5_11_2021/bai_tap_tim_kiem.ipynb\" target=\"_parent\"><img src=\"https://colab.research.google.com/assets/colab-badge.svg\" alt=\"Open In Colab\"/></a>"
      ]
    },
    {
      "cell_type": "markdown",
      "metadata": {
        "id": "wl6SLi7B0Ui-"
      },
      "source": [
        "Bài 1: Viết chương trình thực hiện các yêu cầu sau:\n",
        "- Sinh ngẫu nhiên 1 danh sách n số nguyên trong đoạn [a, b], với các thông số n, a và b được\n",
        "nhập vào từ bàn phím;\n",
        "- Nhập vào 1 số x từ bàn phím có giá trị trong đoạn [a, b];\n",
        "- Tìm kiếm x có xuất hiện trong danh sách trên hay không. Nếu có thì trả về vị trí xuất hiện\n",
        "đầu tiên trong danh sách. Ngược lại, thông báo không tìm thấy."
      ]
    },
    {
      "cell_type": "code",
      "metadata": {
        "colab": {
          "base_uri": "https://localhost:8080/"
        },
        "id": "4WQ_yJiS0V3h",
        "outputId": "09297a8c-e73c-46c5-b92a-3451ced7d127"
      },
      "source": [
        "import random\n",
        "list1 = []\n",
        "n1 = int(input(\"Số phần tử của danh sách: \"))\n",
        "a1 = int(input(\"Giá trị min_value: \"))\n",
        "b1 = int(input(\"Giá trị max_value: \"))\n",
        "x1 = int(input(\"Số x: \"))\n",
        "pos1 = 0\n",
        "for i in range(n1):\n",
        "  list1.append(random.randint(a1, b1))\n",
        "print(list1)\n",
        "for i in list1:\n",
        "  pos1 += 1\n",
        "  if x1 == i:\n",
        "    print(\"Số\", x1, \"xuất hiện lần đầu tiên ở vị trí\", pos1)\n",
        "    break\n",
        "else:\n",
        "  print(\"Không tìm thấy\")"
      ],
      "execution_count": 28,
      "outputs": [
        {
          "output_type": "stream",
          "name": "stdout",
          "text": [
            "Số phần tử của danh sách: 10\n",
            "Giá trị min_value: 1\n",
            "Giá trị max_value: 100\n",
            "Số x: 16\n",
            "[63, 90, 22, 72, 57, 13, 54, 5, 1, 57]\n",
            "Không tìm thấy\n"
          ]
        }
      ]
    },
    {
      "cell_type": "markdown",
      "metadata": {
        "id": "SjxgI04h2OZ7"
      },
      "source": [
        "Bài 2: Viết chương trình thực hiện các yêu cầu sau:\n",
        "- Sinh ngẫu nhiên 1 danh sách n số nguyên trong đoạn [a, b], với các thông số n, a và b được\n",
        "nhập vào từ bàn phím;\n",
        "- Nhập vào 1 số x từ bàn phím có giá trị trong đoạn [a, b];\n",
        "- Tìm kiếm x có xuất hiện trong danh sách trên hay không theo yêu cầu sau:\n",
        "\n",
        "o Nếu có thì trả về vị trí xuất hiện đầu tiên trong danh sách và thông báo số bước lặp đã thực hiện để tìm được phần tử này.\n",
        "\n",
        "o Ngược lại, thông báo không tìm thấy."
      ]
    },
    {
      "cell_type": "code",
      "metadata": {
        "colab": {
          "base_uri": "https://localhost:8080/"
        },
        "id": "uxMsIwOR2XI_",
        "outputId": "1fa5e0f9-bc56-47d8-fafd-640f47f072d8"
      },
      "source": [
        "list2 = []\n",
        "n2 = int(input(\"Số phần tử của danh sách: \"))\n",
        "a2 = int(input(\"Giá trị min_value: \"))\n",
        "b2 = int(input(\"Giá trị max_value: \"))\n",
        "x2 = int(input(\"Số x: \"))\n",
        "pos2 = 0\n",
        "for i in range(n2):\n",
        "  list2.append(random.randint(a2, b2))\n",
        "print(list2)\n",
        "for i in list2:\n",
        "  pos2 += 1\n",
        "  if x2 == i:\n",
        "    print(\"Số\", x2, \"xuất hiện lần đầu tiên ở vị trí\", pos2)\n",
        "    print(\"Số bước lặp:\", pos2)\n",
        "    break\n",
        "else:\n",
        "  print(\"Không tìm thấy\")"
      ],
      "execution_count": 29,
      "outputs": [
        {
          "output_type": "stream",
          "name": "stdout",
          "text": [
            "Số phần tử của danh sách: 5\n",
            "Giá trị min_value: 1\n",
            "Giá trị max_value: 10\n",
            "Số x: 6\n",
            "[9, 2, 1, 6, 2]\n",
            "Số 6 xuất hiện lần đầu tiên ở vị trí 4\n",
            "Số bước lặp: 4\n"
          ]
        }
      ]
    },
    {
      "cell_type": "markdown",
      "metadata": {
        "id": "A8oRJQYb3jbA"
      },
      "source": [
        "Bài 3: Viết chương trình thực hiện các yêu cầu sau:\n",
        "- Bước 1: Sinh ngẫu nhiên 1 danh sách n số nguyên trong đoạn [a, b], với các thông số n, a\n",
        "và b được nhập vào từ bàn phím;\n",
        "- Bước 2: Nhập vào 1 số x từ bàn phím có giá trị trong đoạn [a, b];\n",
        "- Bước 3: Sắp xếp danh sách trên theo chiều tăng dần\n",
        "- Bước 4: Tìm kiếm x có xuất hiện trong danh sách trên hay không theo yêu cầu sau:\n",
        "\n",
        "o Nếu có thì trả về vị trí xuất hiện đầu tiên trong danh sách và thông báo số bước lặp đã thực hiện để tìm được phần tử này.\n",
        "\n",
        "o Ngược lại, thông báo không tìm thấy."
      ]
    },
    {
      "cell_type": "code",
      "metadata": {
        "colab": {
          "base_uri": "https://localhost:8080/"
        },
        "id": "uMlo7fTr3m5j",
        "outputId": "f9998c72-9d6b-4f9e-dcff-bc988585d865"
      },
      "source": [
        "def sap_xep_tang_dan(x):\n",
        "  len_x = len(x)\n",
        "  for i in range(len_x):\n",
        "    for j in range(i, len_x):\n",
        "      if (x[i] > x[j]):\n",
        "        convert = x[i]\n",
        "        x[i] = x[j]\n",
        "        x[j] = convert\n",
        "  return x\n",
        "\n",
        "list3 = []\n",
        "n3 = int(input(\"Số phần tử của danh sách: \"))\n",
        "a3 = int(input(\"Giá trị min_value: \"))\n",
        "b3 = int(input(\"Giá trị max_value: \"))\n",
        "x3 = int(input(\"Số x: \"))\n",
        "pos3 = 0\n",
        "for i in range(n3):\n",
        "  list3.append(random.randint(a3, b3))\n",
        "sap_xep_tang_dan(list3)\n",
        "print(list3)\n",
        "for i in list3:\n",
        "  pos3 += 1\n",
        "  if x3 == i:\n",
        "    print(\"Số\", x3, \"xuất hiện lần đầu tiên ở vị trí\", pos3)\n",
        "    print(\"Số bước lặp:\", pos3)\n",
        "    break\n",
        "else:\n",
        "  print(\"Không tìm thấy\")"
      ],
      "execution_count": 33,
      "outputs": [
        {
          "output_type": "stream",
          "name": "stdout",
          "text": [
            "Số phần tử của danh sách: 5\n",
            "Giá trị min_value: 1\n",
            "Giá trị max_value: 10\n",
            "Số x: 4\n",
            "[3, 4, 6, 9, 9]\n",
            "Số 4 xuất hiện lần đầu tiên ở vị trí 2\n",
            "Số bước lặp: 2\n"
          ]
        }
      ]
    },
    {
      "cell_type": "markdown",
      "metadata": {
        "id": "yjgS8Z-56GAq"
      },
      "source": [
        "Bài 4: Viết chương trình thực hiện các yêu cầu sau:\n",
        "- Bước 1: Sinh ngẫu nhiên 1 danh sách n số nguyên trong đoạn [a, b], với các thông số n, a\n",
        "và b được nhập vào từ bàn phím;\n",
        "- Bước 2: Nhập vào 1 số x từ bàn phím có giá trị trong đoạn [a, b];\n",
        "\n",
        "- Bước 3: Sắp xếp danh sách trên theo chiều tăng dần\n",
        "- Bước 4: Tìm kiếm x có xuất hiện trong danh sách trên hay không theo yêu cầu sau:\n",
        "\n",
        "o Nếu có thì trả về tất cả các vị trí xuất hiện trong danh sách và thông báo số bước lặp đã thực hiện để tìm được các phần tử này.\n",
        "\n",
        "o Ngược lại, thông báo không tìm thấy."
      ]
    },
    {
      "cell_type": "code",
      "metadata": {
        "colab": {
          "base_uri": "https://localhost:8080/"
        },
        "id": "MKzuuI5-6JhI",
        "outputId": "bc8df31b-4f8f-4363-bf51-425d3da0870f"
      },
      "source": [
        "list4 = []\n",
        "n4 = int(input(\"Số phần tử của danh sách: \"))\n",
        "a4 = int(input(\"Giá trị min_value: \"))\n",
        "b4 = int(input(\"Giá trị max_value: \"))\n",
        "x4 = int(input(\"Số x: \"))\n",
        "pos4 = 0\n",
        "find4 = 0\n",
        "for i in range(n4):\n",
        "  list4.append(random.randint(a4, b4))\n",
        "sap_xep_tang_dan(list4)\n",
        "print(list4)\n",
        "for i in list4:\n",
        "  pos4 += 1\n",
        "  if x4 == i:\n",
        "    print(\"Số\", x4, \"xuất hiện ở vị trí\", pos4)\n",
        "    print(\"Số bước lặp:\", pos4)\n",
        "    find4 += 1\n",
        "if find4 == 0:\n",
        "  print(\"Không tìm thấy\")"
      ],
      "execution_count": 37,
      "outputs": [
        {
          "output_type": "stream",
          "name": "stdout",
          "text": [
            "Số phần tử của danh sách: 20\n",
            "Giá trị min_value: 1\n",
            "Giá trị max_value: 10\n",
            "Số x: 7\n",
            "[1, 2, 2, 2, 3, 4, 4, 4, 5, 5, 6, 6, 7, 7, 8, 8, 9, 9, 10, 10]\n",
            "Số 7 xuất hiện ở vị trí 13\n",
            "Số bước lặp: 13\n",
            "Số 7 xuất hiện ở vị trí 14\n",
            "Số bước lặp: 14\n"
          ]
        }
      ]
    }
  ]
}