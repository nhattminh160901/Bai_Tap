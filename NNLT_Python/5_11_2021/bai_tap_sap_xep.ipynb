{
  "nbformat": 4,
  "nbformat_minor": 0,
  "metadata": {
    "colab": {
      "name": "bai_tap_sap_xep.ipynb",
      "provenance": [],
      "collapsed_sections": [],
      "authorship_tag": "ABX9TyMux2YDrHbQQs94OXIM4JMA",
      "include_colab_link": true
    },
    "kernelspec": {
      "name": "python3",
      "display_name": "Python 3"
    },
    "language_info": {
      "name": "python"
    }
  },
  "cells": [
    {
      "cell_type": "markdown",
      "metadata": {
        "id": "view-in-github",
        "colab_type": "text"
      },
      "source": [
        "<a href=\"https://colab.research.google.com/github/nhattminh160901/Bai_Tap/blob/main/NNLT_Python/5_11_2021/bai_tap_sap_xep.ipynb\" target=\"_parent\"><img src=\"https://colab.research.google.com/assets/colab-badge.svg\" alt=\"Open In Colab\"/></a>"
      ]
    },
    {
      "cell_type": "markdown",
      "metadata": {
        "id": "L3omZHR6dPlS"
      },
      "source": [
        "Bài 1: Viết chương trình nhập vào từ bàn phím một danh sách gồm 10 số nguyên và thực hiện các\n",
        "yêu cầu sau:\n",
        "- Sắp xếp danh sách trên theo chiều tăng dần\n",
        "- In kết quả ra màn hình"
      ]
    },
    {
      "cell_type": "code",
      "metadata": {
        "colab": {
          "base_uri": "https://localhost:8080/"
        },
        "id": "QrnptZU1dRzp",
        "outputId": "51064735-850c-4959-9b17-8780bc0813e8"
      },
      "source": [
        "n1 = int(input(\"Số phần từ của danh sách: \"))\n",
        "list1 = []\n",
        "for i in range(n1):\n",
        "  list1.append(int(input(\"Nhập số nguyên: \")))\n",
        "for i in range(n1):\n",
        "  for j in range(i, n1):\n",
        "    if (list1[i] > list1[j]):\n",
        "      convert1 = list1[i]\n",
        "      list1[i] = list1[j]\n",
        "      list1[j] = convert1\n",
        "list1"
      ],
      "execution_count": 11,
      "outputs": [
        {
          "name": "stdout",
          "output_type": "stream",
          "text": [
            "Số phần từ của danh sách: 5\n",
            "Nhập số nguyên: 3\n",
            "Nhập số nguyên: 564\n",
            "Nhập số nguyên: 98\n",
            "Nhập số nguyên: 9\n",
            "Nhập số nguyên: 1\n"
          ]
        },
        {
          "output_type": "execute_result",
          "data": {
            "text/plain": [
              "[1, 3, 9, 98, 564]"
            ]
          },
          "metadata": {},
          "execution_count": 11
        }
      ]
    },
    {
      "cell_type": "markdown",
      "metadata": {
        "id": "QbL3ietzdhJp"
      },
      "source": [
        "Bài 2: Viết chương trình thực hiện các yêu cầu sau:\n",
        "- Xây dựng hàm có tên nhap_danh_sach_so_nguyen(n), trong đó:\n",
        "\n",
        "o Tham số đầu vào n là số phần tử của danh sách;\n",
        "\n",
        "o Hàm này trả về một danh sách gồm n số nguyên được nhập vào từ bàn phím\n",
        "- Xây dựng hàm có tên sap_xep_danh_sach(x), trong đó:\n",
        "\n",
        "o Tham số đầu vào x là một danh sách các số nguyên\n",
        "\n",
        "o Hàm này trả về một danh sách các số nguyên được sắp xếp theo chiều tăng dần\n",
        "- Chương trình chính (__main__) gọi thực thi 2 hàm nêu trên và in kết quả sắp xếp ra màn\n",
        "hình."
      ]
    },
    {
      "cell_type": "code",
      "metadata": {
        "colab": {
          "base_uri": "https://localhost:8080/"
        },
        "id": "gZNYQ2Ypdjrx",
        "outputId": "6faad143-5d59-4045-8960-bb083742f5b4"
      },
      "source": [
        "def nhap_danh_sach_so_nguyen(n):\n",
        "  list2 = []\n",
        "  for i in range(n):\n",
        "    list2.append(int(input(\"Nhập số nguyên: \")))\n",
        "  return list2\n",
        "\n",
        "def sap_xep_danh_sach(x):\n",
        "  len_x = len(x)\n",
        "  for i in range(len_x):\n",
        "    for j in range(i, len_x):\n",
        "      if (x[i] > x[j]):\n",
        "        convert2 = x[i]\n",
        "        x[i] = x[j]\n",
        "        x[j] = convert2\n",
        "  return x\n",
        "\n",
        "n2 = int(input(\"Số phần từ của danh sách: \"))\n",
        "sap_xep_danh_sach(nhap_danh_sach_so_nguyen(n2))"
      ],
      "execution_count": 12,
      "outputs": [
        {
          "name": "stdout",
          "output_type": "stream",
          "text": [
            "Số phần từ của danh sách: 5\n",
            "Nhập số nguyên: 32\n",
            "Nhập số nguyên: 21\n",
            "Nhập số nguyên: 2345\n",
            "Nhập số nguyên: 9\n",
            "Nhập số nguyên: 323\n"
          ]
        },
        {
          "output_type": "execute_result",
          "data": {
            "text/plain": [
              "[9, 21, 32, 323, 2345]"
            ]
          },
          "metadata": {},
          "execution_count": 12
        }
      ]
    },
    {
      "cell_type": "markdown",
      "metadata": {
        "id": "3BC2r2SEe3xi"
      },
      "source": [
        "Bài 3: Viết chương trình nhập vào từ bàn phím một danh sách các số thực, theo các yeu cầu sau:\n",
        "- Sau khi nhập mỗi số thực từ bàn phím, chương trình hỏi người dùng có muốn tiếp tục nhập\n",
        "không. Nếu người dùng gõ ký tự n hoặc N thì kết thúc quá trình nhập;\n",
        "- Sắp xếp danh sách các số thực tren theo chiều giảm dần;\n",
        "- In kết quả ra màn hình."
      ]
    },
    {
      "cell_type": "code",
      "metadata": {
        "colab": {
          "base_uri": "https://localhost:8080/"
        },
        "id": "aKgjbvALe5oJ",
        "outputId": "8887927f-0e58-404f-f821-acfa8a631b72"
      },
      "source": [
        "list3 = []\n",
        "check3 = \"\"\n",
        "while True:\n",
        "  list3.append(float(input(\"Nhập số thực: \")))\n",
        "  check3 = input(\"Có muốn tiếp tục nhập không? Nếu không, nhập n hoặc N: \")\n",
        "  if check3 in \"nN\":\n",
        "    break\n",
        "for i in range(len(list3)):\n",
        "  for j in range(i, len(list3)):\n",
        "    if (list3[i] < list3[j]):\n",
        "      convert3 = list3[i]\n",
        "      list3[i] = list3[j]\n",
        "      list3[j] = convert3\n",
        "list3"
      ],
      "execution_count": 13,
      "outputs": [
        {
          "name": "stdout",
          "output_type": "stream",
          "text": [
            "Nhập số thực: 5.33\n",
            "Có muốn tiếp tục nhập không? Nếu không, nhập n hoặc N: tiếp tục\n",
            "Nhập số thực: 3214\n",
            "Có muốn tiếp tục nhập không? Nếu không, nhập n hoặc N: tiếp tục\n",
            "Nhập số thực: 12.5\n",
            "Có muốn tiếp tục nhập không? Nếu không, nhập n hoặc N: tiếp tục\n",
            "Nhập số thực: 23.32\n",
            "Có muốn tiếp tục nhập không? Nếu không, nhập n hoặc N: tiếp tục\n",
            "Nhập số thực: 23.321\n",
            "Có muốn tiếp tục nhập không? Nếu không, nhập n hoặc N: N\n"
          ]
        },
        {
          "output_type": "execute_result",
          "data": {
            "text/plain": [
              "[3214.0, 23.321, 23.32, 12.5, 5.33]"
            ]
          },
          "metadata": {},
          "execution_count": 13
        }
      ]
    },
    {
      "cell_type": "markdown",
      "metadata": {
        "id": "-LQRbGM6fbUB"
      },
      "source": [
        "Bài 4: Viết chương trình thực hiện các yêu cầu sau:\n",
        "- Xây dựng hàm nhap_danh_sach_so_thuc( ) thỏa mãn các yêu cầu sau:\n",
        "\n",
        "o Sau khi nhập mỗi số thực từ bàn phím, chương trình hỏi người dùng có muốn tiếp\n",
        "tục nhập không. Nếu người dùng gõ ký tự n hoặc N thì kết thúc quá trình nhập;\n",
        "\n",
        "o Hàm trả về danh sách các số thực đã nhập.\n",
        "- Xây dựng hàm sap_xep_danh_sach_so_thuc(x), với:\n",
        "\n",
        "o Tham số đầu vào x là một danh sách các số thực;\n",
        "\n",
        "o Hàm này trả về một danh sách các số thực được sắp xếp theo chiều giảm dần\n",
        "- Chương trình chính (__main__) gọi thực thi 2 hàm nêu trên và in kết quả sắp xếp ra màn\n",
        "hình."
      ]
    },
    {
      "cell_type": "code",
      "metadata": {
        "colab": {
          "base_uri": "https://localhost:8080/"
        },
        "id": "0wph1CPOfibB",
        "outputId": "777aee81-cb51-46cd-e4b6-61bcf91c8b59"
      },
      "source": [
        "def nhap_danh_sach_so_thuc():\n",
        "  list4 = []\n",
        "  check4 = \"\"\n",
        "  while True:\n",
        "    list4.append(float(input(\"Nhập số thực: \")))\n",
        "    check4 = input(\"Có muốn tiếp tục nhập không? Nếu không, nhập n hoặc N: \")\n",
        "    if check4 in \"nN\":\n",
        "      break\n",
        "  return list4\n",
        "\n",
        "def sap_xep_danh_sach_so_thuc(x):\n",
        "  len_x = len(x)\n",
        "  for i in range(len_x):\n",
        "    for j in range(i, len_x):\n",
        "      if (x[i] < x[j]):\n",
        "        convert2 = x[i]\n",
        "        x[i] = x[j]\n",
        "        x[j] = convert2\n",
        "  return x\n",
        "\n",
        "sap_xep_danh_sach_so_thuc(nhap_danh_sach_so_thuc())"
      ],
      "execution_count": 18,
      "outputs": [
        {
          "name": "stdout",
          "output_type": "stream",
          "text": [
            "Nhập số thực: 16.09\n",
            "Có muốn tiếp tục nhập không? Nếu không, nhập n hoặc N: tiếp\n",
            "Nhập số thực: 496.458\n",
            "Có muốn tiếp tục nhập không? Nếu không, nhập n hoặc N: có\n",
            "Nhập số thực: 496\n",
            "Có muốn tiếp tục nhập không? Nếu không, nhập n hoặc N: nothing to say\n",
            "Nhập số thực: 322.233\n",
            "Có muốn tiếp tục nhập không? Nếu không, nhập n hoặc N: bigdaddy notail\n",
            "Nhập số thực: 160.9\n",
            "Có muốn tiếp tục nhập không? Nếu không, nhập n hoặc N: n\n"
          ]
        },
        {
          "output_type": "execute_result",
          "data": {
            "text/plain": [
              "[496.458, 496.0, 322.233, 160.9, 16.09]"
            ]
          },
          "metadata": {},
          "execution_count": 18
        }
      ]
    },
    {
      "cell_type": "markdown",
      "metadata": {
        "id": "Qn7cUE83gOyC"
      },
      "source": [
        "Bài 5: Viết chương trình thực hiện các yêu cầu sau:\n",
        "- Sinh ngẫu nhiên 1 danh sách số nguyên gồm n phần tử. Trong đó, n được nhập vào từ bàn\n",
        "phím và số nguyên sinh ra nằm trong khoảng từ 0 đến max_value. Giá trị max_value được\n",
        "nhập vào từ bàn phím;\n",
        "- Hỏi người dùng lựa chọn sắp xếp danh sách trên theo chiều tăng dần hay giảm dần và sắp\n",
        "xếp danh sách theo lựa chọn của người dùng;\n",
        "- In kết quả sắp xếp ra màn hình."
      ]
    },
    {
      "cell_type": "code",
      "metadata": {
        "id": "4G16k-q4gRdZ",
        "colab": {
          "base_uri": "https://localhost:8080/"
        },
        "outputId": "f3c35471-a0c0-4b22-f604-b0e754c0007b"
      },
      "source": [
        "import random\n",
        "n5 = int(input(\"Số phần từ cho danh sách: \"))\n",
        "list5 = []\n",
        "check5 = 0\n",
        "max_value5 = int(input(\"Giá trị max_value: \"))\n",
        "for i in range(n5):\n",
        "  list5.append(random.randint(0, max_value5))\n",
        "while True:\n",
        "  check5 = int(input(\"Lựa chọn sắp xếp danh sách trên theo chiều tăng dần(1) hay giảm dần(2). Chọn 1 hoặc 2: \"))\n",
        "  if check5 == 1:\n",
        "    print(sap_xep_danh_sach(list5))\n",
        "    break\n",
        "  elif check5 == 2:\n",
        "    print(sap_xep_danh_sach_so_thuc(list5))\n",
        "    break"
      ],
      "execution_count": 21,
      "outputs": [
        {
          "output_type": "stream",
          "name": "stdout",
          "text": [
            "Số phần từ cho danh sách: 6\n",
            "Giá trị max_value: 100\n",
            "Lựa chọn sắp xếp danh sách trên theo chiều tăng dần(1) hay giảm dần(2). Chọn 1 hoặc 2: 3\n",
            "Lựa chọn sắp xếp danh sách trên theo chiều tăng dần(1) hay giảm dần(2). Chọn 1 hoặc 2: 1\n",
            "[16, 26, 48, 53, 69, 70]\n"
          ]
        }
      ]
    },
    {
      "cell_type": "markdown",
      "metadata": {
        "id": "FGm0XLL4w7-O"
      },
      "source": [
        "Bài 6: Viết chương trình thực hiện các yêu cầu sau:\n",
        "- Xây dựng hàm sinh_ngau_nhien_danh_sach_so_nguyen( ), thực hiện các thao tác sau:\n",
        "\n",
        "o Sinh ngẫu nhiên 1 danh sách số nguyên gồm n phần tử;\n",
        "\n",
        "o Trong đó, n được nhập vào từ bàn phím và số nguyên sinh ra nằm trong khoảng từ\n",
        "0 đến max_value;\n",
        "\n",
        "o Giá trị max_value được nhập vào từ bàn phím;\n",
        "\n",
        "o Hàm này trả về danh sách các số nguyên được sinh ngẫu nhiên ở trên.\n",
        "- Xây dựng hàm sap_xep_giam_dan(x), trong đó:\n",
        "\n",
        "o Tham số đầu vào x là một danh sách các số nguyên;\n",
        "\n",
        "o Hàm này trả về một danh sách các số nguyên được sắp xếp theo chiều giảm dần.\n",
        "- Xây dựng hàm sap_xep_tang_dan(x), trong đó:\n",
        "\n",
        "o Tham số đầu vào x là một danh sách các số nguyên;\n",
        "\n",
        "o Hàm này trả về một danh sách các số nguyên được sắp xếp theo chiều tăng dần.\n",
        "- Chương trình chính (__main__) gọi thực hiện các hàm trên và in kết quả ra màn hình."
      ]
    },
    {
      "cell_type": "code",
      "metadata": {
        "colab": {
          "base_uri": "https://localhost:8080/"
        },
        "id": "sNKoDpAhxEZs",
        "outputId": "4cc015be-15e5-47ba-a864-a1ddf96f9337"
      },
      "source": [
        "def sinh_ngau_nhien_danh_sach_so_nguyen(n, max_value):\n",
        "  list6 = []\n",
        "  for i in range(n):\n",
        "    list6.append(random.randint(0, max_value))\n",
        "  return list6\n",
        "\n",
        "def sap_xep_giam_dan(x):\n",
        "  sap_xep_danh_sach_so_thuc(x)\n",
        "  return x\n",
        "\n",
        "def sap_xep_tang_dan(x):\n",
        "  sap_xep_danh_sach(x)\n",
        "  return x\n",
        "\n",
        "n6 = int(input(\"Số phần từ cho danh sách: \"))\n",
        "max_value6 = int(input(\"Giá trị max_value: \"))\n",
        "print(sap_xep_giam_dan(sinh_ngau_nhien_danh_sach_so_nguyen(n6, max_value6)))\n",
        "sap_xep_tang_dan(sinh_ngau_nhien_danh_sach_so_nguyen(n6, max_value6))"
      ],
      "execution_count": 25,
      "outputs": [
        {
          "output_type": "stream",
          "name": "stdout",
          "text": [
            "Số phần từ cho danh sách: 10\n",
            "Giá trị max_value: 1000\n",
            "[987, 980, 802, 697, 559, 370, 159, 135, 102, 34]\n"
          ]
        },
        {
          "output_type": "execute_result",
          "data": {
            "text/plain": [
              "[76, 200, 289, 434, 731, 783, 796, 830, 861, 896]"
            ]
          },
          "metadata": {},
          "execution_count": 25
        }
      ]
    }
  ]
}