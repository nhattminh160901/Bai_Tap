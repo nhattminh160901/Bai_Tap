{
  "nbformat": 4,
  "nbformat_minor": 0,
  "metadata": {
    "colab": {
      "name": "bai_tap_sap_xep.ipynb",
      "provenance": [],
      "collapsed_sections": [],
      "authorship_tag": "ABX9TyOHBle2xbm2chen/IIXRqvn",
      "include_colab_link": true
    },
    "kernelspec": {
      "name": "python3",
      "display_name": "Python 3"
    },
    "language_info": {
      "name": "python"
    }
  },
  "cells": [
    {
      "cell_type": "markdown",
      "metadata": {
        "id": "view-in-github",
        "colab_type": "text"
      },
      "source": [
        "<a href=\"https://colab.research.google.com/github/nhattminh160901/Bai_Tap/blob/main/NNLT_Python/5_11_2021/bai_tap_sap_xep.ipynb\" target=\"_parent\"><img src=\"https://colab.research.google.com/assets/colab-badge.svg\" alt=\"Open In Colab\"/></a>"
      ]
    },
    {
      "cell_type": "markdown",
      "metadata": {
        "id": "L3omZHR6dPlS"
      },
      "source": [
        "Bài 1: Viết chương trình nhập vào từ bàn phím một danh sách gồm 10 số nguyên và thực hiện các\n",
        "yêu cầu sau:\n",
        "- Sắp xếp danh sách trên theo chiều tăng dần\n",
        "- In kết quả ra màn hình"
      ]
    },
    {
      "cell_type": "code",
      "metadata": {
        "colab": {
          "base_uri": "https://localhost:8080/"
        },
        "id": "QrnptZU1dRzp",
        "outputId": "2d83f1e9-e7a9-4622-cd6a-08f790e05df5"
      },
      "source": [
        "list1 = []\n",
        "for i in range(10):\n",
        "  list1.append(int(input(\"Nhập số nguyên: \")))\n",
        "for i in range(10):\n",
        "  for j in range(i, 10):\n",
        "    if list1[i] > list1[j]:\n",
        "      convert1 = list1[i]\n",
        "      list1[i] = list1[j]\n",
        "      list1[j] = convert1\n",
        "list1"
      ],
      "execution_count": 2,
      "outputs": [
        {
          "name": "stdout",
          "output_type": "stream",
          "text": [
            "Nhập số nguyên: 3\n",
            "Nhập số nguyên: 5\n",
            "Nhập số nguyên: 496\n",
            "Nhập số nguyên: 332\n",
            "Nhập số nguyên: 322\n",
            "Nhập số nguyên: 458\n",
            "Nhập số nguyên: 1\n",
            "Nhập số nguyên: 10\n",
            "Nhập số nguyên: 34\n",
            "Nhập số nguyên: 55\n"
          ]
        },
        {
          "output_type": "execute_result",
          "data": {
            "text/plain": [
              "[1, 3, 5, 10, 34, 55, 322, 332, 458, 496]"
            ]
          },
          "metadata": {},
          "execution_count": 2
        }
      ]
    },
    {
      "cell_type": "markdown",
      "metadata": {
        "id": "QbL3ietzdhJp"
      },
      "source": [
        "Bài 2: Viết chương trình thực hiện các yêu cầu sau:\n",
        "- Xây dựng hàm có tên nhap_danh_sach_so_nguyen(n), trong đó:\n",
        "\n",
        "o Tham số đầu vào n là số phần tử của danh sách;\n",
        "\n",
        "o Hàm này trả về một danh sách gồm n số nguyên được nhập vào từ bàn phím\n",
        "- Xây dựng hàm có tên sap_xep_danh_sach(x), trong đó:\n",
        "\n",
        "o Tham số đầu vào x là một danh sách các số nguyên\n",
        "\n",
        "o Hàm này trả về một danh sách các số nguyên được sắp xếp theo chiều tăng dần\n",
        "- Chương trình chính (__main__) gọi thực thi 2 hàm nêu trên và in kết quả sắp xếp ra màn\n",
        "hình."
      ]
    },
    {
      "cell_type": "code",
      "metadata": {
        "colab": {
          "base_uri": "https://localhost:8080/"
        },
        "id": "gZNYQ2Ypdjrx",
        "outputId": "7c1b03a3-c5b0-47a2-c999-3c00e6aceb31"
      },
      "source": [
        "def nhap_danh_sach_so_nguyen(n):\n",
        "  list2 = []\n",
        "  for i in range(n):\n",
        "    list2.append(int(input(\"Nhập số nguyên: \")))\n",
        "  return list2\n",
        "\n",
        "def sap_xep_danh_sach(x):\n",
        "  len_x = len(x)\n",
        "  for i in range(len_x):\n",
        "    for j in range(i, len_x):\n",
        "      if x[i] > x[j]:\n",
        "        convert2 = x[i]\n",
        "        x[i] = x[j]\n",
        "        x[j] = convert2\n",
        "  return x\n",
        "\n",
        "n2 = int(input(\"Số phần từ của danh sách: \"))\n",
        "sap_xep_danh_sach(nhap_danh_sach_so_nguyen(n2))"
      ],
      "execution_count": 3,
      "outputs": [
        {
          "name": "stdout",
          "output_type": "stream",
          "text": [
            "Số phần từ của danh sách: 5\n",
            "Nhập số nguyên: 32\n",
            "Nhập số nguyên: 21\n",
            "Nhập số nguyên: 2345\n",
            "Nhập số nguyên: 9\n",
            "Nhập số nguyên: 323\n"
          ]
        },
        {
          "output_type": "execute_result",
          "data": {
            "text/plain": [
              "[9, 21, 32, 323, 2345]"
            ]
          },
          "metadata": {},
          "execution_count": 3
        }
      ]
    },
    {
      "cell_type": "markdown",
      "metadata": {
        "id": "3BC2r2SEe3xi"
      },
      "source": [
        "Bài 3: Viết chương trình nhập vào từ bàn phím một danh sách các số thực, theo các yeu cầu sau:\n",
        "- Sau khi nhập mỗi số thực từ bàn phím, chương trình hỏi người dùng có muốn tiếp tục nhập\n",
        "không. Nếu người dùng gõ ký tự n hoặc N thì kết thúc quá trình nhập;\n",
        "- Sắp xếp danh sách các số thực tren theo chiều giảm dần;\n",
        "- In kết quả ra màn hình."
      ]
    },
    {
      "cell_type": "code",
      "metadata": {
        "colab": {
          "base_uri": "https://localhost:8080/"
        },
        "id": "aKgjbvALe5oJ",
        "outputId": "b9c74606-7764-46ea-953a-3e7e7cb0dfe8"
      },
      "source": [
        "list3 = []\n",
        "check3 = \"\"\n",
        "while True:\n",
        "  list3.append(float(input(\"Nhập số thực: \")))\n",
        "  check3 = input(\"Có muốn tiếp tục nhập không? Nếu không, nhập n hoặc N: \")\n",
        "  if check3 in \"nN\":\n",
        "    break\n",
        "for i in range(len(list3)):\n",
        "  for j in range(i, len(list3)):\n",
        "    if list3[i] < list3[j]:\n",
        "      convert3 = list3[i]\n",
        "      list3[i] = list3[j]\n",
        "      list3[j] = convert3\n",
        "list3"
      ],
      "execution_count": 4,
      "outputs": [
        {
          "name": "stdout",
          "output_type": "stream",
          "text": [
            "Nhập số thực: 5.33\n",
            "Có muốn tiếp tục nhập không? Nếu không, nhập n hoặc N: tiếp tục\n",
            "Nhập số thực: 3214\n",
            "Có muốn tiếp tục nhập không? Nếu không, nhập n hoặc N: tiếp tục\n",
            "Nhập số thực: 12.5\n",
            "Có muốn tiếp tục nhập không? Nếu không, nhập n hoặc N: tiếp tục\n",
            "Nhập số thực: 23.321\n",
            "Có muốn tiếp tục nhập không? Nếu không, nhập n hoặc N: tiếp tục\n",
            "Nhập số thực: 23.32\n",
            "Có muốn tiếp tục nhập không? Nếu không, nhập n hoặc N: N\n"
          ]
        },
        {
          "output_type": "execute_result",
          "data": {
            "text/plain": [
              "[3214.0, 23.321, 23.32, 12.5, 5.33]"
            ]
          },
          "metadata": {},
          "execution_count": 4
        }
      ]
    },
    {
      "cell_type": "markdown",
      "metadata": {
        "id": "-LQRbGM6fbUB"
      },
      "source": [
        "Bài 4: Viết chương trình thực hiện các yêu cầu sau:\n",
        "- Xây dựng hàm nhap_danh_sach_so_thuc( ) thỏa mãn các yêu cầu sau:\n",
        "\n",
        "o Sau khi nhập mỗi số thực từ bàn phím, chương trình hỏi người dùng có muốn tiếp\n",
        "tục nhập không. Nếu người dùng gõ ký tự n hoặc N thì kết thúc quá trình nhập;\n",
        "\n",
        "o Hàm trả về danh sách các số thực đã nhập.\n",
        "- Xây dựng hàm sap_xep_danh_sach_so_thuc(x), với:\n",
        "\n",
        "o Tham số đầu vào x là một danh sách các số thực;\n",
        "\n",
        "o Hàm này trả về một danh sách các số thực được sắp xếp theo chiều giảm dần\n",
        "- Chương trình chính (__main__) gọi thực thi 2 hàm nêu trên và in kết quả sắp xếp ra màn\n",
        "hình."
      ]
    },
    {
      "cell_type": "code",
      "metadata": {
        "colab": {
          "base_uri": "https://localhost:8080/"
        },
        "id": "0wph1CPOfibB",
        "outputId": "1b7b69f4-51a8-45e8-9279-4d94ea3527d0"
      },
      "source": [
        "def nhap_danh_sach_so_thuc():\n",
        "  list4 = []\n",
        "  check4 = \"\"\n",
        "  while True:\n",
        "    list4.append(float(input(\"Nhập số thực: \")))\n",
        "    check4 = input(\"Có muốn tiếp tục nhập không? Nếu không, nhập n hoặc N: \")\n",
        "    if check4 in \"nN\":\n",
        "      break\n",
        "  return list4\n",
        "\n",
        "def sap_xep_danh_sach_so_thuc(x):\n",
        "  len_x = len(x)\n",
        "  for i in range(len_x):\n",
        "    for j in range(i, len_x):\n",
        "      if x[i] < x[j]:\n",
        "        convert2 = x[i]\n",
        "        x[i] = x[j]\n",
        "        x[j] = convert2\n",
        "  return x\n",
        "\n",
        "sap_xep_danh_sach_so_thuc(nhap_danh_sach_so_thuc())"
      ],
      "execution_count": 5,
      "outputs": [
        {
          "name": "stdout",
          "output_type": "stream",
          "text": [
            "Nhập số thực: 16.09\n",
            "Có muốn tiếp tục nhập không? Nếu không, nhập n hoặc N: tiếp\n",
            "Nhập số thực: 496.458\n",
            "Có muốn tiếp tục nhập không? Nếu không, nhập n hoặc N: có\n",
            "Nhập số thực: 496\n",
            "Có muốn tiếp tục nhập không? Nếu không, nhập n hoặc N: nothing to say\n",
            "Nhập số thực: 322.233\n",
            "Có muốn tiếp tục nhập không? Nếu không, nhập n hoặc N: bigdaddy notail\n",
            "Nhập số thực: 160.9\n",
            "Có muốn tiếp tục nhập không? Nếu không, nhập n hoặc N: n\n"
          ]
        },
        {
          "output_type": "execute_result",
          "data": {
            "text/plain": [
              "[496.458, 496.0, 322.233, 160.9, 16.09]"
            ]
          },
          "metadata": {},
          "execution_count": 5
        }
      ]
    },
    {
      "cell_type": "markdown",
      "metadata": {
        "id": "Qn7cUE83gOyC"
      },
      "source": [
        "Bài 5: Viết chương trình thực hiện các yêu cầu sau:\n",
        "- Sinh ngẫu nhiên 1 danh sách số nguyên gồm n phần tử. Trong đó, n được nhập vào từ bàn\n",
        "phím và số nguyên sinh ra nằm trong khoảng từ 0 đến max_value. Giá trị max_value được\n",
        "nhập vào từ bàn phím;\n",
        "- Hỏi người dùng lựa chọn sắp xếp danh sách trên theo chiều tăng dần hay giảm dần và sắp\n",
        "xếp danh sách theo lựa chọn của người dùng;\n",
        "- In kết quả sắp xếp ra màn hình."
      ]
    },
    {
      "cell_type": "code",
      "metadata": {
        "id": "4G16k-q4gRdZ",
        "colab": {
          "base_uri": "https://localhost:8080/"
        },
        "outputId": "203b6462-e9e6-439b-b4a4-e66f5f707416"
      },
      "source": [
        "import random\n",
        "n5 = int(input(\"Số phần từ của danh sách: \"))\n",
        "list5 = []\n",
        "check5 = 0\n",
        "max_value5 = int(input(\"Giá trị max_value: \"))\n",
        "for i in range(n5):\n",
        "  list5.append(random.randint(0, max_value5))\n",
        "while True:\n",
        "  check5 = int(input(\"Lựa chọn sắp xếp danh sách trên theo chiều tăng dần(1) hay giảm dần(2). Chọn 1 hoặc 2: \"))\n",
        "  if check5 == 1:\n",
        "    print(sap_xep_danh_sach(list5))\n",
        "    break\n",
        "  elif check5 == 2:\n",
        "    print(sap_xep_danh_sach_so_thuc(list5))\n",
        "    break"
      ],
      "execution_count": 7,
      "outputs": [
        {
          "output_type": "stream",
          "name": "stdout",
          "text": [
            "Số phần từ của danh sách: 6\n",
            "Giá trị max_value: 100\n",
            "Lựa chọn sắp xếp danh sách trên theo chiều tăng dần(1) hay giảm dần(2). Chọn 1 hoặc 2: 3\n",
            "Lựa chọn sắp xếp danh sách trên theo chiều tăng dần(1) hay giảm dần(2). Chọn 1 hoặc 2: 1\n",
            "[16, 42, 53, 63, 63, 89]\n"
          ]
        }
      ]
    },
    {
      "cell_type": "markdown",
      "metadata": {
        "id": "FGm0XLL4w7-O"
      },
      "source": [
        "Bài 6: Viết chương trình thực hiện các yêu cầu sau:\n",
        "- Xây dựng hàm sinh_ngau_nhien_danh_sach_so_nguyen( ), thực hiện các thao tác sau:\n",
        "\n",
        "o Sinh ngẫu nhiên 1 danh sách số nguyên gồm n phần tử;\n",
        "\n",
        "o Trong đó, n được nhập vào từ bàn phím và số nguyên sinh ra nằm trong khoảng từ\n",
        "0 đến max_value;\n",
        "\n",
        "o Giá trị max_value được nhập vào từ bàn phím;\n",
        "\n",
        "o Hàm này trả về danh sách các số nguyên được sinh ngẫu nhiên ở trên.\n",
        "- Xây dựng hàm sap_xep_giam_dan(x), trong đó:\n",
        "\n",
        "o Tham số đầu vào x là một danh sách các số nguyên;\n",
        "\n",
        "o Hàm này trả về một danh sách các số nguyên được sắp xếp theo chiều giảm dần.\n",
        "- Xây dựng hàm sap_xep_tang_dan(x), trong đó:\n",
        "\n",
        "o Tham số đầu vào x là một danh sách các số nguyên;\n",
        "\n",
        "o Hàm này trả về một danh sách các số nguyên được sắp xếp theo chiều tăng dần.\n",
        "- Chương trình chính (__main__) gọi thực hiện các hàm trên và in kết quả ra màn hình."
      ]
    },
    {
      "cell_type": "code",
      "metadata": {
        "colab": {
          "base_uri": "https://localhost:8080/"
        },
        "id": "sNKoDpAhxEZs",
        "outputId": "456b4bc8-4671-450e-a246-89bf54a6ded5"
      },
      "source": [
        "def sinh_ngau_nhien_danh_sach_so_nguyen(n, max_value):\n",
        "  list6 = []\n",
        "  for i in range(n):\n",
        "    list6.append(random.randint(0, max_value))\n",
        "  return list6\n",
        "\n",
        "def sap_xep_giam_dan(x):\n",
        "  sap_xep_danh_sach_so_thuc(x)\n",
        "  return x\n",
        "\n",
        "def sap_xep_tang_dan(x):\n",
        "  sap_xep_danh_sach(x)\n",
        "  return x\n",
        "\n",
        "n6 = int(input(\"Số phần từ của danh sách: \"))\n",
        "max_value6 = int(input(\"Giá trị max_value: \"))\n",
        "print(sap_xep_giam_dan(sinh_ngau_nhien_danh_sach_so_nguyen(n6, max_value6)))\n",
        "sap_xep_tang_dan(sinh_ngau_nhien_danh_sach_so_nguyen(n6, max_value6))"
      ],
      "execution_count": 8,
      "outputs": [
        {
          "output_type": "stream",
          "name": "stdout",
          "text": [
            "Số phần từ của danh sách: 10\n",
            "Giá trị max_value: 1000\n",
            "[842, 806, 800, 758, 605, 455, 363, 244, 91, 43]\n"
          ]
        },
        {
          "output_type": "execute_result",
          "data": {
            "text/plain": [
              "[7, 114, 186, 187, 332, 418, 610, 786, 920, 950]"
            ]
          },
          "metadata": {},
          "execution_count": 8
        }
      ]
    }
  ]
}
