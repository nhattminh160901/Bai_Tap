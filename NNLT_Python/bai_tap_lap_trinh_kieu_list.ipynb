{
  "nbformat": 4,
  "nbformat_minor": 0,
  "metadata": {
    "colab": {
      "name": "bai_tap_lap_trinh_kieu_list.ipynb",
      "provenance": [],
      "collapsed_sections": [],
      "authorship_tag": "ABX9TyMNt2cm9ej1iYDOR6JLBxX3",
      "include_colab_link": true
    },
    "kernelspec": {
      "name": "python3",
      "display_name": "Python 3"
    },
    "language_info": {
      "name": "python"
    }
  },
  "cells": [
    {
      "cell_type": "markdown",
      "metadata": {
        "id": "view-in-github",
        "colab_type": "text"
      },
      "source": [
        "<a href=\"https://colab.research.google.com/github/nhattminh160901/Bai_Tap/blob/main/NNLT_Python/bai_tap_lap_trinh_kieu_list.ipynb\" target=\"_parent\"><img src=\"https://colab.research.google.com/assets/colab-badge.svg\" alt=\"Open In Colab\"/></a>"
      ]
    },
    {
      "cell_type": "code",
      "metadata": {
        "colab": {
          "base_uri": "https://localhost:8080/"
        },
        "id": "kJUYSgLieR5S",
        "outputId": "41ec7093-53cb-40c2-ead4-3eef1963040c"
      },
      "source": [
        "#1) Tạo một biến x kiểu List rỗng\n",
        "x = []\n",
        "#2) Thêm giá trị 18 vào x\n",
        "x.append(18)\n",
        "#3) Thêm giá trị \"Huế\" vào x\n",
        "x.append(\"Hue\")\n",
        "#4) Tạo 1 List y = [12, 45, -1, -0.56, \"abc\"]\n",
        "y = [12, 45, -1, -0.56, \"abc\"]\n",
        "#5) Thêm y vào x\n",
        "x = x + y\n",
        "#6) Xuất giá trị của x ra màn hình\n",
        "print(\"x: \", x)\n",
        "#7) In ra màn hình giá trị của phần tử cuối cùng và phần tử đầu tiên của x\n",
        "print(\"Phần tử cuối cùng:\",x[-1], \"\\nPhần tử đầu tiên:\",x[0])\n",
        "#8) In ra màn hình giá trị của phần tử đầu tiên đến phần tử thứ 5 của x\n",
        "print(\"Phần tử đầu tiên đến phần tử thứ 5:\", x[0:5])\n",
        "#9) In ra màn hình giá trị của phần từ thứ 3 đến cuối cùng của x\n",
        "print(\"Phần tử thứ 3 đến cuối cùng:\", x[2:])"
      ],
      "execution_count": null,
      "outputs": [
        {
          "output_type": "stream",
          "name": "stdout",
          "text": [
            "x:  [18, 'Hue', 12, 45, -1, -0.56, 'abc']\n",
            "Phần tử cuối cùng: abc \n",
            "Phần tử đầu tiên: 18\n",
            "Phần tử đầu tiên đến phần tử thứ 5: [18, 'Hue', 12, 45, -1]\n",
            "Phần tử thứ 3 đến cuối cùng: [12, 45, -1, -0.56, 'abc']\n"
          ]
        }
      ]
    }
  ]
}