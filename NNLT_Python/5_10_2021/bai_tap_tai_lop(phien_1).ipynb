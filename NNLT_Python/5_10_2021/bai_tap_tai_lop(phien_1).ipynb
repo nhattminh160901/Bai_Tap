{
  "nbformat": 4,
  "nbformat_minor": 0,
  "metadata": {
    "colab": {
      "name": "bai_tap_tai_lop(phien_1).ipynb",
      "provenance": [],
      "authorship_tag": "ABX9TyNlNeBeRWsWbnzymj2+A3YE",
      "include_colab_link": true
    },
    "kernelspec": {
      "name": "python3",
      "display_name": "Python 3"
    },
    "language_info": {
      "name": "python"
    }
  },
  "cells": [
    {
      "cell_type": "markdown",
      "metadata": {
        "id": "view-in-github",
        "colab_type": "text"
      },
      "source": [
        "<a href=\"https://colab.research.google.com/github/nhattminh160901/Bai_Tap/blob/main/NNLT_Python/5_10_2021/bai_tap_tai_lop(phien_1).ipynb\" target=\"_parent\"><img src=\"https://colab.research.google.com/assets/colab-badge.svg\" alt=\"Open In Colab\"/></a>"
      ]
    },
    {
      "cell_type": "code",
      "metadata": {
        "colab": {
          "base_uri": "https://localhost:8080/"
        },
        "id": "Ldgj67C7iPPG",
        "outputId": "df386bc3-1043-43f0-c388-dc1a3bbd2f12"
      },
      "source": [
        "#1. Write a Python program to get a number from the user and print whether it is positive or negative\n",
        "number = float(input('Input number: '))\n",
        "if number > 0:\n",
        "  print('Number is positive')\n",
        "elif number < 0:\n",
        "  print('Number is negative')\n",
        "else:\n",
        "  print('Number is 0')"
      ],
      "execution_count": 4,
      "outputs": [
        {
          "output_type": "stream",
          "name": "stdout",
          "text": [
            "Input number: -5\n",
            "Number is negative\n"
          ]
        }
      ]
    },
    {
      "cell_type": "code",
      "metadata": {
        "colab": {
          "base_uri": "https://localhost:8080/"
        },
        "id": "3_JAjLmBicOP",
        "outputId": "c7ea6e2c-e58a-4b48-9405-8ba1f23c72eb"
      },
      "source": [
        "#2 Take three numbers from the user and print the greatest number\n",
        "number1 = float(input('Input number1: '))\n",
        "number2 = float(input('Input number2: '))\n",
        "number3 = float(input('Input number3: '))\n",
        "max = number1\n",
        "if max < number2:\n",
        "  max = number2\n",
        "  if max < number3:\n",
        "    max = number3\n",
        "print('The greatest:', max)"
      ],
      "execution_count": 3,
      "outputs": [
        {
          "output_type": "stream",
          "name": "stdout",
          "text": [
            "Input number1: 1\n",
            "Input number2: 2\n",
            "Input number3: 3\n",
            "The greatest: 3.0\n"
          ]
        }
      ]
    },
    {
      "cell_type": "code",
      "metadata": {
        "colab": {
          "base_uri": "https://localhost:8080/"
        },
        "id": "EA30tD-JieMn",
        "outputId": "eac7d346-68b9-4da0-e99a-e5d7661e8880"
      },
      "source": [
        "#3. Write a Python program that reads a floating-point number and prints \"zero\" if the number is zero. Otherwise, print \"positive\" or \"negative\". Add \"small\" if the absolute value of the number is less than 1, or \"large\" if it exceeds 1,000,000.\n",
        "another_number = float(input('Input number: '))\n",
        "a = abs(another_number)\n",
        "print('Input value:', a)\n",
        "if number > 0:\n",
        "  print('Number is positive')\n",
        "elif number < 0:\n",
        "  print('Number is negative')\n",
        "else:\n",
        "  print('Number is 0')\n",
        "if a < 1:\n",
        "  print('small')\n",
        "if a > 1000000:\n",
        "  print('large')"
      ],
      "execution_count": 2,
      "outputs": [
        {
          "output_type": "stream",
          "name": "stdout",
          "text": [
            "Input number: -0.8\n",
            "Input value: 0.8\n",
            "Number is positive\n",
            "small\n"
          ]
        }
      ]
    },
    {
      "cell_type": "code",
      "metadata": {
        "colab": {
          "base_uri": "https://localhost:8080/"
        },
        "id": "BlJT5FT-i-jQ",
        "outputId": "347bea2b-79e6-4745-fede-add629fce5bc"
      },
      "source": [
        "#4. Write a Python program that keeps a number from the user and generates an integer between 1 and 7 and displays the name of the weekday.\n",
        "weekday = {1:'Monday', 2:'Tuesday', 3:'Wednesday', 4:'Thursday', 5:'Friday', 6:'Saturday', 7:'Sunday'}\n",
        "another_number1 = int(input(\"Input number (between 1 and 7): \"))\n",
        "print(weekday[another_number1])"
      ],
      "execution_count": 17,
      "outputs": [
        {
          "output_type": "stream",
          "name": "stdout",
          "text": [
            "Input number (between 1 and 7): 7\n",
            "Sunday\n"
          ]
        }
      ]
    },
    {
      "cell_type": "code",
      "metadata": {
        "colab": {
          "base_uri": "https://localhost:8080/"
        },
        "id": "qSgrvSRxk0fq",
        "outputId": "8663e820-bb69-4c42-d87d-15307396eab0"
      },
      "source": [
        "#5. Write a Python program that reads in two floating-point numbers and tests whether they are the\n",
        "same up to three decimal places.\n",
        "vipnumber1 = float(input('Input floating-point number: '))\n",
        "vipnumber2 = float(input('Input floating-point another number: '))\n",
        "if format(vipnumber1, '.3f') == format(vipnumber2, '.3f'):\n",
        "  print('They are same')\n",
        "else:\n",
        "  print('They are different')"
      ],
      "execution_count": 16,
      "outputs": [
        {
          "output_type": "stream",
          "name": "stdout",
          "text": [
            "Input floating-point number: 0.5550\n",
            "Input floating-point another number: 0.5549\n",
            "They are same\n"
          ]
        }
      ]
    }
  ]
}