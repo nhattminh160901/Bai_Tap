{
  "nbformat": 4,
  "nbformat_minor": 0,
  "metadata": {
    "colab": {
      "name": "bai_tap_tai_lop(phien_1).ipynb",
      "provenance": [],
      "authorship_tag": "ABX9TyOaf+ybplub6OR8LYRgs1/I",
      "include_colab_link": true
    },
    "kernelspec": {
      "name": "python3",
      "display_name": "Python 3"
    },
    "language_info": {
      "name": "python"
    }
  },
  "cells": [
    {
      "cell_type": "markdown",
      "metadata": {
        "id": "view-in-github",
        "colab_type": "text"
      },
      "source": [
        "<a href=\"https://colab.research.google.com/github/nhattminh160901/Bai_Tap/blob/main/NNLT_Python/5_10_2021/bai_tap_tai_lop(phien_1).ipynb\" target=\"_parent\"><img src=\"https://colab.research.google.com/assets/colab-badge.svg\" alt=\"Open In Colab\"/></a>"
      ]
    },
    {
      "cell_type": "code",
      "metadata": {
        "colab": {
          "base_uri": "https://localhost:8080/"
        },
        "id": "Ldgj67C7iPPG",
        "outputId": "cb844440-e646-4830-b687-49a5b190ac2f"
      },
      "source": [
        "#1. Write a Python program to get a number from the user and print whether it is positive or negative\n",
        "number = float(input('Input number: '))\n",
        "if number > 0:\n",
        "  print('Number is positive')\n",
        "elif number < 0:\n",
        "  print('Number is negative')\n",
        "else:\n",
        "  print('Number is 0')"
      ],
      "execution_count": 1,
      "outputs": [
        {
          "output_type": "stream",
          "name": "stdout",
          "text": [
            "Input number: -6\n",
            "Number is negative\n"
          ]
        }
      ]
    },
    {
      "cell_type": "code",
      "metadata": {
        "colab": {
          "base_uri": "https://localhost:8080/"
        },
        "id": "3_JAjLmBicOP",
        "outputId": "8e6e9f5c-a4bf-4467-cc44-a16ea4490fba"
      },
      "source": [
        "#2 Take three numbers from the user and print the greatest number\n",
        "number1 = float(input('Input number1: '))\n",
        "number2 = float(input('Input number2: '))\n",
        "number3 = float(input('Input number3: '))\n",
        "max = number1\n",
        "if max < number2:\n",
        "  max = number2\n",
        "  if max < number3:\n",
        "    max = number3\n",
        "print('The greatest:', max)"
      ],
      "execution_count": 2,
      "outputs": [
        {
          "output_type": "stream",
          "name": "stdout",
          "text": [
            "Input number1: 3\n",
            "Input number2: 6\n",
            "Input number3: 2\n",
            "The greatest: 6.0\n"
          ]
        }
      ]
    },
    {
      "cell_type": "code",
      "metadata": {
        "colab": {
          "base_uri": "https://localhost:8080/"
        },
        "id": "EA30tD-JieMn",
        "outputId": "a0b6f2d3-ab0a-40fd-b747-231e2ebc48b6"
      },
      "source": [
        "#3. Write a Python program that reads a floating-point number and prints \"zero\" if the number is zero. Otherwise, print \"positive\" or \"negative\". Add \"small\" if the absolute value of the number is less than 1, or \"large\" if it exceeds 1,000,000.\n",
        "another_number = float(input('Input number: '))\n",
        "a = abs(another_number)\n",
        "print('Input value:', a)\n",
        "if another_number > 0:\n",
        "  print('Number is positive')\n",
        "elif another_number < 0:\n",
        "  print('Number is negative')\n",
        "else:\n",
        "  print('Number is 0')\n",
        "if a < 1:\n",
        "  print('small')\n",
        "if a > 1000000:\n",
        "  print('large')"
      ],
      "execution_count": 3,
      "outputs": [
        {
          "output_type": "stream",
          "name": "stdout",
          "text": [
            "Input number: -9\n",
            "Input value: 9.0\n",
            "Number is negative\n"
          ]
        }
      ]
    },
    {
      "cell_type": "code",
      "metadata": {
        "colab": {
          "base_uri": "https://localhost:8080/"
        },
        "id": "BlJT5FT-i-jQ",
        "outputId": "2388bee3-d8fc-4083-a438-42f0ec04a114"
      },
      "source": [
        "#4. Write a Python program that keeps a number from the user and generates an integer between 1 and 7 and displays the name of the weekday.\n",
        "weekday = {1:'Monday', 2:'Tuesday', 3:'Wednesday', 4:'Thursday', 5:'Friday', 6:'Saturday', 7:'Sunday'}\n",
        "another_number1 = int(input(\"Input number (between 1 and 7): \"))\n",
        "print(weekday[another_number1])"
      ],
      "execution_count": 11,
      "outputs": [
        {
          "output_type": "stream",
          "name": "stdout",
          "text": [
            "Input number (between 1 and 7): 7\n",
            "Sunday\n"
          ]
        }
      ]
    },
    {
      "cell_type": "code",
      "metadata": {
        "colab": {
          "base_uri": "https://localhost:8080/"
        },
        "id": "qSgrvSRxk0fq",
        "outputId": "995d4341-712f-4589-c123-fa1a44a5aa38"
      },
      "source": [
        "#5. Write a Python program that reads in two floating-point numbers and tests whether they are the same up to three decimal places.\n",
        "vipnumber1 = float(input('Input floating-point number: '))\n",
        "vipnumber2 = float(input('Input floating-point another number: '))\n",
        "if format(vipnumber1, '.3f') == format(vipnumber2, '.3f'):\n",
        "  print('They are same')\n",
        "else:\n",
        "  print('They are different')"
      ],
      "execution_count": 13,
      "outputs": [
        {
          "output_type": "stream",
          "name": "stdout",
          "text": [
            "Input floating-point number: 5.5569\n",
            "Input floating-point another number: 5.5564\n",
            "They are different\n"
          ]
        }
      ]
    }
  ]
}