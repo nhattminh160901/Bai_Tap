{
  "nbformat": 4,
  "nbformat_minor": 0,
  "metadata": {
    "colab": {
      "name": "bai_tap_tai_lop.ipynb",
      "provenance": [],
      "authorship_tag": "ABX9TyOMjhSqo0NA06zYKWPxol7g",
      "include_colab_link": true
    },
    "kernelspec": {
      "name": "python3",
      "display_name": "Python 3"
    },
    "language_info": {
      "name": "python"
    }
  },
  "cells": [
    {
      "cell_type": "markdown",
      "metadata": {
        "id": "view-in-github",
        "colab_type": "text"
      },
      "source": [
        "<a href=\"https://colab.research.google.com/github/nhattminh160901/Bai_Tap/blob/main/NNLT_Python/5_10_2021/bai_tap_tai_lop.ipynb\" target=\"_parent\"><img src=\"https://colab.research.google.com/assets/colab-badge.svg\" alt=\"Open In Colab\"/></a>"
      ]
    },
    {
      "cell_type": "code",
      "metadata": {
        "colab": {
          "base_uri": "https://localhost:8080/"
        },
        "id": "PLfgGTgGTOkh",
        "outputId": "73054b42-3f16-4483-c319-b89d5e68d21b"
      },
      "source": [
        "dtb = float(input('Nhập điểm trung bình: '))\n",
        "if dtb >= 0 and dtb < 5:\n",
        "  print('Yếu')\n",
        "elif dtb < 7:\n",
        "  print('Trung bình')\n",
        "elif dtb < 8:\n",
        "  print('Khá')\n",
        "elif dtb < 9:\n",
        "  print('Giỏi')\n",
        "else:\n",
        "  print('Xuất sắc')"
      ],
      "execution_count": 11,
      "outputs": [
        {
          "output_type": "stream",
          "name": "stdout",
          "text": [
            "Nhập điểm trung bình: 8.5\n",
            "Giỏi\n"
          ]
        }
      ]
    }
  ]
}
