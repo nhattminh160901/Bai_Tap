{
  "nbformat": 4,
  "nbformat_minor": 0,
  "metadata": {
    "colab": {
      "name": "bai_tap_ve_ham.ipynb",
      "provenance": [],
      "authorship_tag": "ABX9TyOpvFsf62wJs/wYMEwze5im",
      "include_colab_link": true
    },
    "kernelspec": {
      "name": "python3",
      "display_name": "Python 3"
    },
    "language_info": {
      "name": "python"
    }
  },
  "cells": [
    {
      "cell_type": "markdown",
      "metadata": {
        "id": "view-in-github",
        "colab_type": "text"
      },
      "source": [
        "<a href=\"https://colab.research.google.com/github/nhattminh160901/Bai_Tap/blob/main/NNLT_Python/26_10_2021/bai_tap_ve_ham.ipynb\" target=\"_parent\"><img src=\"https://colab.research.google.com/assets/colab-badge.svg\" alt=\"Open In Colab\"/></a>"
      ]
    },
    {
      "cell_type": "markdown",
      "metadata": {
        "id": "Ggq3InwdmhRC"
      },
      "source": [
        "Bài 1: Hãy xây dựng một hàm thực hiện các yêu cầu sau:\n",
        "- Xuất ra màn hình câu thông báo: “Lập trình Java 2021”\n",
        "- Hàm không có giá trị trả về\n",
        "Từ chương trình chính, gọi thực hiện hàm này."
      ]
    },
    {
      "cell_type": "code",
      "metadata": {
        "colab": {
          "base_uri": "https://localhost:8080/"
        },
        "id": "lFre5Rq7mjO5",
        "outputId": "04227788-66d4-432c-a536-f1740f0a0810"
      },
      "source": [
        "def bai_1():\n",
        "  print(\"Lập trình Java 2021\")\n",
        "\n",
        "bai_1()"
      ],
      "execution_count": null,
      "outputs": [
        {
          "output_type": "stream",
          "name": "stdout",
          "text": [
            "Lập trình Java 2021\n"
          ]
        }
      ]
    },
    {
      "cell_type": "markdown",
      "metadata": {
        "id": "BR0NdEZQmyhu"
      },
      "source": [
        "Bài 2: Hãy xây dựng một hàm thực hiện các yêu cầu sau:\n",
        "- Nhận một tham số đầu vào là một chuỗi ký tự (kiểu String)\n",
        "- Xuất ra màn hình nội dung chuỗi được truyền vào từ tham số\n",
        "- Hàm không có giá trị trả về\n",
        "Từ chương trình chính gọi thực hiện hàm này."
      ]
    },
    {
      "cell_type": "code",
      "metadata": {
        "colab": {
          "base_uri": "https://localhost:8080/"
        },
        "id": "0SvsJ0uMm1Mr",
        "outputId": "3aa419cc-d15d-4bc9-cff0-f5fb84ed2409"
      },
      "source": [
        "def bai_2(chuoi):\n",
        "  print(chuoi)\n",
        "\n",
        "chuoi2 = input(\"Nhâp chuỗi: \")\n",
        "bai_2(chuoi2)"
      ],
      "execution_count": null,
      "outputs": [
        {
          "output_type": "stream",
          "name": "stdout",
          "text": [
            "Nhâp chuỗi: abc123jqkvippro,sieu cap hokage\n",
            "abc123jqkvippro,sieu cap hokage\n"
          ]
        }
      ]
    },
    {
      "cell_type": "markdown",
      "metadata": {
        "id": "pB89DLYZniTJ"
      },
      "source": [
        "Bài 3: Hãy viết chương trình thực hiện các yêu cầu sau:\n",
        "- Nhập một số nguyên dương n từ bàn phím (kiểm tra nếu không đạt yêu cầu thì bắt nhập\n",
        "lại)\n",
        "- Nhập một thông điệp từ bàn phím\n",
        "- Gọi thực hiện hàm ở Bài 2 n lần với thông điệp được truyền làm tham số đầu vào của hàm."
      ]
    },
    {
      "cell_type": "code",
      "metadata": {
        "colab": {
          "base_uri": "https://localhost:8080/"
        },
        "id": "ChdYR48VoSfU",
        "outputId": "789e9931-6734-45a2-cd5c-f2b943a43f85"
      },
      "source": [
        "import string\n",
        "while True:\n",
        "  n3 = input(\"Nhập số nguyên n: \")\n",
        "  if n3 in string.digits:\n",
        "    n3 = int(n3)\n",
        "    break\n",
        "chuoi3 = input(\"Nhâp chuỗi: \")\n",
        "for i in range(n3):\n",
        "  bai_2(chuoi3)"
      ],
      "execution_count": null,
      "outputs": [
        {
          "output_type": "stream",
          "name": "stdout",
          "text": [
            "Nhập số nguyên n: a\n",
            "Nhập số nguyên n: b\n",
            "Nhập số nguyên n: 6\n",
            "Nhâp chuỗi: sieu cap vu tru songoku\n",
            "sieu cap vu tru songoku\n",
            "sieu cap vu tru songoku\n",
            "sieu cap vu tru songoku\n",
            "sieu cap vu tru songoku\n",
            "sieu cap vu tru songoku\n",
            "sieu cap vu tru songoku\n"
          ]
        }
      ]
    },
    {
      "cell_type": "markdown",
      "metadata": {
        "id": "dMYwkLr3pWxi"
      },
      "source": [
        "Bài 4: Hãy viết chương trình thực hiện các yêu cầu sau:\n",
        "- Xây dựng hàm giải phương trình bậc 1 (ax + b = 0), với hệ số a & b được truyền vào qua\n",
        "thông số của hàm.\n",
        "- Chương trình chính nhận các thông số a, b từ bàn phím\n",
        "- Chương trình chính gọi hàm giải phương trình bậc 1 nêu trên"
      ]
    },
    {
      "cell_type": "code",
      "metadata": {
        "colab": {
          "base_uri": "https://localhost:8080/"
        },
        "id": "gx2L3_Xwnjl0",
        "outputId": "6dd92e13-10db-40a3-a3ec-20004b87b3d1"
      },
      "source": [
        "def bai_4(a, b):\n",
        "  if a == 0:\n",
        "    if b == 0:\n",
        "      result = \"Phương trình vô số nghiệm\"\n",
        "    else:\n",
        "      result = \"Phương trình vô nghiệm\"\n",
        "  else:\n",
        "    result = -b/a\n",
        "    return result\n",
        "a4 = int(input(\"Nhập hệ số a: \"))\n",
        "b4 = int(input(\"Nhập hệ số b: \"))\n",
        "bai_4(a4, b4)"
      ],
      "execution_count": null,
      "outputs": [
        {
          "name": "stdout",
          "output_type": "stream",
          "text": [
            "Nhập hệ số a: 5\n",
            "Nhập hệ số b: -2\n"
          ]
        },
        {
          "output_type": "execute_result",
          "data": {
            "text/plain": [
              "0.4"
            ]
          },
          "metadata": {},
          "execution_count": 23
        }
      ]
    },
    {
      "cell_type": "markdown",
      "metadata": {
        "id": "tDLUGJAZptkw"
      },
      "source": [
        "Bài 5: Hãy viết chương trình thực hiện các yêu cầu sau:\n",
        "- Xây dựng hàm giải phương trình bậc (ax2 + bx + c = 0), với hệ số a & b & c được truyền\n",
        "vào qua thông số của hàm.\n",
        "- Chương trình chính nhận các thông số a, b & c từ bàn phím\n",
        "- Chương trình chính gọi hàm giải phương trình bậc 2 nêu trên"
      ]
    },
    {
      "cell_type": "code",
      "metadata": {
        "id": "b72cyGDLpzFQ",
        "colab": {
          "base_uri": "https://localhost:8080/"
        },
        "outputId": "ed8c95b2-53ee-4d33-af57-9386991a4318"
      },
      "source": [
        "import math\n",
        "def bai_5(a, b, c):\n",
        "    if a == 0:\n",
        "      print(bai_4(b, c))\n",
        "    else:\n",
        "      d = b*b-4*a*c;\n",
        "      if d > 0:\n",
        "        x1 = float((-b + math.sqrt(d)) / (2 * a))\n",
        "        x2 = float((-b - math.sqrt(d)) / (2 * a))\n",
        "        print(\"Phương trình có 2 nghiệm:\", \"\\nx =\", x1, \"\\nx =\", x2)\n",
        "      elif d == 0:\n",
        "        x1 = (-b / (2 * a));\n",
        "        print(\"Phương trình có nghiệm kép: x =\", x1)\n",
        "      else:\n",
        "        print(\"Phương trình vô nghiệm!\")\n",
        "a5 = int(input(\"Nhập hệ số a: \"))\n",
        "b5 = int(input(\"Nhập hệ số b: \"))\n",
        "c5 = int(input(\"Nhập hệ số c: \"))\n",
        "bai_5(a5, b5, c5)"
      ],
      "execution_count": 28,
      "outputs": [
        {
          "output_type": "stream",
          "name": "stdout",
          "text": [
            "Nhập hệ số a: 1\n",
            "Nhập hệ số b: -5\n",
            "Nhập hệ số c: 4\n",
            "Phương trình có 2 nghiệm: \n",
            "x = 4.0 \n",
            "x = 1.0\n"
          ]
        }
      ]
    },
    {
      "cell_type": "markdown",
      "metadata": {
        "id": "PU3F0hkYsj7M"
      },
      "source": [
        "Bài 6: Hãy viết chương trình thực hiện các yêu cầu sau:\n",
        "\n",
        "- Cho người dùng lựa chọn giải phương trình bậc 1 hay bậc 2 bằng cách nhập số (1 hay 2)\n",
        "từ bàn phím\n",
        "- Nếu người dùng chọn giải phương trình bậc 1, thì thực hiện các bước như Bài 4\n",
        "- Nếu người dùng chọn giải phương trình bậc 2, thì thực hiện các bước như Bài 5"
      ]
    },
    {
      "cell_type": "code",
      "metadata": {
        "id": "BgXCdImvslbj"
      },
      "source": [
        ""
      ],
      "execution_count": null,
      "outputs": []
    }
  ]
}