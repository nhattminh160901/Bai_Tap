{
  "nbformat": 4,
  "nbformat_minor": 0,
  "metadata": {
    "colab": {
      "name": "bai_tap_tai_lop(phien_1)(7_10_2021).ipynb",
      "provenance": [],
      "authorship_tag": "ABX9TyOJaVa+mQ0fsv3ORWhVmH5i",
      "include_colab_link": true
    },
    "kernelspec": {
      "name": "python3",
      "display_name": "Python 3"
    },
    "language_info": {
      "name": "python"
    }
  },
  "cells": [
    {
      "cell_type": "markdown",
      "metadata": {
        "id": "view-in-github",
        "colab_type": "text"
      },
      "source": [
        "<a href=\"https://colab.research.google.com/github/nhattminh160901/Bai_Tap/blob/main/NNLT_Python/7_10_2021/bai_tap_tai_lop(phien_1)(7_10_2021).ipynb\" target=\"_parent\"><img src=\"https://colab.research.google.com/assets/colab-badge.svg\" alt=\"Open In Colab\"/></a>"
      ]
    },
    {
      "cell_type": "code",
      "metadata": {
        "colab": {
          "base_uri": "https://localhost:8080/"
        },
        "id": "Vtm0jUpVTH9p",
        "outputId": "d9986b20-2c39-4509-fc66-234acab33093"
      },
      "source": [
        "#Exercise 1: Print First 10 natural numbers using while loop\n",
        "i = 1\n",
        "while(i<=10):\n",
        "    print(i)\n",
        "    i += 1"
      ],
      "execution_count": 93,
      "outputs": [
        {
          "output_type": "stream",
          "name": "stdout",
          "text": [
            "1\n",
            "2\n",
            "3\n",
            "4\n",
            "5\n",
            "6\n",
            "7\n",
            "8\n",
            "9\n",
            "10\n"
          ]
        }
      ]
    },
    {
      "cell_type": "code",
      "metadata": {
        "colab": {
          "base_uri": "https://localhost:8080/"
        },
        "id": "nATh1XjLTZkU",
        "outputId": "c8897bb3-3f49-4650-9360-a110b342f7ae"
      },
      "source": [
        "#Exercise 2: Print the following pattern\n",
        "rows2 = 6\n",
        "for i in reversed(range(1, rows2)):\n",
        "    for j in range(i, 0, -1):\n",
        "        print(j, end=\" \")\n",
        "    print(\"\")"
      ],
      "execution_count": 94,
      "outputs": [
        {
          "output_type": "stream",
          "name": "stdout",
          "text": [
            "5 4 3 2 1 \n",
            "4 3 2 1 \n",
            "3 2 1 \n",
            "2 1 \n",
            "1 \n"
          ]
        }
      ]
    },
    {
      "cell_type": "code",
      "metadata": {
        "colab": {
          "base_uri": "https://localhost:8080/"
        },
        "id": "CarA1jSpUcMk",
        "outputId": "f25c89fe-4b37-4a75-9597-a1cf0353d04b"
      },
      "source": [
        "#Exercise 3: Calculate the sum of all numbers from 1 to a given number\n",
        "number3 = int(input(\"Number: \"))\n",
        "sum3 = 0\n",
        "for number3 in range(1, n + 1, 1):\n",
        "  sum3 = sum3 + number3\n",
        "print(\"Sum of numbers is:\", sum3)"
      ],
      "execution_count": 96,
      "outputs": [
        {
          "output_type": "stream",
          "name": "stdout",
          "text": [
            "Number: 9\n",
            "Sum of numbers is: 21\n"
          ]
        }
      ]
    },
    {
      "cell_type": "code",
      "metadata": {
        "colab": {
          "base_uri": "https://localhost:8080/"
        },
        "id": "e2K5RRQ2U7iE",
        "outputId": "f2cedba2-fbb9-41bb-bc4a-90c27eca05f0"
      },
      "source": [
        "#Exercise 4: Write a program to print multiplication table of a given number with natural numbers from 1 to 10.\n",
        "number4 = int(input(\"Number: \"))\n",
        "\n",
        "print(\"Multiplication Table of\", number4)\n",
        "for i in range(1, 11):\n",
        "   print(number4,\"X\",i,\"=\",number4 * i)"
      ],
      "execution_count": 97,
      "outputs": [
        {
          "output_type": "stream",
          "name": "stdout",
          "text": [
            "Number: 25\n",
            "Multiplication Table of 25\n",
            "25 X 1 = 25\n",
            "25 X 2 = 50\n",
            "25 X 3 = 75\n",
            "25 X 4 = 100\n",
            "25 X 5 = 125\n",
            "25 X 6 = 150\n",
            "25 X 7 = 175\n",
            "25 X 8 = 200\n",
            "25 X 9 = 225\n",
            "25 X 10 = 250\n"
          ]
        }
      ]
    },
    {
      "cell_type": "code",
      "metadata": {
        "colab": {
          "base_uri": "https://localhost:8080/"
        },
        "id": "rmY6e5B5VIW1",
        "outputId": "3cb33b1a-e26c-4190-9da0-abd241289bc8"
      },
      "source": [
        "#Exercise 5: Display numbers from a list using loop\n",
        "list5 = [1, 3, 9, 4, 5, \"sieu cap vip pro\", 6]\n",
        "for i in list5:\n",
        "  print(i)"
      ],
      "execution_count": 98,
      "outputs": [
        {
          "output_type": "stream",
          "name": "stdout",
          "text": [
            "1\n",
            "3\n",
            "9\n",
            "4\n",
            "5\n",
            "sieu cap vip pro\n",
            "6\n"
          ]
        }
      ]
    },
    {
      "cell_type": "code",
      "metadata": {
        "colab": {
          "base_uri": "https://localhost:8080/"
        },
        "id": "Yu--j4E-Vb1T",
        "outputId": "fe96e09f-bdf7-4985-c902-0326cf31d770"
      },
      "source": [
        "#Exercise 6: Count the total number of digits in a number\n",
        "number6 = int(input(\"Number:\"))\n",
        "count = 0\n",
        "while(number6>0):\n",
        "    count = count+1\n",
        "    number6 = number6//10\n",
        "print(\"The number of digits in the number are:\", count)"
      ],
      "execution_count": 100,
      "outputs": [
        {
          "output_type": "stream",
          "name": "stdout",
          "text": [
            "Number:46546465465\n",
            "The number of digits in the number are: 11\n"
          ]
        }
      ]
    },
    {
      "cell_type": "code",
      "metadata": {
        "colab": {
          "base_uri": "https://localhost:8080/"
        },
        "id": "dmPjP8znWLdU",
        "outputId": "d9614ea0-8796-4acf-d4a6-a4c810af54ee"
      },
      "source": [
        "#Exercise 7: Print list in reverse order using a loop\n",
        "list7 = [1, 3, 5, \"vip\", \"pro\", 7, 100, \"sieu cap vu tru\"]\n",
        "for i in reversed(list7):\n",
        "  print(i)"
      ],
      "execution_count": 101,
      "outputs": [
        {
          "output_type": "stream",
          "name": "stdout",
          "text": [
            "sieu cap vu tru\n",
            "100\n",
            "7\n",
            "pro\n",
            "vip\n",
            "5\n",
            "3\n",
            "1\n"
          ]
        }
      ]
    },
    {
      "cell_type": "code",
      "metadata": {
        "colab": {
          "base_uri": "https://localhost:8080/"
        },
        "id": "Fl7Ortg8W-Wt",
        "outputId": "57a7a7d2-5ae3-4608-d333-225385d799d7"
      },
      "source": [
        "#Exercise 8: Display numbers from -10 to -1 using for loop\n",
        "for i in range(-10, 0):\n",
        "  print(i)"
      ],
      "execution_count": 102,
      "outputs": [
        {
          "output_type": "stream",
          "name": "stdout",
          "text": [
            "-10\n",
            "-9\n",
            "-8\n",
            "-7\n",
            "-6\n",
            "-5\n",
            "-4\n",
            "-3\n",
            "-2\n",
            "-1\n"
          ]
        }
      ]
    },
    {
      "cell_type": "code",
      "metadata": {
        "colab": {
          "base_uri": "https://localhost:8080/"
        },
        "id": "Su-oEvxPX6ls",
        "outputId": "bb6d16d5-dcdd-4b4f-b0ff-026e700e3552"
      },
      "source": [
        "#Exercise 9: Use else block to display a message “Done” after successful execution of for loop\n",
        "for i in range(9):\n",
        "    print(i)\n",
        "else:\n",
        "  print(\"Done\")"
      ],
      "execution_count": 103,
      "outputs": [
        {
          "output_type": "stream",
          "name": "stdout",
          "text": [
            "0\n",
            "1\n",
            "2\n",
            "3\n",
            "4\n",
            "5\n",
            "6\n",
            "7\n",
            "8\n",
            "Done\n"
          ]
        }
      ]
    },
    {
      "cell_type": "code",
      "metadata": {
        "colab": {
          "base_uri": "https://localhost:8080/"
        },
        "id": "Mhh792j3YtdF",
        "outputId": "eddd95aa-8c5c-494b-d7d4-b499f8ababda"
      },
      "source": [
        "#Exercise 10: Write a program to display all prime numbers within a range\n",
        "start10 = int(input(\"Number start: \"))\n",
        "end10 = int(input(\"Number end: \"))\n",
        "print(\"Prime numbers between\", start10, \"and\", end10, \":\")\n",
        "\n",
        "for number10 in range(start10, end10 + 1):\n",
        "    if number10 > 1:\n",
        "        for i in range(2, number10):\n",
        "            if (number10 % i) == 0:\n",
        "                break\n",
        "        else:\n",
        "            print(number10)"
      ],
      "execution_count": 105,
      "outputs": [
        {
          "output_type": "stream",
          "name": "stdout",
          "text": [
            "Number start: 6\n",
            "Number end: 20\n",
            "Prime numbers between 6 and 20 :\n",
            "7\n",
            "11\n",
            "13\n",
            "17\n",
            "19\n"
          ]
        }
      ]
    },
    {
      "cell_type": "code",
      "metadata": {
        "colab": {
          "base_uri": "https://localhost:8080/"
        },
        "id": "RGEz1ZCOZ43-",
        "outputId": "67a3b683-803b-4350-f12c-4a70aac174db"
      },
      "source": [
        "#Exercise 11: Display Fibonacci series up to 10 terms\n",
        "number1, number2 = 0, 1\n",
        "print(\"Fibonacci series:\")\n",
        "for i in range(10):\n",
        "    print(number1, end=\" \")\n",
        "    res = number1 + number2\n",
        "    number1 = number2\n",
        "    number2 = res"
      ],
      "execution_count": 106,
      "outputs": [
        {
          "output_type": "stream",
          "name": "stdout",
          "text": [
            "Fibonacci series:\n",
            "0 1 1 2 3 5 8 13 21 34 "
          ]
        }
      ]
    },
    {
      "cell_type": "code",
      "metadata": {
        "colab": {
          "base_uri": "https://localhost:8080/"
        },
        "id": "45gkD8sMapHe",
        "outputId": "ff607ac2-0756-4c54-9c50-4e00c1d49cfc"
      },
      "source": [
        "#Exercise 12: Find the factorial of a given number\n",
        "number12 = int(input(\"Number: \"))\n",
        "factorial = 1\n",
        "while number12 < 0:\n",
        "    print(\"nter a non-negative number\")\n",
        "    number12 = int(input(\"Number: \"))\n",
        "if number12 == 0:\n",
        "    print(\"Factorial 0 is 1\")\n",
        "else:\n",
        "    for i in range(1, number12 + 1):\n",
        "        factorial = factorial * i\n",
        "    print(\"The factorial of\", number12, \":\", factorial)"
      ],
      "execution_count": 108,
      "outputs": [
        {
          "output_type": "stream",
          "name": "stdout",
          "text": [
            "Number: 20\n",
            "The factorial of 20 is 2432902008176640000\n"
          ]
        }
      ]
    },
    {
      "cell_type": "code",
      "metadata": {
        "colab": {
          "base_uri": "https://localhost:8080/"
        },
        "id": "qe8ONbfWbrnm",
        "outputId": "7366c241-0635-43fd-cccf-3f33048abe7d"
      },
      "source": [
        "#Exercise 13: Reverse a given integer number\n",
        "number13 = int(input(\"Number: \"))\n",
        "reverse_number = 0\n",
        "print(\"Entered Number: \", number13)\n",
        "while number13 > 0:\n",
        "    reminder = number13 % 10\n",
        "    reverse_number = (reverse_number * 10) + reminder\n",
        "    number13 = number13 // 10\n",
        "print(\"Reverse Number: \", reverse_number)"
      ],
      "execution_count": 109,
      "outputs": [
        {
          "output_type": "stream",
          "name": "stdout",
          "text": [
            "Number: 123\n",
            "Given Number  123\n",
            "Reverse Number  321\n"
          ]
        }
      ]
    },
    {
      "cell_type": "code",
      "metadata": {
        "colab": {
          "base_uri": "https://localhost:8080/"
        },
        "id": "_rYYwjZKdix_",
        "outputId": "7279d903-c382-4dd8-fe73-a30a6b418030"
      },
      "source": [
        "#Exercise 14: Use a loop to display elements from a given list present at odd index positions\n",
        "list14 = [\"sieu\", \"cap\", \"vu\", \"tru\", 1, 2, 1000, 10000000, 234, \"a\"]\n",
        "for i in list14[1::2]:\n",
        "    print(i, end=\", \")"
      ],
      "execution_count": 115,
      "outputs": [
        {
          "output_type": "stream",
          "name": "stdout",
          "text": [
            "cap, tru, 2, 10000000, a, "
          ]
        }
      ]
    },
    {
      "cell_type": "code",
      "metadata": {
        "colab": {
          "base_uri": "https://localhost:8080/"
        },
        "id": "HrEXGP52eCso",
        "outputId": "0e33d5e8-6727-4d3e-b884-600490ea5087"
      },
      "source": [
        "#Exercise 15: Calculate the cube of all numbers from 1 to a given number\n",
        "number15 = int(input(\"Number: \"))\n",
        "for i in range(1, number15 + 1):\n",
        "    print(\"Current mumber:\", i, \", Cube:\", (i * i * i))"
      ],
      "execution_count": 116,
      "outputs": [
        {
          "output_type": "stream",
          "name": "stdout",
          "text": [
            "Number: 6\n",
            "Current mumber: 1 , Cube: 1\n",
            "Current mumber: 2 , Cube: 8\n",
            "Current mumber: 3 , Cube: 27\n",
            "Current mumber: 4 , Cube: 64\n",
            "Current mumber: 5 , Cube: 125\n",
            "Current mumber: 6 , Cube: 216\n"
          ]
        }
      ]
    }
  ]
}