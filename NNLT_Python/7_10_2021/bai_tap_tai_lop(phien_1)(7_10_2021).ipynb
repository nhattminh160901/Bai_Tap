{
  "nbformat": 4,
  "nbformat_minor": 0,
  "metadata": {
    "colab": {
      "name": "bai_tap_tai_lop(phien_1)(7_10_2021).ipynb",
      "provenance": [],
      "authorship_tag": "ABX9TyN+zjYtkpvx+tTokXi5xAkQ",
      "include_colab_link": true
    },
    "kernelspec": {
      "name": "python3",
      "display_name": "Python 3"
    },
    "language_info": {
      "name": "python"
    }
  },
  "cells": [
    {
      "cell_type": "markdown",
      "metadata": {
        "id": "view-in-github",
        "colab_type": "text"
      },
      "source": [
        "<a href=\"https://colab.research.google.com/github/nhattminh160901/Bai_Tap/blob/main/NNLT_Python/7_10_2021/bai_tap_tai_lop(phien_1)(7_10_2021).ipynb\" target=\"_parent\"><img src=\"https://colab.research.google.com/assets/colab-badge.svg\" alt=\"Open In Colab\"/></a>"
      ]
    },
    {
      "cell_type": "code",
      "metadata": {
        "colab": {
          "base_uri": "https://localhost:8080/"
        },
        "id": "Vtm0jUpVTH9p",
        "outputId": "9028c8b3-a5c2-4dba-fccc-2b5aca6ac189"
      },
      "source": [
        "#Exercise 1: Print First 10 natural numbers using while loop\n",
        "i = 1\n",
        "while(i<=10):\n",
        "    print(i)\n",
        "    i += 1"
      ],
      "execution_count": 119,
      "outputs": [
        {
          "output_type": "stream",
          "name": "stdout",
          "text": [
            "1\n",
            "2\n",
            "3\n",
            "4\n",
            "5\n",
            "6\n",
            "7\n",
            "8\n",
            "9\n",
            "10\n"
          ]
        }
      ]
    },
    {
      "cell_type": "code",
      "metadata": {
        "colab": {
          "base_uri": "https://localhost:8080/"
        },
        "id": "nATh1XjLTZkU",
        "outputId": "19178c47-baf7-4982-d999-70094390b899"
      },
      "source": [
        "#Exercise 2: Print the following pattern\n",
        "rows2 = 6\n",
        "for i in reversed(range(1, rows2)):\n",
        "    for j in range(i, 0, -1):\n",
        "        print(j, end=\" \")\n",
        "    print(\"\")"
      ],
      "execution_count": 120,
      "outputs": [
        {
          "output_type": "stream",
          "name": "stdout",
          "text": [
            "5 4 3 2 1 \n",
            "4 3 2 1 \n",
            "3 2 1 \n",
            "2 1 \n",
            "1 \n"
          ]
        }
      ]
    },
    {
      "cell_type": "code",
      "metadata": {
        "colab": {
          "base_uri": "https://localhost:8080/"
        },
        "id": "CarA1jSpUcMk",
        "outputId": "6daba5e8-333e-45aa-c549-0d4f2b36e97c"
      },
      "source": [
        "#Exercise 3: Calculate the sum of all numbers from 1 to a given number\n",
        "number3 = int(input(\"Number: \"))\n",
        "sum3 = 0\n",
        "for i in range(1, number3 + 1):\n",
        "  sum3 = sum3 + i\n",
        "print(\"Sum of numbers is:\", sum3)"
      ],
      "execution_count": 123,
      "outputs": [
        {
          "output_type": "stream",
          "name": "stdout",
          "text": [
            "Number: 6\n",
            "Sum of numbers is: 21\n"
          ]
        }
      ]
    },
    {
      "cell_type": "code",
      "metadata": {
        "colab": {
          "base_uri": "https://localhost:8080/"
        },
        "id": "e2K5RRQ2U7iE",
        "outputId": "6335be90-adbb-4e63-ad6d-e12311259182"
      },
      "source": [
        "#Exercise 4: Write a program to print multiplication table of a given number with natural numbers from 1 to 10.\n",
        "number4 = int(input(\"Number: \"))\n",
        "\n",
        "print(\"Multiplication Table of\", number4)\n",
        "for i in range(1, 11):\n",
        "   print(number4,\"X\",i,\"=\",number4 * i)"
      ],
      "execution_count": 125,
      "outputs": [
        {
          "output_type": "stream",
          "name": "stdout",
          "text": [
            "Number: 10\n",
            "Multiplication Table of 10\n",
            "10 X 1 = 10\n",
            "10 X 2 = 20\n",
            "10 X 3 = 30\n",
            "10 X 4 = 40\n",
            "10 X 5 = 50\n",
            "10 X 6 = 60\n",
            "10 X 7 = 70\n",
            "10 X 8 = 80\n",
            "10 X 9 = 90\n",
            "10 X 10 = 100\n"
          ]
        }
      ]
    },
    {
      "cell_type": "code",
      "metadata": {
        "colab": {
          "base_uri": "https://localhost:8080/"
        },
        "id": "rmY6e5B5VIW1",
        "outputId": "76381617-98a3-4e86-bea2-9e73a3bb74f1"
      },
      "source": [
        "#Exercise 5: Display numbers from a list using loop\n",
        "list5 = [1, 3, 9, 4, 5, \"sieu cap vip pro\", 6]\n",
        "for i in list5:\n",
        "  print(i)"
      ],
      "execution_count": 126,
      "outputs": [
        {
          "output_type": "stream",
          "name": "stdout",
          "text": [
            "1\n",
            "3\n",
            "9\n",
            "4\n",
            "5\n",
            "sieu cap vip pro\n",
            "6\n"
          ]
        }
      ]
    },
    {
      "cell_type": "code",
      "metadata": {
        "colab": {
          "base_uri": "https://localhost:8080/"
        },
        "id": "Yu--j4E-Vb1T",
        "outputId": "ecfd4df4-e08f-41c2-a4a7-b87797fcf751"
      },
      "source": [
        "#Exercise 6: Count the total number of digits in a number\n",
        "number6 = int(input(\"Number:\"))\n",
        "count = 0\n",
        "while(number6>0):\n",
        "    count = count+1\n",
        "    number6 = number6//10\n",
        "print(\"The number of digits in the number are:\", count)"
      ],
      "execution_count": 128,
      "outputs": [
        {
          "output_type": "stream",
          "name": "stdout",
          "text": [
            "Number:64546546\n",
            "The number of digits in the number are: 8\n"
          ]
        }
      ]
    },
    {
      "cell_type": "code",
      "metadata": {
        "colab": {
          "base_uri": "https://localhost:8080/"
        },
        "id": "dmPjP8znWLdU",
        "outputId": "1037e50f-2f20-4241-de8b-2142e8204d9a"
      },
      "source": [
        "#Exercise 7: Print list in reverse order using a loop\n",
        "list7 = [1, 3, 5, \"vip\", \"pro\", 7, 100, \"sieu cap vu tru\"]\n",
        "for i in reversed(list7):\n",
        "  print(i)"
      ],
      "execution_count": 129,
      "outputs": [
        {
          "output_type": "stream",
          "name": "stdout",
          "text": [
            "sieu cap vu tru\n",
            "100\n",
            "7\n",
            "pro\n",
            "vip\n",
            "5\n",
            "3\n",
            "1\n"
          ]
        }
      ]
    },
    {
      "cell_type": "code",
      "metadata": {
        "colab": {
          "base_uri": "https://localhost:8080/"
        },
        "id": "Fl7Ortg8W-Wt",
        "outputId": "da773a2a-3638-42bc-a642-3857f75b76d4"
      },
      "source": [
        "#Exercise 8: Display numbers from -10 to -1 using for loop\n",
        "for i in range(-10, 0):\n",
        "  print(i)"
      ],
      "execution_count": 130,
      "outputs": [
        {
          "output_type": "stream",
          "name": "stdout",
          "text": [
            "-10\n",
            "-9\n",
            "-8\n",
            "-7\n",
            "-6\n",
            "-5\n",
            "-4\n",
            "-3\n",
            "-2\n",
            "-1\n"
          ]
        }
      ]
    },
    {
      "cell_type": "code",
      "metadata": {
        "colab": {
          "base_uri": "https://localhost:8080/"
        },
        "id": "Su-oEvxPX6ls",
        "outputId": "ed333a3e-52a8-4c8c-eb51-4bf7e128fed2"
      },
      "source": [
        "#Exercise 9: Use else block to display a message “Done” after successful execution of for loop\n",
        "for i in range(9):\n",
        "    print(i)\n",
        "else:\n",
        "  print(\"Done\")"
      ],
      "execution_count": 131,
      "outputs": [
        {
          "output_type": "stream",
          "name": "stdout",
          "text": [
            "0\n",
            "1\n",
            "2\n",
            "3\n",
            "4\n",
            "5\n",
            "6\n",
            "7\n",
            "8\n",
            "Done\n"
          ]
        }
      ]
    },
    {
      "cell_type": "code",
      "metadata": {
        "colab": {
          "base_uri": "https://localhost:8080/"
        },
        "id": "Mhh792j3YtdF",
        "outputId": "3a18432d-f8f6-4451-939c-5049f472753f"
      },
      "source": [
        "#Exercise 10: Write a program to display all prime numbers within a range\n",
        "start10 = int(input(\"Number start: \"))\n",
        "end10 = int(input(\"Number end: \"))\n",
        "print(\"Prime numbers between\", start10, \"and\", end10, \":\")\n",
        "\n",
        "for number10 in range(start10, end10 + 1):\n",
        "    if number10 > 1:\n",
        "        for i in range(2, number10):\n",
        "            if (number10 % i) == 0:\n",
        "                break\n",
        "        else:\n",
        "            print(number10)"
      ],
      "execution_count": 132,
      "outputs": [
        {
          "output_type": "stream",
          "name": "stdout",
          "text": [
            "Number start: 23\n",
            "Number end: 50\n",
            "Prime numbers between 23 and 50 :\n",
            "23\n",
            "29\n",
            "31\n",
            "37\n",
            "41\n",
            "43\n",
            "47\n"
          ]
        }
      ]
    },
    {
      "cell_type": "code",
      "metadata": {
        "colab": {
          "base_uri": "https://localhost:8080/"
        },
        "id": "RGEz1ZCOZ43-",
        "outputId": "67a3b683-803b-4350-f12c-4a70aac174db"
      },
      "source": [
        "#Exercise 11: Display Fibonacci series up to 10 terms\n",
        "number1, number2 = 0, 1\n",
        "print(\"Fibonacci series:\")\n",
        "for i in range(10):\n",
        "    print(number1, end=\" \")\n",
        "    res = number1 + number2\n",
        "    number1 = number2\n",
        "    number2 = res"
      ],
      "execution_count": 106,
      "outputs": [
        {
          "output_type": "stream",
          "name": "stdout",
          "text": [
            "Fibonacci series:\n",
            "0 1 1 2 3 5 8 13 21 34 "
          ]
        }
      ]
    },
    {
      "cell_type": "code",
      "metadata": {
        "colab": {
          "base_uri": "https://localhost:8080/"
        },
        "id": "45gkD8sMapHe",
        "outputId": "82e9f07f-92f2-4205-a5fc-8d980aa19a57"
      },
      "source": [
        "#Exercise 12: Find the factorial of a given number\n",
        "number12 = int(input(\"Number: \"))\n",
        "factorial = 1\n",
        "while number12 < 0:\n",
        "    print(\"nter a non-negative number\")\n",
        "    number12 = int(input(\"Number: \"))\n",
        "if number12 == 0:\n",
        "    print(\"Factorial 0 is 1\")\n",
        "else:\n",
        "    for i in range(1, number12 + 1):\n",
        "        factorial = factorial * i\n",
        "    print(\"The factorial of\", number12, \":\", factorial)"
      ],
      "execution_count": 133,
      "outputs": [
        {
          "output_type": "stream",
          "name": "stdout",
          "text": [
            "Number: 12\n",
            "The factorial of 12 : 479001600\n"
          ]
        }
      ]
    },
    {
      "cell_type": "code",
      "metadata": {
        "colab": {
          "base_uri": "https://localhost:8080/"
        },
        "id": "qe8ONbfWbrnm",
        "outputId": "c7a8dac0-ae3c-4f89-9022-c1aabfb29f57"
      },
      "source": [
        "#Exercise 13: Reverse a given integer number\n",
        "number13 = int(input(\"Number: \"))\n",
        "rev_number = 0\n",
        "print(\"Entered Number: \", number13)\n",
        "while number13 > 0:\n",
        "    a = number13 % 10\n",
        "    rev_number = (rev_number * 10) + a\n",
        "    number13 = number13 // 10\n",
        "print(\"Reverse Number: \", rev_number)"
      ],
      "execution_count": 135,
      "outputs": [
        {
          "output_type": "stream",
          "name": "stdout",
          "text": [
            "Number: 321456\n",
            "Entered Number:  321456\n",
            "Reverse Number:  654123\n"
          ]
        }
      ]
    },
    {
      "cell_type": "code",
      "metadata": {
        "colab": {
          "base_uri": "https://localhost:8080/"
        },
        "id": "_rYYwjZKdix_",
        "outputId": "481aa37a-37ed-446a-a4ad-29dae0dc182d"
      },
      "source": [
        "#Exercise 14: Use a loop to display elements from a given list present at odd index positions\n",
        "list14 = [\"sieu\", \"cap\", \"vu\", \"tru\", 1, 2, 1000, 10000000, 234, \"a\"]\n",
        "for i in list14[1::2]:\n",
        "    print(i, end=\", \")"
      ],
      "execution_count": 136,
      "outputs": [
        {
          "output_type": "stream",
          "name": "stdout",
          "text": [
            "cap, tru, 2, 10000000, a, "
          ]
        }
      ]
    },
    {
      "cell_type": "code",
      "metadata": {
        "colab": {
          "base_uri": "https://localhost:8080/"
        },
        "id": "HrEXGP52eCso",
        "outputId": "cc66690b-6e56-489f-f46e-739fc20d9730"
      },
      "source": [
        "#Exercise 15: Calculate the cube of all numbers from 1 to a given number\n",
        "number15 = int(input(\"Number: \"))\n",
        "for i in range(1, number15 + 1):\n",
        "    print(\"Current mumber:\", i, \", Cube:\", (i * i * i))"
      ],
      "execution_count": 137,
      "outputs": [
        {
          "output_type": "stream",
          "name": "stdout",
          "text": [
            "Number: 6\n",
            "Current mumber: 1 , Cube: 1\n",
            "Current mumber: 2 , Cube: 8\n",
            "Current mumber: 3 , Cube: 27\n",
            "Current mumber: 4 , Cube: 64\n",
            "Current mumber: 5 , Cube: 125\n",
            "Current mumber: 6 , Cube: 216\n"
          ]
        }
      ]
    }
  ]
}
