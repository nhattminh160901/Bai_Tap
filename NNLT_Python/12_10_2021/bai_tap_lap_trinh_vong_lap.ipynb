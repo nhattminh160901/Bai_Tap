{
  "nbformat": 4,
  "nbformat_minor": 0,
  "metadata": {
    "colab": {
      "name": "de ten bat ky cung dc.ipynb",
      "provenance": [],
      "authorship_tag": "ABX9TyNp5DEVmfahTOvZzguzA+Xs",
      "include_colab_link": true
    },
    "kernelspec": {
      "name": "python3",
      "display_name": "Python 3"
    },
    "language_info": {
      "name": "python"
    }
  },
  "cells": [
    {
      "cell_type": "markdown",
      "metadata": {
        "id": "view-in-github",
        "colab_type": "text"
      },
      "source": [
        "<a href=\"https://colab.research.google.com/github/nhattminh160901/Bai_Tap/blob/main/NNLT_Python/12_10_2021/bai_tap_lap_trinh_vong_lap.ipynb\" target=\"_parent\"><img src=\"https://colab.research.google.com/assets/colab-badge.svg\" alt=\"Open In Colab\"/></a>"
      ]
    },
    {
      "cell_type": "code",
      "metadata": {
        "id": "zgNSmKE5_Iy2"
      },
      "source": [
        "ádasdad"
      ],
      "execution_count": null,
      "outputs": []
    },
    {
      "cell_type": "code",
      "metadata": {
        "id": "04WUqvkkAi3e"
      },
      "source": [
        "ádasdasd"
      ],
      "execution_count": null,
      "outputs": []
    },
    {
      "cell_type": "code",
      "metadata": {
        "id": "sGdCMBmeAjeB"
      },
      "source": [
        "sieucapvutru"
      ],
      "execution_count": null,
      "outputs": []
    }
  ]
}