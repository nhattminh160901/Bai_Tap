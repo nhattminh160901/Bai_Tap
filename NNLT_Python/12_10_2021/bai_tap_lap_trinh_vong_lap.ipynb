{
  "nbformat": 4,
  "nbformat_minor": 0,
  "metadata": {
    "colab": {
      "name": "bai_tap_lap_trinh_vong_lap.ipynb",
      "provenance": [],
      "authorship_tag": "ABX9TyNvjmuF4vqEATBy2oAfZvMR",
      "include_colab_link": true
    },
    "kernelspec": {
      "name": "python3",
      "display_name": "Python 3"
    },
    "language_info": {
      "name": "python"
    }
  },
  "cells": [
    {
      "cell_type": "markdown",
      "metadata": {
        "id": "view-in-github",
        "colab_type": "text"
      },
      "source": [
        "<a href=\"https://colab.research.google.com/github/nhattminh160901/Bai_Tap/blob/main/NNLT_Python/12_10_2021/bai_tap_lap_trinh_vong_lap.ipynb\" target=\"_parent\"><img src=\"https://colab.research.google.com/assets/colab-badge.svg\" alt=\"Open In Colab\"/></a>"
      ]
    },
    {
      "cell_type": "code",
      "metadata": {
        "colab": {
          "base_uri": "https://localhost:8080/"
        },
        "id": "MxZ-yOw01AhF",
        "outputId": "7a3a63e7-8dd4-4c7d-d5ce-92b079d74735"
      },
      "source": [
        "#Bài 1: Viết chương trình tìm tất cả các số chia hết cho 7 nhưng không phải bội số của 5, nằm trong đoạn 10 và 200 (tính cả 10 và 200). Các số thu được sẽ được in ra màn hình.\n",
        "for i in range(10,201):\n",
        "  if(i%7==0) and (i%5!=0):\n",
        "    print (i)"
      ],
      "execution_count": 4,
      "outputs": [
        {
          "output_type": "stream",
          "name": "stdout",
          "text": [
            "14\n",
            "21\n",
            "28\n",
            "42\n",
            "49\n",
            "56\n",
            "63\n",
            "77\n",
            "84\n",
            "91\n",
            "98\n",
            "112\n",
            "119\n",
            "126\n",
            "133\n",
            "147\n",
            "154\n",
            "161\n",
            "168\n",
            "182\n",
            "189\n",
            "196\n"
          ]
        }
      ]
    },
    {
      "cell_type": "code",
      "metadata": {
        "colab": {
          "base_uri": "https://localhost:8080/"
        },
        "id": "TwyjF9Ac18nv",
        "outputId": "5666b20b-122e-417b-948c-bdd4174d2b21"
      },
      "source": [
        "#Bài 2: Viết một chương trình tính giai thừa của một số nguyên dương n. Với n được nhập từ bàn phím. Ví dụ, n = 8 thì kết quả đầu ra phải là 1*2*3*4*5*6*7*8 = 40320.\n",
        "number2 = int(input(\"Nhập n: \"))\n",
        "factorial = 1\n",
        "while number2 < 0:\n",
        "    print(\"Nhập số không âm\")\n",
        "    number2 = int(input(\"Nhập n: \"))\n",
        "if (number2 == 0 or number2 == 1):\n",
        "    print(\"Giai thừa của\", number2, \"là 1\")\n",
        "else:\n",
        "    for i in range(2, number2 + 1):\n",
        "        factorial = factorial * i\n",
        "    print(\"Giai thừa của\", number2, \":\", factorial)"
      ],
      "execution_count": 26,
      "outputs": [
        {
          "output_type": "stream",
          "name": "stdout",
          "text": [
            "Nhập n: -8\n",
            "Nhập số không âm\n",
            "Nhập n: 8\n",
            "Giai thừa của 8 : 40320\n"
          ]
        }
      ]
    },
    {
      "cell_type": "code",
      "metadata": {
        "colab": {
          "base_uri": "https://localhost:8080/"
        },
        "id": "3-AKblZ64Bgg",
        "outputId": "b0051ce1-6bd4-4076-f3bd-2e2eeea79cef"
      },
      "source": [
        "#Bài 3: Dãy số Fibonacci được định nghĩa như sau: F0 = 0, F1 = 1, F2 = 1, Fn = F(n-1) + F(n-2) với n >= 2. Ví dụ: 0, 1, 1, 2, 3, 5, 8, ... Hãy viết chương trình tìm n số Fibonacci đầu tiên với n nhập vào từ bàn phím.\n",
        "def fibonacci(n):\n",
        "    if (n < 0):\n",
        "        return -1;\n",
        "    elif (n == 0 or n == 1):\n",
        "        return n;\n",
        "    else:\n",
        "        return fibonacci(n - 1) + fibonacci(n - 2);\n",
        "number3 = int(input(\"Nhập n số: \"));\n",
        "fb = \"\";\n",
        "for i in range(0, number3):\n",
        "    fb = fb + str(fibonacci(i)) + \" \"\n",
        "print(\"Fibonacci:\", fb)"
      ],
      "execution_count": 27,
      "outputs": [
        {
          "output_type": "stream",
          "name": "stdout",
          "text": [
            "Nhập n số: 20\n",
            "Fibonacci: 0 1 1 2 3 5 8 13 21 34 55 89 144 233 377 610 987 1597 2584 4181 \n"
          ]
        }
      ]
    },
    {
      "cell_type": "code",
      "metadata": {
        "colab": {
          "base_uri": "https://localhost:8080/"
        },
        "id": "F8vNtBze4l_e",
        "outputId": "274bd893-aa56-4ef2-e7a5-36b642ebfe40"
      },
      "source": [
        "#Bài 4: Viết chương trình liệt kê tất cả các số nguyên tố nhỏ hơn n. Số nguyên dương n được nhập từ bàn phím.\n",
        "number4 = int(input(\"Nhập n: \"))\n",
        "print(\"Các số nguyên tố nhỏ hơn\", number4, \"là:\")\n",
        "for number4 in range(0, number4):\n",
        "    if number4 > 1:\n",
        "        for i in range(2, number4):\n",
        "            if (number4 % i) == 0:\n",
        "                break\n",
        "        else:\n",
        "            print(number4)"
      ],
      "execution_count": 28,
      "outputs": [
        {
          "output_type": "stream",
          "name": "stdout",
          "text": [
            "Nhập n: 60\n",
            "Các số nguyên tố nhỏ hơn 60 là:\n",
            "2\n",
            "3\n",
            "5\n",
            "7\n",
            "11\n",
            "13\n",
            "17\n",
            "19\n",
            "23\n",
            "29\n",
            "31\n",
            "37\n",
            "41\n",
            "43\n",
            "47\n",
            "53\n",
            "59\n"
          ]
        }
      ]
    },
    {
      "cell_type": "code",
      "metadata": {
        "id": "28iQVF8K7-Oi"
      },
      "source": [
        "#Bài 5: Viết chương trình liệt kê n số nguyên tố đầu tiên. Số nguyên dương n được nhập từ bàn phím.\n",
        "number5 = int(input(\"Nhập n số: \"))\n",
        "print(number5, \"Số nguyên tố đầu tiên:\")\n",
        "dem = 0;\n",
        "i = 2;\n",
        "while (dem < number5):\n",
        "  "
      ],
      "execution_count": null,
      "outputs": []
    }
  ]
}