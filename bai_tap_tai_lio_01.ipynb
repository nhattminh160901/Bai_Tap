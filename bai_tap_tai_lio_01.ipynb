{
  "nbformat": 4,
  "nbformat_minor": 0,
  "metadata": {
    "colab": {
      "name": "baitap.ipynb",
      "provenance": [],
      "collapsed_sections": [],
      "authorship_tag": "ABX9TyOxwHGm+AICJM303mAdrXRP",
      "include_colab_link": true
    },
    "kernelspec": {
      "name": "python3",
      "display_name": "Python 3"
    },
    "language_info": {
      "name": "python"
    }
  },
  "cells": [
    {
      "cell_type": "markdown",
      "metadata": {
        "id": "view-in-github",
        "colab_type": "text"
      },
      "source": [
        "<a href=\"https://colab.research.google.com/github/nhattminh160901/Bai_Tap/blob/main/bai_tap_tai_lio_01.ipynb\" target=\"_parent\"><img src=\"https://colab.research.google.com/assets/colab-badge.svg\" alt=\"Open In Colab\"/></a>"
      ]
    },
    {
      "cell_type": "code",
      "metadata": {
        "id": "aO4nR20yZfs-"
      },
      "source": [
        "import math\n",
        "\n",
        "#khoảng cách giữa 2 điểm\n",
        "def distance(x1 , y1 , x2 , y2):\n",
        "  return math.sqrt(pow(x2 - x1, 2) + pow(y2 - y1, 2))\n",
        "#khoản thanh toán hàng tháng\n",
        "def monthlyPayment(x, y, z):\n",
        "  return (x*y)/(1-(1/(pow(1+y,z*12))))"
      ],
      "execution_count": 6,
      "outputs": []
    },
    {
      "cell_type": "code",
      "metadata": {
        "colab": {
          "base_uri": "https://localhost:8080/"
        },
        "id": "0-dTMEjnarcY",
        "outputId": "5eec263f-0062-415b-da6c-00b7f2212c92"
      },
      "source": [
        "x1 = float(input('x1: '))\n",
        "x2 = float(input('x2: '))\n",
        "y1 = float(input('y1: '))\n",
        "y2 = float(input('y2: '))\n",
        "print('Khoảng cách giữa 2 điểm: %.2f'%distance(x1 , y1 , x2 , y2))"
      ],
      "execution_count": 5,
      "outputs": [
        {
          "output_type": "stream",
          "name": "stdout",
          "text": [
            "x1: 5\n",
            "x2: 6\n",
            "y1: 7\n",
            "y2: 8\n",
            "Khoảng cách giữa 2 điểm: 1.41\n"
          ]
        }
      ]
    },
    {
      "cell_type": "code",
      "metadata": {
        "colab": {
          "base_uri": "https://localhost:8080/"
        },
        "id": "q_VQAWcDfzqI",
        "outputId": "02842939-f823-44f8-b8fe-f1f3962b928b"
      },
      "source": [
        "lA = float(input('loan Amount: '))\n",
        "mIR = float(input('monthlyInterestRate: '))\n",
        "noY = int(input('numberofYears: '))\n",
        "month = 0\n",
        "mP = 0\n",
        "a = []\n",
        "b = lA\n",
        "for i in range(1, noY+1):\n",
        "  month = month +12\n",
        "for i in range(month):\n",
        "  b = b-mP\n",
        "  mP = monthlyPayment(b, mIR, noY)\n",
        "  a.append(mP)\n",
        "  i=i+1\n",
        "  print('Khoảng thanh toán tháng %d:'%i, '%.2f'%mP)\n",
        "print('Tổng số tiền thanh toán: %.2f'%(sum(a)+lA))"
      ],
      "execution_count": 7,
      "outputs": [
        {
          "output_type": "stream",
          "name": "stdout",
          "text": [
            "loan Amount: 50000\n",
            "monthlyInterestRate: 0.12\n",
            "numberofYears: 1\n",
            "Khoảng thanh toán tháng 1: 8071.84\n",
            "Khoảng thanh toán tháng 2: 6768.75\n",
            "Khoảng thanh toán tháng 3: 5676.02\n",
            "Khoảng thanh toán tháng 4: 4759.70\n",
            "Khoảng thanh toán tháng 5: 3991.31\n",
            "Khoảng thanh toán tháng 6: 3346.97\n",
            "Khoảng thanh toán tháng 7: 2806.64\n",
            "Khoảng thanh toán tháng 8: 2353.55\n",
            "Khoảng thanh toán tháng 9: 1973.60\n",
            "Khoảng thanh toán tháng 10: 1654.99\n",
            "Khoảng thanh toán tháng 11: 1387.81\n",
            "Khoảng thanh toán tháng 12: 1163.77\n",
            "Tổng số tiền thanh toán: 93954.95\n"
          ]
        }
      ]
    }
  ]
}