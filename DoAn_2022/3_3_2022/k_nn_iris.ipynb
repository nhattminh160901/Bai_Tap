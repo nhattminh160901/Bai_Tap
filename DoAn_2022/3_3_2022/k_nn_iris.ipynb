{
  "nbformat": 4,
  "nbformat_minor": 0,
  "metadata": {
    "colab": {
      "name": "k-nn_iris.ipynb",
      "provenance": [],
      "authorship_tag": "ABX9TyNsaCoH5IIwvxMOUnRU5ebQ",
      "include_colab_link": true
    },
    "kernelspec": {
      "name": "python3",
      "display_name": "Python 3"
    },
    "language_info": {
      "name": "python"
    }
  },
  "cells": [
    {
      "cell_type": "markdown",
      "metadata": {
        "id": "view-in-github",
        "colab_type": "text"
      },
      "source": [
        "<a href=\"https://colab.research.google.com/github/nhattminh160901/Bai_Tap/blob/main/DoAn_2022/3_3_2022/k_nn_iris.ipynb\" target=\"_parent\"><img src=\"https://colab.research.google.com/assets/colab-badge.svg\" alt=\"Open In Colab\"/></a>"
      ]
    },
    {
      "cell_type": "code",
      "execution_count": null,
      "metadata": {
        "id": "BskgezVvEmtS"
      },
      "outputs": [],
      "source": [
        "import numpy as np\n",
        "import matplotlib.pyplot as plt\n",
        "from sklearn import neighbors, datasets"
      ]
    },
    {
      "cell_type": "code",
      "source": [
        "iris = datasets.load_iris()\n",
        "iris_X = iris.data\n",
        "iris_y = iris.target\n",
        "print('Number of classes: %d' %len(np.unique(iris_y)))\n",
        "print('Number of data points: %d' %len(iris_y))\n",
        "\n",
        "\n",
        "X0 = iris_X[iris_y == 0,:]\n",
        "print('\\nSamples from class 0:\\n', X0[:5,:])\n",
        "\n",
        "X1 = iris_X[iris_y == 1,:]\n",
        "print('\\nSamples from class 1:\\n', X1[:5,:])\n",
        "\n",
        "X2 = iris_X[iris_y == 2,:]\n",
        "print('\\nSamples from class 2:\\n', X2[:5,:])"
      ],
      "metadata": {
        "colab": {
          "base_uri": "https://localhost:8080/"
        },
        "id": "388pR8VVEqCr",
        "outputId": "2e6e73c4-ab7d-48f6-a519-025834298192"
      },
      "execution_count": null,
      "outputs": [
        {
          "output_type": "stream",
          "name": "stdout",
          "text": [
            "Number of classes: 3\n",
            "Number of data points: 150\n",
            "\n",
            "Samples from class 0:\n",
            " [[5.1 3.5 1.4 0.2]\n",
            " [4.9 3.  1.4 0.2]\n",
            " [4.7 3.2 1.3 0.2]\n",
            " [4.6 3.1 1.5 0.2]\n",
            " [5.  3.6 1.4 0.2]]\n",
            "\n",
            "Samples from class 1:\n",
            " [[7.  3.2 4.7 1.4]\n",
            " [6.4 3.2 4.5 1.5]\n",
            " [6.9 3.1 4.9 1.5]\n",
            " [5.5 2.3 4.  1.3]\n",
            " [6.5 2.8 4.6 1.5]]\n",
            "\n",
            "Samples from class 2:\n",
            " [[6.3 3.3 6.  2.5]\n",
            " [5.8 2.7 5.1 1.9]\n",
            " [7.1 3.  5.9 2.1]\n",
            " [6.3 2.9 5.6 1.8]\n",
            " [6.5 3.  5.8 2.2]]\n"
          ]
        }
      ]
    },
    {
      "cell_type": "code",
      "source": [
        "from sklearn.model_selection import train_test_split\n",
        "X_train, X_test, y_train, y_test = train_test_split(\n",
        "     iris_X, iris_y, test_size=50)\n",
        "\n",
        "print(\"Training size: %d\" %len(y_train))\n",
        "print(\"Test size    : %d\" %len(y_test))"
      ],
      "metadata": {
        "colab": {
          "base_uri": "https://localhost:8080/"
        },
        "id": "qlkOgjrhE0u1",
        "outputId": "720b076d-299a-4b41-b637-acb3bae8afbe"
      },
      "execution_count": null,
      "outputs": [
        {
          "output_type": "stream",
          "name": "stdout",
          "text": [
            "Training size: 100\n",
            "Test size    : 50\n"
          ]
        }
      ]
    },
    {
      "cell_type": "code",
      "source": [
        "clf = neighbors.KNeighborsClassifier(n_neighbors = 1, p = 2)\n",
        "clf.fit(X_train, y_train)\n",
        "y_pred = clf.predict(X_test)\n",
        "\n",
        "print(\"Print results for 20 test data points:\")\n",
        "print(\"Predicted labels: \", y_pred[20:40])\n",
        "print(\"Ground truth    : \", y_test[20:40])"
      ],
      "metadata": {
        "colab": {
          "base_uri": "https://localhost:8080/"
        },
        "id": "lsrdXL3pE6lf",
        "outputId": "2b4e9711-8849-4296-98f7-c9f04f5f246e"
      },
      "execution_count": null,
      "outputs": [
        {
          "output_type": "stream",
          "name": "stdout",
          "text": [
            "Print results for 20 test data points:\n",
            "Predicted labels:  [1 0 2 1 0 1 1 0 0 1 0 1 1 1 1 0 0 0 1 2]\n",
            "Ground truth    :  [1 0 2 1 0 1 1 0 0 1 0 1 1 1 1 0 0 0 1 1]\n"
          ]
        }
      ]
    },
    {
      "cell_type": "code",
      "source": [
        "from sklearn.metrics import accuracy_score\n",
        "print(\"Accuracy of 1NN: %.2f %%\" %(100*accuracy_score(y_test, y_pred)))"
      ],
      "metadata": {
        "colab": {
          "base_uri": "https://localhost:8080/"
        },
        "id": "hLHsbCVZFAgk",
        "outputId": "80f372b2-75e0-4c9a-f3cf-a1f1b50f1db8"
      },
      "execution_count": null,
      "outputs": [
        {
          "output_type": "stream",
          "name": "stdout",
          "text": [
            "Accuracy of 1NN: 98.00 %\n"
          ]
        }
      ]
    },
    {
      "cell_type": "code",
      "source": [
        "clf = neighbors.KNeighborsClassifier(n_neighbors = 10, p = 2)\n",
        "clf.fit(X_train, y_train)\n",
        "y_pred = clf.predict(X_test)\n",
        "\n",
        "print(\"Accuracy of 10NN with major voting: %.2f %%\" %(100*accuracy_score(y_test, y_pred)))"
      ],
      "metadata": {
        "colab": {
          "base_uri": "https://localhost:8080/"
        },
        "id": "uBt_AotCFEAd",
        "outputId": "f7ec19cb-ce6f-4d39-81fa-0c8183432e21"
      },
      "execution_count": null,
      "outputs": [
        {
          "output_type": "stream",
          "name": "stdout",
          "text": [
            "Accuracy of 10NN with major voting: 96.00 %\n"
          ]
        }
      ]
    }
  ]
}