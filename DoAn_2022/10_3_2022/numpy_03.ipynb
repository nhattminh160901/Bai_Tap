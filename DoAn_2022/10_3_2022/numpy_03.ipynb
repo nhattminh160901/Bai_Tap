{
  "nbformat": 4,
  "nbformat_minor": 0,
  "metadata": {
    "colab": {
      "name": "numpy_03.ipynb",
      "provenance": [],
      "collapsed_sections": [],
      "authorship_tag": "ABX9TyPIhWyfRAAMtw7Zoh8mp8Gq",
      "include_colab_link": true
    },
    "kernelspec": {
      "name": "python3",
      "display_name": "Python 3"
    },
    "language_info": {
      "name": "python"
    }
  },
  "cells": [
    {
      "cell_type": "markdown",
      "metadata": {
        "id": "view-in-github",
        "colab_type": "text"
      },
      "source": [
        "<a href=\"https://colab.research.google.com/github/nhattminh160901/Bai_Tap/blob/main/DoAn_2022/10_3_2022/numpy_03.ipynb\" target=\"_parent\"><img src=\"https://colab.research.google.com/assets/colab-badge.svg\" alt=\"Open In Colab\"/></a>"
      ]
    },
    {
      "cell_type": "markdown",
      "source": [
        "numpy.apply_along_axis(func1d, axis, arr, *args, **kwargs)\n",
        "\n",
        "func1dfunction (M,) -> (Nj…)\n",
        "\n",
        "This function should accept 1-D arrays. It is applied to 1-D slices of arr along the specified axis.\n",
        "\n",
        "Hàm này phải chấp nhận mảng 1-D. Nó được áp dụng cho các lát arr 1-D dọc theo trục được chỉ định.\n",
        "\n",
        "axisinteger:\n",
        "\n",
        "Axis along which arr is sliced.\n",
        "\n",
        "Trục dọc theo arr được cắt.\n",
        "\n",
        "arrndarray (Ni…, M, Nk…)\n",
        "\n",
        "Input array.\n",
        "\n",
        "Đầu vào mảng.\n",
        "\n",
        "argsany:\n",
        "Additional arguments to func1d.\n",
        "\n",
        "kwargsany:\n",
        "Additional named arguments to func1d."
      ],
      "metadata": {
        "id": "327NbvoSZ1Kq"
      }
    },
    {
      "cell_type": "markdown",
      "source": [
        "Câu 2: Tạo một ma trận A15x17 có giá trị ngẫu nhiên"
      ],
      "metadata": {
        "id": "hTpZuO42aWPs"
      }
    },
    {
      "cell_type": "code",
      "source": [
        "import numpy as np\n",
        "zz = \"\\n\"\n",
        "max = np.random.randint(-10, 10, (15, 17))\n",
        "max"
      ],
      "metadata": {
        "colab": {
          "base_uri": "https://localhost:8080/"
        },
        "id": "-wDUrqtnaX9h",
        "outputId": "128c4ad2-fd1b-4c94-867f-60c458b8e7a4"
      },
      "execution_count": 28,
      "outputs": [
        {
          "output_type": "execute_result",
          "data": {
            "text/plain": [
              "array([[ -3,   9,   6, -10,   9, -10,  -2,   2, -10,  -9,   7,  -8,  -7,\n",
              "          3,   0,  -3,   9],\n",
              "       [  0,  -9,  -3,  -7,  -4,  -1,  -6,   5,  -5,  -8,  -2,  -7,  -4,\n",
              "          7,  -3,   3,  -6],\n",
              "       [  5,   3,  -1,  -1,   6,   8,   5,   5,  -4,  -1,   1,  -8,  -4,\n",
              "          2, -10,  -3,   2],\n",
              "       [  7,  -4,   2,   3,  -3,   3,   2,  -3,   4,   0,  -5,   3,  -1,\n",
              "          9,  -3,  -1,   4],\n",
              "       [  6,  -4,  -8,   5, -10,   7,  -5,  -3,   4,  -2,  -1,   4,  -7,\n",
              "         -1,   5,  -5, -10],\n",
              "       [  8,  -2,   6,  -3,   4,   5,   8,  -7,  -6,  -6,  -3,  -3,   6,\n",
              "          6,  -7, -10,   1],\n",
              "       [  0,  -3,  -9,   8,   7,  -7,   4,  -7,  -1,  -2,   1,   9, -10,\n",
              "         -7,   2,  -9,  -9],\n",
              "       [  6,   1,   9,  -1,  -9,  -5,  -2,   4,   0,   3,   7,   5,  -4,\n",
              "          0,   9,  -5,   3],\n",
              "       [  9,   7,   0,   9,  -1,  -8,  -2,   0,   0,  -8,  -7,   1,  -3,\n",
              "          2,  -6,   8,  -9],\n",
              "       [  8,   6,  -3,   4,  -9,   8,   1,  -6,   8,   8,   0,  -2,   4,\n",
              "         -5,  -2,  -5,  -9],\n",
              "       [ -3,  -4,  -1,  -8,  -8,  -5,  -4,  -1,   9,  -9,   6,   5,  -4,\n",
              "          2,  -5,   2,   1],\n",
              "       [  5,   6,   9,   0,   1,   8, -10,   4,   9,  -1,   1,   6,  -3,\n",
              "         -6,   1,  -5,  -4],\n",
              "       [  1,  -6,  -8,   5,   3,   7,  -4,   6,   8,   4,  -8,   2,  -8,\n",
              "         -5,   1,  -3,  -4],\n",
              "       [  2,   6,   5,   4,   0,   7,  -4,  -6,  -4,   4,   8,  -1,  -7,\n",
              "          7,  -1,  -2, -10],\n",
              "       [ -4,   4,   4,  -1, -10,   1,  -3,  -7,  -6,   6,   6,   7,  -3,\n",
              "          5,  -8,   8,  -4]])"
            ]
          },
          "metadata": {},
          "execution_count": 28
        }
      ]
    },
    {
      "cell_type": "markdown",
      "source": [
        "Câu 3: Xây dựng hàm tìm giá trị lớn nhất có tên là tim_gia_tri_lon_nhat(vector_a) có tham số\n",
        "đầu vào là 1 vector a và giá trị trả về là giá trị phần tử lớn nhất của vector này. Áp dụng hàm này\n",
        "theo từng hàng của ma trận A ở Câu 1 và xuất kết quả ra màn hình."
      ],
      "metadata": {
        "id": "C2UWHCCSbQSm"
      }
    },
    {
      "cell_type": "code",
      "source": [
        "def tim_gia_tri_lon_nhat(vector_a):\n",
        "  return np.max(vector_a)\n",
        "\n",
        "max_ = np.apply_along_axis(tim_gia_tri_lon_nhat, 1, max)\n",
        "max_"
      ],
      "metadata": {
        "colab": {
          "base_uri": "https://localhost:8080/"
        },
        "id": "-O6gR3j5bPZ9",
        "outputId": "820306a5-4663-4f00-ca5a-29152f89e8eb"
      },
      "execution_count": 27,
      "outputs": [
        {
          "output_type": "execute_result",
          "data": {
            "text/plain": [
              "array([8, 7, 8, 8, 9, 8, 7, 9, 8, 8, 7, 7, 9, 9, 9])"
            ]
          },
          "metadata": {},
          "execution_count": 27
        }
      ]
    },
    {
      "cell_type": "markdown",
      "source": [
        "Câu 4: Xây dựng hàm tìm giá trị nhỏ nhất có tên là tim_gia_tri_nho_nhat(vector_a) có tham số\n",
        "đầu vào là 1 vector a và giá trị trả về là giá trị phần tử nhỏ nhất của vector này. Áp dụng hàm này\n",
        "theo từng cột của ma trận A ở Câu 1 và xuất kết quả ra màn hình."
      ],
      "metadata": {
        "id": "5iR0mHthck8B"
      }
    },
    {
      "cell_type": "code",
      "source": [
        "def tim_gia_tri_nho_nhat(vector_a):\n",
        "  return np.min(vector_a)\n",
        "\n",
        "max_ = np.apply_along_axis(tim_gia_tri_nho_nhat, 0, max)\n",
        "max_"
      ],
      "metadata": {
        "colab": {
          "base_uri": "https://localhost:8080/"
        },
        "id": "jJ9vSAxRcnj3",
        "outputId": "9184b8fb-174b-4817-8801-cea6ed667e08"
      },
      "execution_count": 25,
      "outputs": [
        {
          "output_type": "execute_result",
          "data": {
            "text/plain": [
              "array([-10, -10,  -8, -10,  -9,  -9, -10, -10,  -9, -10, -10,  -7, -10,\n",
              "        -6,  -6, -10, -10])"
            ]
          },
          "metadata": {},
          "execution_count": 25
        }
      ]
    },
    {
      "cell_type": "markdown",
      "source": [
        "Câu 5: Xây dựng hàm tìm giá trị lớn nhất có tên là tinh_tong(vector_a) có tham số đầu vào là 1\n",
        "vector a và giá trị trả về là tổng các phần tử của vector này. Áp dụng hàm này theo từng hàng của\n",
        "ma trận A ở Câu 1 và xuất kết quả ra màn hình."
      ],
      "metadata": {
        "id": "Od5z9zSUc-iY"
      }
    },
    {
      "cell_type": "code",
      "source": [
        "def tinh_tong(vector_a):\n",
        "  return np.sum(vector_a)\n",
        "\n",
        "max_ = np.apply_along_axis(tinh_tong, 1, max)\n",
        "max_"
      ],
      "metadata": {
        "colab": {
          "base_uri": "https://localhost:8080/"
        },
        "id": "IZg_XYuGdQl0",
        "outputId": "328faabb-1b06-4254-fd6a-3b29747cb61a"
      },
      "execution_count": 69,
      "outputs": [
        {
          "output_type": "execute_result",
          "data": {
            "text/plain": [
              "array([-17, -50,   5,  17, -25,  -3, -33,  21,  -8,   6, -27,  21,  -9,\n",
              "         8,  -5])"
            ]
          },
          "metadata": {},
          "execution_count": 69
        }
      ]
    },
    {
      "cell_type": "markdown",
      "source": [
        "Câu 6: Xây dựng hàm tìm giá trị lớn nhất có tên là tinh_tong_2(vector_a) có tham số đầu vào là\n",
        "1 vector a và giá trị trả về là tổng các phần tử có chỉ số lẻ (1 – 3 – 5 , .v.v.) của vector này. Áp\n",
        "dụng hàm này theo từng cột của ma trận A ở Câu 1 và xuất kết quả ra màn hình. Tiếp tục áp dụng\n",
        "hàm này theo từng hàng của ma trận A kể trên và xuất kết quả ra màn hình."
      ],
      "metadata": {
        "id": "YXthGacld_2l"
      }
    },
    {
      "cell_type": "code",
      "source": [
        "def tinh_tong_2(vector_a):\n",
        "  return np.sum(vector_a[vector_a%2!=0])\n",
        "\n",
        "max_ = np.apply_along_axis(tinh_tong_2, 1, max)\n",
        "max_"
      ],
      "metadata": {
        "colab": {
          "base_uri": "https://localhost:8080/"
        },
        "id": "WY5KTek6eBbd",
        "outputId": "3f0d38f8-d2de-4829-baa5-838a5d647156"
      },
      "execution_count": 77,
      "outputs": [
        {
          "output_type": "execute_result",
          "data": {
            "text/plain": [
              "array([ 15, -20,  13,   9,  -5, -17, -35,  17,   6, -30,  -9,  17,   9,\n",
              "        10,  -1])"
            ]
          },
          "metadata": {},
          "execution_count": 77
        }
      ]
    }
  ]
}