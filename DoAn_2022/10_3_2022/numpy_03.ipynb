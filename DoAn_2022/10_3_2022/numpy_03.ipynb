{
  "nbformat": 4,
  "nbformat_minor": 0,
  "metadata": {
    "colab": {
      "name": "numpy_03.ipynb",
      "provenance": [],
      "collapsed_sections": [],
      "authorship_tag": "ABX9TyMFsWoxhZKo0JMpp5MReLA4",
      "include_colab_link": true
    },
    "kernelspec": {
      "name": "python3",
      "display_name": "Python 3"
    },
    "language_info": {
      "name": "python"
    }
  },
  "cells": [
    {
      "cell_type": "markdown",
      "metadata": {
        "id": "view-in-github",
        "colab_type": "text"
      },
      "source": [
        "<a href=\"https://colab.research.google.com/github/nhattminh160901/Bai_Tap/blob/main/DoAn_2022/10_3_2022/numpy_03.ipynb\" target=\"_parent\"><img src=\"https://colab.research.google.com/assets/colab-badge.svg\" alt=\"Open In Colab\"/></a>"
      ]
    },
    {
      "cell_type": "markdown",
      "source": [
        "numpy.apply_along_axis(func1d, axis, arr, *args, **kwargs)\n",
        "\n",
        "func1dfunction (M,) -> (Nj…)\n",
        "\n",
        "This function should accept 1-D arrays. It is applied to 1-D slices of arr along the specified axis.\n",
        "\n",
        "Hàm này phải chấp nhận mảng 1-D. Nó được áp dụng cho các lát arr 1-D dọc theo trục được chỉ định.\n",
        "\n",
        "axisinteger:\n",
        "\n",
        "Axis along which arr is sliced.\n",
        "\n",
        "Trục dọc theo arr được cắt.\n",
        "\n",
        "arrndarray (Ni…, M, Nk…)\n",
        "\n",
        "Input array.\n",
        "\n",
        "Đầu vào mảng.\n",
        "\n",
        "argsany:\n",
        "Additional arguments to func1d.\n",
        "\n",
        "kwargsany:\n",
        "Additional named arguments to func1d."
      ],
      "metadata": {
        "id": "327NbvoSZ1Kq"
      }
    },
    {
      "cell_type": "markdown",
      "source": [
        "Câu 2: Tạo một ma trận A15x17 có giá trị ngẫu nhiên"
      ],
      "metadata": {
        "id": "hTpZuO42aWPs"
      }
    },
    {
      "cell_type": "code",
      "source": [
        "import numpy as np\n",
        "\n",
        "matrix = np.random.randint(-10, 10, (15, 17))\n",
        "matrix"
      ],
      "metadata": {
        "colab": {
          "base_uri": "https://localhost:8080/"
        },
        "id": "-wDUrqtnaX9h",
        "outputId": "3153c938-bce0-4bf9-f871-534a229fdc39"
      },
      "execution_count": 14,
      "outputs": [
        {
          "output_type": "execute_result",
          "data": {
            "text/plain": [
              "array([[  8, -10,   2,  -8,   1,   9,  -1,  -2,   2,   5,  -6,   9,   8,\n",
              "          2,  -5,   5,   5],\n",
              "       [ -8,   8,   9,  -8,   1,   4, -10,  -1,   6,   0,  -9,  -8,  -8,\n",
              "          1,  -1,  -8,   7],\n",
              "       [ -7,  -6,   2,  -6,   9,   2,  -3,   4,   6,  -3,  -4,   6,   4,\n",
              "          8,  -7,  -6,  -4],\n",
              "       [  0,   4,   6,   0,  -1,  -1,  -7, -10, -10,  -3,   4,  -5,  -7,\n",
              "          9,  -4,   3,   2],\n",
              "       [ -6,   5,   0,   8,  -1,  -2,  -4,  -3,  -8, -10,  -5,   5,  -6,\n",
              "         -8,   6,   6,   4],\n",
              "       [  5, -10,  -2,  -7,  -1,  -1,   5,   8,   2,   0,   1,  -3, -10,\n",
              "         -1,   1,  -6,   4],\n",
              "       [  2,   7,   4,   4,  -1,  -2,  -6,   7,  -8,  -7,  -1,   8,  -2,\n",
              "          2,   8,  -4,   9],\n",
              "       [ -1,  -9,   3,  -5,   4,  -9,  -4,   3, -10,   9,  -8,   6,   4,\n",
              "        -10,  -3,  -1,  -8],\n",
              "       [ -3,  -2,   3,   9,   4, -10,   6,  -9,   8,  -6,   4,  -8,   5,\n",
              "          8,  -9,   5,  -4],\n",
              "       [  3,  -3,   2,  -1,   6,   9,  -5,   9,   5,   0,   0,   4,  -9,\n",
              "        -10,   3,  -1,  -3],\n",
              "       [ -3,   1,   4,   6,   0,  -8, -10,  -9,   2,  -4,   1,  -3,  -8,\n",
              "        -10,  -3,  -7,  -3],\n",
              "       [  8,  -8,  -7,   5,   5,   5,  -7,   6,  -7,  -9,   3,  -4,   3,\n",
              "        -10,   3,   6,   4],\n",
              "       [ -1,   8, -10,  -9,   8,  -8,   3,   1,   7,  -6, -10,   7, -10,\n",
              "         -4,  -9,   8,  -1],\n",
              "       [ -1,  -6,  -2,  -9,   1,  -9,  -8,  -2,   8,   6,   7,   4,  -7,\n",
              "          1,  -5,   1,   9],\n",
              "       [  0,   8,  -8,   3,   8,   0,   4,  -3,   5, -10,   2,   9,   4,\n",
              "          5,  -7,   5,  -9]])"
            ]
          },
          "metadata": {},
          "execution_count": 14
        }
      ]
    },
    {
      "cell_type": "markdown",
      "source": [
        "Câu 3: Xây dựng hàm tìm giá trị lớn nhất có tên là tim_gia_tri_lon_nhat(vector_a) có tham số\n",
        "đầu vào là 1 vector a và giá trị trả về là giá trị phần tử lớn nhất của vector này. Áp dụng hàm này\n",
        "theo từng hàng của ma trận A ở Câu 1 và xuất kết quả ra màn hình."
      ],
      "metadata": {
        "id": "C2UWHCCSbQSm"
      }
    },
    {
      "cell_type": "code",
      "source": [
        "def tim_gia_tri_lon_nhat(vector_a):\n",
        "  return np.max(vector_a)\n",
        "\n",
        "matrix_ = np.apply_along_axis(tim_gia_tri_lon_nhat, 1, matrix)\n",
        "matrix_"
      ],
      "metadata": {
        "colab": {
          "base_uri": "https://localhost:8080/"
        },
        "id": "-O6gR3j5bPZ9",
        "outputId": "d3d06e64-0091-4b46-c844-d62dd8d4580f"
      },
      "execution_count": 15,
      "outputs": [
        {
          "output_type": "execute_result",
          "data": {
            "text/plain": [
              "array([7, 7, 9, 9, 8, 9, 9, 9, 9, 9, 8, 9, 9, 9, 9])"
            ]
          },
          "metadata": {},
          "execution_count": 15
        }
      ]
    },
    {
      "cell_type": "markdown",
      "source": [
        "Câu 4: Xây dựng hàm tìm giá trị nhỏ nhất có tên là tim_gia_tri_nho_nhat(vector_a) có tham số\n",
        "đầu vào là 1 vector a và giá trị trả về là giá trị phần tử nhỏ nhất của vector này. Áp dụng hàm này\n",
        "theo từng cột của ma trận A ở Câu 1 và xuất kết quả ra màn hình."
      ],
      "metadata": {
        "id": "5iR0mHthck8B"
      }
    },
    {
      "cell_type": "code",
      "source": [
        "def tim_gia_tri_nho_nhat(vector_a):\n",
        "  return np.min(vector_a)\n",
        "\n",
        "matrix_ = np.apply_along_axis(tim_gia_tri_nho_nhat, 0, matrix)\n",
        "matrix_"
      ],
      "metadata": {
        "colab": {
          "base_uri": "https://localhost:8080/"
        },
        "id": "jJ9vSAxRcnj3",
        "outputId": "7f29e405-57a3-4956-fb0a-8b142cd67d87"
      },
      "execution_count": 16,
      "outputs": [
        {
          "output_type": "execute_result",
          "data": {
            "text/plain": [
              "array([ -8,  -7,  -9,  -9, -10, -10,  -8, -10, -10, -10,  -9, -10,  -9,\n",
              "        -9, -10, -10, -10])"
            ]
          },
          "metadata": {},
          "execution_count": 16
        }
      ]
    },
    {
      "cell_type": "markdown",
      "source": [
        "Câu 5: Xây dựng hàm tìm giá trị lớn nhất có tên là tinh_tong(vector_a) có tham số đầu vào là 1\n",
        "vector a và giá trị trả về là tổng các phần tử của vector này. Áp dụng hàm này theo từng hàng của\n",
        "ma trận A ở Câu 1 và xuất kết quả ra màn hình."
      ],
      "metadata": {
        "id": "Od5z9zSUc-iY"
      }
    },
    {
      "cell_type": "code",
      "source": [
        "def tinh_tong(vector_a):\n",
        "  return np.sum(vector_a)\n",
        "\n",
        "matrix_ = np.apply_along_axis(tinh_tong, 1, matrix)\n",
        "matrix_"
      ],
      "metadata": {
        "colab": {
          "base_uri": "https://localhost:8080/"
        },
        "id": "IZg_XYuGdQl0",
        "outputId": "7b2481e0-7f8c-4807-e23f-5854f42bef3a"
      },
      "execution_count": 17,
      "outputs": [
        {
          "output_type": "execute_result",
          "data": {
            "text/plain": [
              "array([-10, -18,   5,  28,   6, -18,  34,   1,  -9, -21,  22,   2, -50,\n",
              "         2,   5])"
            ]
          },
          "metadata": {},
          "execution_count": 17
        }
      ]
    },
    {
      "cell_type": "markdown",
      "source": [
        "Câu 6: Xây dựng hàm tìm giá trị lớn nhất có tên là tinh_tong_2(vector_a) có tham số đầu vào là\n",
        "1 vector a và giá trị trả về là tổng các phần tử có chỉ số lẻ (1 – 3 – 5 , .v.v.) của vector này. Áp\n",
        "dụng hàm này theo từng cột của ma trận A ở Câu 1 và xuất kết quả ra màn hình. Tiếp tục áp dụng\n",
        "hàm này theo từng hàng của ma trận A kể trên và xuất kết quả ra màn hình."
      ],
      "metadata": {
        "id": "YXthGacld_2l"
      }
    },
    {
      "cell_type": "code",
      "source": [
        "def tinh_tong_2(vector_a):\n",
        "  return np.sum(vector_a[vector_a%2!=0])\n",
        "\n",
        "matrix_ = np.apply_along_axis(tinh_tong_2, 1, matrix)\n",
        "matrix_"
      ],
      "metadata": {
        "colab": {
          "base_uri": "https://localhost:8080/"
        },
        "id": "WY5KTek6eBbd",
        "outputId": "f852a855-35a8-41af-e9bd-fbade34deb13"
      },
      "execution_count": 18,
      "outputs": [
        {
          "output_type": "execute_result",
          "data": {
            "text/plain": [
              "array([  6,   4,  21,  10,   0,  10,  24,   1,   7,  -7,  -8,  18, -30,\n",
              "         8,  -3])"
            ]
          },
          "metadata": {},
          "execution_count": 18
        }
      ]
    }
  ]
}
