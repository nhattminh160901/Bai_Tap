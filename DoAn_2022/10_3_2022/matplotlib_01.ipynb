{
  "nbformat": 4,
  "nbformat_minor": 0,
  "metadata": {
    "colab": {
      "name": "matplotlib_01.ipynb",
      "provenance": [],
      "collapsed_sections": [],
      "authorship_tag": "ABX9TyOPKaetPLUI6V/eOrNyopPR",
      "include_colab_link": true
    },
    "kernelspec": {
      "name": "python3",
      "display_name": "Python 3"
    },
    "language_info": {
      "name": "python"
    }
  },
  "cells": [
    {
      "cell_type": "markdown",
      "metadata": {
        "id": "view-in-github",
        "colab_type": "text"
      },
      "source": [
        "<a href=\"https://colab.research.google.com/github/nhattminh160901/Bai_Tap/blob/main/DoAn_2022/10_3_2022/matplotlib_01.ipynb\" target=\"_parent\"><img src=\"https://colab.research.google.com/assets/colab-badge.svg\" alt=\"Open In Colab\"/></a>"
      ]
    },
    {
      "cell_type": "markdown",
      "source": [
        "Câu 1: Xét hàm số y(x) = x^3 + 3x + 7 với x ∈ [−6, 5]. Hãy:\n",
        "- Xác định đạo hàm bậc nhất và bậc hai của hàm số trên;\n",
        "- Tạo ra 1 vector x có 1500 phần tử với giá trị khởi đầu là -6 và kết thúc là 5 bằng hàm linspace();\n",
        "- Xây dựng vector y, y1 và y2 tương ứng hàm số y(x), y(x)′, y(x)′′ với giá trị các phần tử\n",
        "\n",
        "tương ứng được sinh ra từ việc sử dụng vector x ở trên làm tham số đầu vào;\n",
        "- Hãy tạo đối tượng fig (là đối tượng của lớp Figure) và đối tượng ax (là đối tượng của Axes) từ hàm subplot() để phục vụ việc vẽ hình đồ thị của các hàm số trên;\n",
        "- Sử dụng đối tượng ax để vẽ đồ thị cho hàm số y(x) tương ứng với tham số đầu vào là x và y và đặt tên cho đồ thị này là y(x);\n",
        "- Sử dụng đối tượng ax để vẽ đồ thị cho hàm số y′(x) tương ứng với tham số đầu vào là x và y1 và đặt tên cho đồ thị này là y′(x);\n",
        "- Sử dụng đối tượng ax để vẽ đồ thị cho hàm số y′′(x) tương ứng với tham số đầu vào là x và y2 và đặt tên cho đồ thị này là y′′(x);\n",
        "- Thiết lập tên cho các trục tọa độ: tung độ là y và hoành độ là x;\n",
        "- Hiển thị các tên của từng đồ thị lên hình vẽ (gợi ý: hàm legend()).\n",
        "\n",
        "Kết quả xuất ra file ảnh định dạng svg"
      ],
      "metadata": {
        "id": "lRrNIY8qDoPd"
      }
    },
    {
      "cell_type": "code",
      "execution_count": 330,
      "metadata": {
        "colab": {
          "base_uri": "https://localhost:8080/",
          "height": 38
        },
        "id": "x6WuRrBI_-qS",
        "outputId": "14e13190-97ca-4b74-ba60-bbf0d1d6dd2c"
      },
      "outputs": [
        {
          "output_type": "execute_result",
          "data": {
            "text/plain": [
              "3*x**2 + 3"
            ],
            "text/latex": "$\\displaystyle 3 x^{2} + 3$"
          },
          "metadata": {},
          "execution_count": 330
        }
      ],
      "source": [
        "from sympy import *\n",
        "import numpy as np\n",
        "import matplotlib.pyplot as plt\n",
        "\n",
        "\n",
        "x = Symbol(\"x\")\n",
        "y = x**3+3*x+7\n",
        "yprime1 = y.diff(x)\n",
        "yprime2 = yprime1.diff(x)\n",
        "yprime1"
      ]
    },
    {
      "cell_type": "code",
      "source": [
        "yprime2"
      ],
      "metadata": {
        "colab": {
          "base_uri": "https://localhost:8080/",
          "height": 38
        },
        "id": "cxK60ofTGmTg",
        "outputId": "48e1157d-22e4-47ef-818e-bfc1f13c28e8"
      },
      "execution_count": 331,
      "outputs": [
        {
          "output_type": "execute_result",
          "data": {
            "text/plain": [
              "6*x"
            ],
            "text/latex": "$\\displaystyle 6 x$"
          },
          "metadata": {},
          "execution_count": 331
        }
      ]
    },
    {
      "cell_type": "code",
      "source": [
        "y = lambdify(x, y)\n",
        "y1 = lambdify(x, yprime1)\n",
        "y2 = lambdify(x, yprime2)"
      ],
      "metadata": {
        "id": "S_bXY_Y-NVSa"
      },
      "execution_count": 332,
      "outputs": []
    },
    {
      "cell_type": "code",
      "source": [
        "x = np.linspace(-6, 5, 1500)\n",
        "x"
      ],
      "metadata": {
        "colab": {
          "base_uri": "https://localhost:8080/"
        },
        "id": "1otL8VJ3Fk-n",
        "outputId": "de06d6a5-1a26-4819-bab9-3f2128d175a5"
      },
      "execution_count": 333,
      "outputs": [
        {
          "output_type": "execute_result",
          "data": {
            "text/plain": [
              "array([-6.        , -5.99266177, -5.98532355, ...,  4.98532355,\n",
              "        4.99266177,  5.        ])"
            ]
          },
          "metadata": {},
          "execution_count": 333
        }
      ]
    },
    {
      "cell_type": "code",
      "source": [
        "y(x)"
      ],
      "metadata": {
        "colab": {
          "base_uri": "https://localhost:8080/"
        },
        "id": "cxu-aqyLIQgv",
        "outputId": "a68262a7-f160-462f-aecf-e6bc511186ae"
      },
      "execution_count": 334,
      "outputs": [
        {
          "output_type": "execute_result",
          "data": {
            "text/plain": [
              "array([-227.        , -226.18642587, -225.37478795, ...,  145.85846464,\n",
              "        146.42842576,  147.        ])"
            ]
          },
          "metadata": {},
          "execution_count": 334
        }
      ]
    },
    {
      "cell_type": "code",
      "source": [
        "y1(x)"
      ],
      "metadata": {
        "colab": {
          "base_uri": "https://localhost:8080/"
        },
        "id": "GgUFyQFwNqQJ",
        "outputId": "f3675bfe-f16f-4ad3-8fcd-cad59bacc881"
      },
      "execution_count": 335,
      "outputs": [
        {
          "output_type": "execute_result",
          "data": {
            "text/plain": [
              "array([111.        , 110.73598543, 110.47229396, ...,  77.56035267,\n",
              "        77.78001478,  78.        ])"
            ]
          },
          "metadata": {},
          "execution_count": 335
        }
      ]
    },
    {
      "cell_type": "code",
      "source": [
        "y2(x)"
      ],
      "metadata": {
        "colab": {
          "base_uri": "https://localhost:8080/"
        },
        "id": "sqiOjRuaNqWX",
        "outputId": "ea99227b-e330-4ff5-a785-fbd92ec5ea78"
      },
      "execution_count": 336,
      "outputs": [
        {
          "output_type": "execute_result",
          "data": {
            "text/plain": [
              "array([-36.        , -35.95597065, -35.91194129, ...,  29.91194129,\n",
              "        29.95597065,  30.        ])"
            ]
          },
          "metadata": {},
          "execution_count": 336
        }
      ]
    },
    {
      "cell_type": "code",
      "source": [
        "fig, ax = plt.subplots()\n",
        "ax.set_xlabel(\"x\")\n",
        "ax.set_ylabel(\"y\")\n",
        "ax.plot(x, y(x))\n",
        "ax.set_title(\"y(x)\");"
      ],
      "metadata": {
        "colab": {
          "base_uri": "https://localhost:8080/",
          "height": 295
        },
        "id": "uA1-4WTwl9xH",
        "outputId": "7b0112c0-e3ba-459c-9825-2100fea9a5a8"
      },
      "execution_count": 337,
      "outputs": [
        {
          "output_type": "display_data",
          "data": {
            "text/plain": [
              "<Figure size 432x288 with 1 Axes>"
            ],
            "image/png": "[encoded data removed]"
          },
          "metadata": {
            "needs_background": "light"
          }
        }
      ]
    },
    {
      "cell_type": "code",
      "source": [
        "fig, ax = plt.subplots()\n",
        "ax.set_xlabel(\"x\")\n",
        "ax.set_ylabel(\"y\")\n",
        "ax.plot(x, y1(x))\n",
        "ax.set_title(\"y'(x)\");"
      ],
      "metadata": {
        "colab": {
          "base_uri": "https://localhost:8080/",
          "height": 295
        },
        "id": "yu3PBtUgmGkm",
        "outputId": "791e646d-8da3-48df-d3ba-0f5f533c27ef"
      },
      "execution_count": 338,
      "outputs": [
        {
          "output_type": "display_data",
          "data": {
            "text/plain": [
              "<Figure size 432x288 with 1 Axes>"
            ],
            "image/png": "[encoded data removed]"
          },
          "metadata": {
            "needs_background": "light"
          }
        }
      ]
    },
    {
      "cell_type": "code",
      "source": [
        "fig, ax = plt.subplots()\n",
        "ax.set_xlabel(\"x\")\n",
        "ax.set_ylabel(\"y\")\n",
        "ax.plot(x, y2(x))\n",
        "ax.set_title(\"y''(x)\");"
      ],
      "metadata": {
        "colab": {
          "base_uri": "https://localhost:8080/",
          "height": 295
        },
        "id": "xh6J2zexmIzg",
        "outputId": "3e15997c-6c67-40f8-908a-e94ab7d46b4e"
      },
      "execution_count": 339,
      "outputs": [
        {
          "output_type": "display_data",
          "data": {
            "text/plain": [
              "<Figure size 432x288 with 1 Axes>"
            ],
            "image/png": "[encoded data removed]"
          },
          "metadata": {
            "needs_background": "light"
          }
        }
      ]
    },
    {
      "cell_type": "code",
      "source": [
        "fig, ax = plt.subplots()\n",
        "ax.set_xlabel(\"x\")\n",
        "ax.set_ylabel(\"y\")\n",
        "ax.plot(x, y(x))\n",
        "ax.plot(x, y1(x))\n",
        "ax.plot(x, y2(x))\n",
        "ax.legend([\"y(x)\", \"y'(x)\", \"y''(x)\"])\n",
        "fig.savefig(\"matplotlib_01.svg\")"
      ],
      "metadata": {
        "colab": {
          "base_uri": "https://localhost:8080/",
          "height": 279
        },
        "id": "cmh-GcIGQQVA",
        "outputId": "214e2b8e-8101-4267-d7ea-fe0f7e27cc2d"
      },
      "execution_count": 340,
      "outputs": [
        {
          "output_type": "display_data",
          "data": {
            "text/plain": [
              "<Figure size 432x288 with 1 Axes>"
            ],
            "image/png": "[encoded data removed]"
          },
          "metadata": {
            "needs_background": "light"
          }
        }
      ]
    }
  ]
}
