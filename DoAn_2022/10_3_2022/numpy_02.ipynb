{
  "nbformat": 4,
  "nbformat_minor": 0,
  "metadata": {
    "colab": {
      "name": "numpy_02.ipynb",
      "provenance": [],
      "collapsed_sections": [],
      "authorship_tag": "ABX9TyM+3h/4s6LTzjY3QPkHug4y",
      "include_colab_link": true
    },
    "kernelspec": {
      "name": "python3",
      "display_name": "Python 3"
    },
    "language_info": {
      "name": "python"
    }
  },
  "cells": [
    {
      "cell_type": "markdown",
      "metadata": {
        "id": "view-in-github",
        "colab_type": "text"
      },
      "source": [
        "<a href=\"https://colab.research.google.com/github/nhattminh160901/Bai_Tap/blob/main/DoAn_2022/10_3_2022/numpy_02.ipynb\" target=\"_parent\"><img src=\"https://colab.research.google.com/assets/colab-badge.svg\" alt=\"Open In Colab\"/></a>"
      ]
    },
    {
      "cell_type": "markdown",
      "source": [
        "Bài 1: Sử dụng thư viện NumPy, hãy tạo ra một ma trận A ∈ R7×5, giá trị các phần tử của ma trận được sinh ngẫu nhiên. Kết quả xuất ra màn hình."
      ],
      "metadata": {
        "id": "0iRj3_fNPkbQ"
      }
    },
    {
      "cell_type": "code",
      "execution_count": 46,
      "metadata": {
        "colab": {
          "base_uri": "https://localhost:8080/"
        },
        "id": "heyIEUOcPbWR",
        "outputId": "bb633e8d-0c04-46a8-976d-ae99374730c9"
      },
      "outputs": [
        {
          "output_type": "stream",
          "name": "stdout",
          "text": [
            "[[  6   1  -5  -2  -6]\n",
            " [ -9  -1   5  -3   7]\n",
            " [-10  -3   5   8   8]\n",
            " [  0 -10  -8  -3   2]\n",
            " [  5  -4   0  -6   4]\n",
            " [ -7  -3   2  -2   0]\n",
            " [ -9   7   8   5  -1]]\n"
          ]
        }
      ],
      "source": [
        "import numpy as np\n",
        "zz = \"\\n\"\n",
        "A =np.random.randint(-10, 10, (7, 5))\n",
        "print(A)"
      ]
    },
    {
      "cell_type": "markdown",
      "source": [
        "Bài 2 – Ma trận không (zero matrix): Ma trận Am×n được gọi là ma trận không khi ai,j = 0, ∀i,j.Sử dụng thư viện NumPy, hãy tạo một ma trận 0 - A6×7. Gợi ý: sử dụng hàm numpy.zeros((m,n)).\n",
        "Kết quả xuất ra màn hình."
      ],
      "metadata": {
        "id": "7ZW5W4KtQRHH"
      }
    },
    {
      "cell_type": "code",
      "source": [
        "A = np.zeros((6, 7))\n",
        "print(A)"
      ],
      "metadata": {
        "colab": {
          "base_uri": "https://localhost:8080/"
        },
        "id": "78OKQFA2QRYg",
        "outputId": "869e4200-834e-4946-9cfd-f56d7c071299"
      },
      "execution_count": 47,
      "outputs": [
        {
          "output_type": "stream",
          "name": "stdout",
          "text": [
            "[[0. 0. 0. 0. 0. 0. 0.]\n",
            " [0. 0. 0. 0. 0. 0. 0.]\n",
            " [0. 0. 0. 0. 0. 0. 0.]\n",
            " [0. 0. 0. 0. 0. 0. 0.]\n",
            " [0. 0. 0. 0. 0. 0. 0.]\n",
            " [0. 0. 0. 0. 0. 0. 0.]]\n"
          ]
        }
      ]
    },
    {
      "cell_type": "markdown",
      "source": [
        "Bài 3 – Ma trận vuông: Là ma trận có số hàng và số cột bằng nhau. Sử dụng thư viện NumPy, hãy tạo ra một ma trận A ∈ R7×7, giá trị các phần tử của ma trận được sinh ngẫu nhiên. Kết quả xuất ra màn hình."
      ],
      "metadata": {
        "id": "B2nzCxDKQndR"
      }
    },
    {
      "cell_type": "code",
      "source": [
        "A = np.random.randint(-10, 10, (7, 7))\n",
        "print(A)"
      ],
      "metadata": {
        "colab": {
          "base_uri": "https://localhost:8080/"
        },
        "id": "aN3KpUdgQpP4",
        "outputId": "f6a65eca-dd3c-4abc-dd00-ba984e2039a4"
      },
      "execution_count": 48,
      "outputs": [
        {
          "output_type": "stream",
          "name": "stdout",
          "text": [
            "[[ -5   0  -1  -2  -5 -10   7]\n",
            " [-10   5  -1  -4  -7   2  -1]\n",
            " [  4  -5  -1  -1  -1   6  -3]\n",
            " [ -5  -1   6   4   9   0   8]\n",
            " [  1   2   3 -10   5   6   6]\n",
            " [ -6   7   4   2   5  -4  -5]\n",
            " [ -6   4   4   3   7   8   7]]\n"
          ]
        }
      ]
    },
    {
      "cell_type": "markdown",
      "source": [
        "Bài 4 – Ma trận chéo (diagonal matrix): Ma trận vuông có các phần tử trên đường chéo ai,i ≠ 0 trong khi các phần tử còn lại ai,j = 0, ∀i ≠ j.\n",
        "Sử dụng thư viện NumPy, hãy tạo một ma trận chéo A6×6 với phần tử nằm trên đường chéo có giá trị là 15. Gợi ý: sử dụng kết hợp hàm numpy.zeros() và numpy.fill_diagonal(). Kết quả xuất ra màn hình."
      ],
      "metadata": {
        "id": "IQzPMrj1Q6Vn"
      }
    },
    {
      "cell_type": "code",
      "source": [
        "A = np.zeros((6,6))\n",
        "np.fill_diagonal(A, 15)\n",
        "print(A)"
      ],
      "metadata": {
        "colab": {
          "base_uri": "https://localhost:8080/"
        },
        "id": "S2Zs1tJhQ61p",
        "outputId": "a00c8d3c-f522-4e10-d2da-ea68116331a6"
      },
      "execution_count": 49,
      "outputs": [
        {
          "output_type": "stream",
          "name": "stdout",
          "text": [
            "[[15.  0.  0.  0.  0.  0.]\n",
            " [ 0. 15.  0.  0.  0.  0.]\n",
            " [ 0.  0. 15.  0.  0.  0.]\n",
            " [ 0.  0.  0. 15.  0.  0.]\n",
            " [ 0.  0.  0.  0. 15.  0.]\n",
            " [ 0.  0.  0.  0.  0. 15.]]\n"
          ]
        }
      ]
    },
    {
      "cell_type": "markdown",
      "source": [
        "Bài 5 – Ma trận tam giác trên (upper triangular matrix): Ma trận vuông An×n được gọi là ma trận tam giác trên nếu các phần tử nằm trên đường chéo đều khác 0 và các phần tử nằm dưới đường chéo đều bằng 0.\n",
        "Sử dụng thư viện NumPy, hãy tạo một ma trận tam giác trên A8×8. Gợi ý: sử dụng hàm numpy.triu(). Kết quả xuất ra màn hình."
      ],
      "metadata": {
        "id": "IH6LnwtqRK5H"
      }
    },
    {
      "cell_type": "code",
      "source": [
        "A = np.random.randint(-10, 10, (8, 8))\n",
        "A_ = np.triu(A,1)\n",
        "print(A_)"
      ],
      "metadata": {
        "colab": {
          "base_uri": "https://localhost:8080/"
        },
        "id": "dopdLcW7RMVz",
        "outputId": "66c5e67d-1882-4671-d483-223a4caaef7f"
      },
      "execution_count": 50,
      "outputs": [
        {
          "output_type": "stream",
          "name": "stdout",
          "text": [
            "[[  0   9 -10   9   5   2  -6   3]\n",
            " [  0   0  -3  -3   3   7   3  -4]\n",
            " [  0   0   0   2  -4  -3   2   0]\n",
            " [  0   0   0   0   2   2  -8  -7]\n",
            " [  0   0   0   0   0   5  -3   8]\n",
            " [  0   0   0   0   0   0  -8   3]\n",
            " [  0   0   0   0   0   0   0  -7]\n",
            " [  0   0   0   0   0   0   0   0]]\n"
          ]
        }
      ]
    },
    {
      "cell_type": "markdown",
      "source": [
        "Bài 6 – Ma trận tam giác dưới (lower triangular matrix): Tương tự bài 5, bạn hãy xây dựng\n",
        "ma trận tam giác dưới. Kết quả xuất ra màn hình."
      ],
      "metadata": {
        "id": "5RvrCxTGRZ2s"
      }
    },
    {
      "cell_type": "code",
      "source": [
        "A_ = np.tril(A,-1)\n",
        "print(A_)"
      ],
      "metadata": {
        "colab": {
          "base_uri": "https://localhost:8080/"
        },
        "id": "TzWhkkEpRbTJ",
        "outputId": "658cc573-0472-453e-c0e6-1d4d583abf05"
      },
      "execution_count": 51,
      "outputs": [
        {
          "output_type": "stream",
          "name": "stdout",
          "text": [
            "[[  0   0   0   0   0   0   0   0]\n",
            " [-10   0   0   0   0   0   0   0]\n",
            " [ -3   0   0   0   0   0   0   0]\n",
            " [  2   6  -1   0   0   0   0   0]\n",
            " [  5  -8  -6  -3   0   0   0   0]\n",
            " [  9 -10  -3   8   6   0   0   0]\n",
            " [ -4  -1   2   8   7   6   0   0]\n",
            " [  6   5   4  -4  -6   9  -4   0]]\n"
          ]
        }
      ]
    },
    {
      "cell_type": "markdown",
      "source": [
        "Bài 7 – Ma trận đơn vị (identity matrix): Ma trận đơn vị In có số chiều n là một ma trận vuông\n",
        "mà mọi phần tử trên đường chéo chính bằng 1. Sử dụng thư viện NumPy, hãy tạo ra một ma trận\n",
        "I9\n",
        ". Kết quả xuất ra màn hình. Gợi ý: sử dụng hàm numpy.identity()"
      ],
      "metadata": {
        "id": "jilxl_xeRmZH"
      }
    },
    {
      "cell_type": "code",
      "source": [
        "I = np.identity(9)\n",
        "print(I)"
      ],
      "metadata": {
        "colab": {
          "base_uri": "https://localhost:8080/"
        },
        "id": "mNyI4DyBRn5_",
        "outputId": "dc30ac4a-a135-4e92-d6fa-26dccea7c176"
      },
      "execution_count": 52,
      "outputs": [
        {
          "output_type": "stream",
          "name": "stdout",
          "text": [
            "[[1. 0. 0. 0. 0. 0. 0. 0. 0.]\n",
            " [0. 1. 0. 0. 0. 0. 0. 0. 0.]\n",
            " [0. 0. 1. 0. 0. 0. 0. 0. 0.]\n",
            " [0. 0. 0. 1. 0. 0. 0. 0. 0.]\n",
            " [0. 0. 0. 0. 1. 0. 0. 0. 0.]\n",
            " [0. 0. 0. 0. 0. 1. 0. 0. 0.]\n",
            " [0. 0. 0. 0. 0. 0. 1. 0. 0.]\n",
            " [0. 0. 0. 0. 0. 0. 0. 1. 0.]\n",
            " [0. 0. 0. 0. 0. 0. 0. 0. 1.]]\n"
          ]
        }
      ]
    },
    {
      "cell_type": "markdown",
      "source": [
        "Bài 8 – Phép toán trên ma trận: sử dụng thư viện NumPy để thực hiện các yêu cầu sau:"
      ],
      "metadata": {
        "id": "O2pptwWPRraS"
      }
    },
    {
      "cell_type": "code",
      "source": [
        "# Sinh ngẫu nhiên 2 ma trận có kích thước 6x7. \n",
        "# Thực hiện phép cộng 2 ma trận trên. Xuất giá trị các ma trận ra màn hình.\n",
        "max1 = np.random.randint(-10, 10, (6, 7))\n",
        "print(\"matrix A:\", max1, sep=zz)\n",
        "max2 = np.random.randint(-10, 10, (6, 7))\n",
        "print(\"matrix B:\", max2, sep=zz)\n",
        "print(\"matrix C:\", max1+max2, sep=zz)"
      ],
      "metadata": {
        "colab": {
          "base_uri": "https://localhost:8080/"
        },
        "id": "N6Oz4qiPRspV",
        "outputId": "b4c1f343-a975-4ef8-fafb-fc9b147e89c6"
      },
      "execution_count": 53,
      "outputs": [
        {
          "output_type": "stream",
          "name": "stdout",
          "text": [
            "matrix A:\n",
            "[[  7   4  -9  -6  -7  -5   7]\n",
            " [ -7   5  -2   6  -6   2  -2]\n",
            " [  6  -6   0  -9  -4   7   5]\n",
            " [ -4 -10   2  -6  -5   3  -6]\n",
            " [  0  -4  -7   5 -10   1 -10]\n",
            " [  9   4  -9  -5   9  -4   2]]\n",
            "matrix B:\n",
            "[[ -5  -3  -9   7  -7  -2  -6]\n",
            " [  8 -10   6   5  -1  -5   7]\n",
            " [ -9   8  -5   2  -4   7   2]\n",
            " [ -5  -7  -9   5   3   2 -10]\n",
            " [  1   5   6   3   9   5 -10]\n",
            " [ -9   2   1  -7   7   2  -1]]\n",
            "matrix C:\n",
            "[[  2   1 -18   1 -14  -7   1]\n",
            " [  1  -5   4  11  -7  -3   5]\n",
            " [ -3   2  -5  -7  -8  14   7]\n",
            " [ -9 -17  -7  -1  -2   5 -16]\n",
            " [  1   1  -1   8  -1   6 -20]\n",
            " [  0   6  -8 -12  16  -2   1]]\n"
          ]
        }
      ]
    },
    {
      "cell_type": "code",
      "source": [
        "# Sinh ngẫu nhiên 1 ma trận có kích thước 5x8. \n",
        "# Thực hiện nhân vô hướng 1 số được nhập từ bàn phím với ma trận này.\n",
        "# Kết quả xuất ra màn hình.\n",
        "max3 = np.random.randint(-10, 10, (5, 8))\n",
        "print(\"matrix:\", max3, sep=zz)\n",
        "m = int(input(\"m: \"))\n",
        "print(\"matrix x m:\", m*max3, sep=zz)"
      ],
      "metadata": {
        "colab": {
          "base_uri": "https://localhost:8080/"
        },
        "id": "j6eUAUQbSctQ",
        "outputId": "cf974b89-a6e6-4877-e708-3bb359c8fec9"
      },
      "execution_count": 54,
      "outputs": [
        {
          "output_type": "stream",
          "name": "stdout",
          "text": [
            "matrix:\n",
            "[[  2   4   5  -7   2   4 -10   1]\n",
            " [  4   8  -2  -7   5  -3  -6  -5]\n",
            " [  1   6  -4  -8   7 -10  -6  -9]\n",
            " [  5  -4   9   1  -6   2   3   8]\n",
            " [  6   6   8  -5  -2   8   5  -3]]\n",
            "m: 4\n",
            "matrix x m:\n",
            "[[  8  16  20 -28   8  16 -40   4]\n",
            " [ 16  32  -8 -28  20 -12 -24 -20]\n",
            " [  4  24 -16 -32  28 -40 -24 -36]\n",
            " [ 20 -16  36   4 -24   8  12  32]\n",
            " [ 24  24  32 -20  -8  32  20 -12]]\n"
          ]
        }
      ]
    },
    {
      "cell_type": "code",
      "source": [
        "# Sinh ngẫu nhiên một ma trận có kích thước 3x7. \n",
        "# Thực hiện phép chuyển vị đối với ma trận này. \n",
        "# Xuất các ma trận này ra màn hình.\n",
        "max4 = np.random.randint(-10, 10, (3, 7))\n",
        "print(\"matrix:\", max4, sep=zz)\n",
        "print(\"transpose matrix:\", max4.T, sep=zz)"
      ],
      "metadata": {
        "colab": {
          "base_uri": "https://localhost:8080/"
        },
        "id": "RC5yHEWnTVj-",
        "outputId": "ecb7e172-a64d-46e3-95ac-ec7a06119a4f"
      },
      "execution_count": 56,
      "outputs": [
        {
          "output_type": "stream",
          "name": "stdout",
          "text": [
            "matrix:\n",
            "[[-10   8   6   5   2   1   0]\n",
            " [  4   0  -4  -5  -3   6  -4]\n",
            " [  3  -1  -3  -4  -4 -10  -6]]\n",
            "transpose matrix:\n",
            "[[-10   4   3]\n",
            " [  8   0  -1]\n",
            " [  6  -4  -3]\n",
            " [  5  -5  -4]\n",
            " [  2  -3  -4]\n",
            " [  1   6 -10]\n",
            " [  0  -4  -6]]\n"
          ]
        }
      ]
    },
    {
      "cell_type": "code",
      "source": [
        "# Hãy sinh ngẫu nhiên 2 ma trận A5×7 và B7×3,\n",
        "# tiến hành nhân 2 ma trận này để thu được ma trận C5×3. \n",
        "# Xuất các ma trận trên ra màn hình. Gợi ý: sử dụng hàm numpy.dot()\n",
        "max5 = np.random.randint(-10, 10, (5, 7))\n",
        "print(\"matrix 5x7\", max5, sep=zz)\n",
        "max6 = np.random.randint(-10, 10, (7, 3))\n",
        "print(\"matrix 3x7:\", max6, sep=zz)\n",
        "print(\"matrix c5x3:\", np.dot(max5, max6), sep=zz)"
      ],
      "metadata": {
        "colab": {
          "base_uri": "https://localhost:8080/"
        },
        "id": "zocw7GaRUf48",
        "outputId": "9f14ec27-08e8-40fb-b18c-3a4bfaaa760b"
      },
      "execution_count": 57,
      "outputs": [
        {
          "output_type": "stream",
          "name": "stdout",
          "text": [
            "matrix 5x7\n",
            "[[ -1  -3  -6   3   4   0  -5]\n",
            " [ -5  -1  -5   1  -2  -2  -6]\n",
            " [ -4   3   2   7   4   3   4]\n",
            " [  2   5   1 -10  -9   1   6]\n",
            " [  5   6   9  -6   1   2  -1]]\n",
            "matrix 3x7:\n",
            "[[ -1   8 -10]\n",
            " [ -5   9  -5]\n",
            " [  0   9   3]\n",
            " [  1   3  -4]\n",
            " [  4  -8  -6]\n",
            " [ -9   1 -10]\n",
            " [ -1   5 -10]]\n",
            "matrix c5x3:\n",
            "[[  40 -137   21]\n",
            " [  27 -107  128]\n",
            " [ -19   25  -91]\n",
            " [ -88  143  -18]\n",
            " [ -54  146  -45]]\n"
          ]
        }
      ]
    },
    {
      "cell_type": "code",
      "source": [
        "# Cho ma trận A5×7, hãy tính ma trận khả nghịch của A. \n",
        "# Gợi ý: sử dụng hàm numpy.linalg.inv()\n",
        "max7 = np.random.randint(-10, 10, (5, 7))\n",
        "print(\"matrix 5x7:\", max7, sep=zz)\n",
        "print(\"invertible matrix:\", np.linalg.pinv(max7), sep=zz)"
      ],
      "metadata": {
        "colab": {
          "base_uri": "https://localhost:8080/"
        },
        "id": "k9hPpjarVAmQ",
        "outputId": "38e4a30d-b3ed-4148-b8eb-86150da66392"
      },
      "execution_count": 67,
      "outputs": [
        {
          "output_type": "stream",
          "name": "stdout",
          "text": [
            "matrix 5x7:\n",
            "[[ 4  4  1  2  2 -2  9]\n",
            " [-5 -2 -5 -7 -3 -7  4]\n",
            " [ 2  1 -2 -8  9  6  5]\n",
            " [-3  8 -6  7  9 -9 -2]\n",
            " [ 0  6  2  4  8 -9 -9]]\n",
            "invertible matrix:\n",
            "[[ 0.04747862 -0.017182    0.00385405 -0.03881405  0.03244911]\n",
            " [ 0.02584637 -0.00911012  0.00367056  0.01465413  0.00947989]\n",
            " [ 0.04649226 -0.00493488 -0.00911664 -0.07701761  0.0707516 ]\n",
            " [ 0.00580826 -0.05328242 -0.0436243   0.05329986 -0.04766247]\n",
            " [-0.00681179 -0.01347824  0.05140016  0.01716273  0.02189552]\n",
            " [-0.04049213 -0.05719189  0.02518434  0.02287807 -0.05728814]\n",
            " [ 0.06458118  0.0143601   0.00153724  0.00872091 -0.03350111]]\n"
          ]
        }
      ]
    },
    {
      "cell_type": "markdown",
      "source": [
        "Bài 9 – Vector là dạng ma trận đặc biệt: Sử dụng numpy để thực hiện các yêu cầu sau"
      ],
      "metadata": {
        "id": "3O_ERF3YWNrv"
      }
    },
    {
      "cell_type": "code",
      "source": [
        "# Vector hàng (row vector) thực chất là ma trận có kích thước 1 × n. \n",
        "# Hãy tạo ngẫu nhiên 1 vector hàng x có kích thước 1 × 8. \n",
        "# Kết quả xuất ra màn hình.\n",
        "import numpy as np\n",
        "\n",
        "row_vector = np.random.randint(-10, 10, (1,8))\n",
        "print(row_vector)"
      ],
      "metadata": {
        "colab": {
          "base_uri": "https://localhost:8080/"
        },
        "id": "XjomW3dqWPTQ",
        "outputId": "8658856f-6118-4264-99bf-8a0a66456de1"
      },
      "execution_count": 59,
      "outputs": [
        {
          "output_type": "stream",
          "name": "stdout",
          "text": [
            "[[  0  -8   6   2   3   7  -8 -10]]\n"
          ]
        }
      ]
    },
    {
      "cell_type": "code",
      "source": [
        "# Vector cột (column vector) thực chất là ma trận có kích thước m × 1. \n",
        "# Hãy tạo ngẫu nhiên 1 vector cột x có kích thước 8 × 1. \n",
        "# Kết quả xuất ra màn hình.\n",
        "import numpy as np\n",
        "\n",
        "column_vector = np.random.randint(-10, 10, (8,1))\n",
        "print(column_vector)"
      ],
      "metadata": {
        "colab": {
          "base_uri": "https://localhost:8080/"
        },
        "id": "JdP4Y6uAWYiO",
        "outputId": "a4574675-653c-4b85-e3d8-9eb2fdc9f75b"
      },
      "execution_count": 60,
      "outputs": [
        {
          "output_type": "stream",
          "name": "stdout",
          "text": [
            "[[ 6]\n",
            " [ 6]\n",
            " [ 7]\n",
            " [ 1]\n",
            " [-7]\n",
            " [ 0]\n",
            " [ 7]\n",
            " [ 6]]\n"
          ]
        }
      ]
    },
    {
      "cell_type": "markdown",
      "source": [
        "Bài 10 - Hệ phương trình tuyến tính:"
      ],
      "metadata": {
        "id": "S7e3rsa9X9Wk"
      }
    },
    {
      "cell_type": "code",
      "source": [
        "A = np.array([[4, 3, -5], \n",
        "              [-2, -4, 5], \n",
        "              [8, 8, 0]])\n",
        "y = np.array([2, 5, -3])\n",
        "\n",
        "x = np.linalg.solve(A, y)\n",
        "print(x)"
      ],
      "metadata": {
        "colab": {
          "base_uri": "https://localhost:8080/"
        },
        "id": "Rzb_6aFqXLhD",
        "outputId": "795f376a-2736-4bdd-f21e-46d4ceaf5a65"
      },
      "execution_count": 72,
      "outputs": [
        {
          "output_type": "stream",
          "name": "stdout",
          "text": [
            "[ 2.20833333 -2.58333333 -0.18333333]\n"
          ]
        }
      ]
    },
    {
      "cell_type": "code",
      "source": [
        "#ma trận khả nghịch\n",
        "A_inv = np.linalg.pinv(A)\n",
        "x = np.dot(A_inv, y)\n",
        "print(\"ma trận khả nghịch:\")\n",
        "print(x)"
      ],
      "metadata": {
        "colab": {
          "base_uri": "https://localhost:8080/"
        },
        "id": "3RCcrOohX6dM",
        "outputId": "4c5df67f-4ce1-4224-d190-cad1cbd37129"
      },
      "execution_count": 73,
      "outputs": [
        {
          "output_type": "stream",
          "name": "stdout",
          "text": [
            "ma trận khả nghịch:\n",
            "[ 2.20833333 -2.58333333 -0.18333333]\n"
          ]
        }
      ]
    }
  ]
}