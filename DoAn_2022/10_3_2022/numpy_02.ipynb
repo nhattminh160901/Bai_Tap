{
  "nbformat": 4,
  "nbformat_minor": 0,
  "metadata": {
    "colab": {
      "name": "numpy_02.ipynb",
      "provenance": [],
      "collapsed_sections": [],
      "authorship_tag": "ABX9TyP28XgB1/zdoRtMZ3US4HMe",
      "include_colab_link": true
    },
    "kernelspec": {
      "name": "python3",
      "display_name": "Python 3"
    },
    "language_info": {
      "name": "python"
    }
  },
  "cells": [
    {
      "cell_type": "markdown",
      "metadata": {
        "id": "view-in-github",
        "colab_type": "text"
      },
      "source": [
        "<a href=\"https://colab.research.google.com/github/nhattminh160901/Bai_Tap/blob/main/DoAn_2022/10_3_2022/numpy_02.ipynb\" target=\"_parent\"><img src=\"https://colab.research.google.com/assets/colab-badge.svg\" alt=\"Open In Colab\"/></a>"
      ]
    },
    {
      "cell_type": "markdown",
      "source": [
        "Bài 1: Sử dụng thư viện NumPy, hãy tạo ra một ma trận A ∈ R7×5, giá trị các phần tử của ma trận được sinh ngẫu nhiên. Kết quả xuất ra màn hình."
      ],
      "metadata": {
        "id": "0iRj3_fNPkbQ"
      }
    },
    {
      "cell_type": "code",
      "execution_count": 1,
      "metadata": {
        "colab": {
          "base_uri": "https://localhost:8080/"
        },
        "id": "heyIEUOcPbWR",
        "outputId": "380ee98c-5b45-46e5-c628-2576577c0b1c"
      },
      "outputs": [
        {
          "output_type": "execute_result",
          "data": {
            "text/plain": [
              "array([[  2,  -9, -10,   3,   8],\n",
              "       [  1,  -9,   7,  -2,   3],\n",
              "       [ -9,   8,   0,  -5,  -1],\n",
              "       [ -9,  -6,   8,  -5,  -7],\n",
              "       [ -7,  -7,  -8,  -2,  -2],\n",
              "       [  6,   6,   3,   8,   7],\n",
              "       [  8,  -1,  -7,   8,  -2]])"
            ]
          },
          "metadata": {},
          "execution_count": 1
        }
      ],
      "source": [
        "import numpy as np\n",
        "zz = \"\\n\"\n",
        "A =np.random.randint(-10, 10, (7, 5))\n",
        "A"
      ]
    },
    {
      "cell_type": "markdown",
      "source": [
        "Bài 2 – Ma trận không (zero matrix): Ma trận Am×n được gọi là ma trận không khi ai,j = 0, ∀i,j.Sử dụng thư viện NumPy, hãy tạo một ma trận 0 - A6×7. Gợi ý: sử dụng hàm numpy.zeros((m,n)).\n",
        "Kết quả xuất ra màn hình."
      ],
      "metadata": {
        "id": "7ZW5W4KtQRHH"
      }
    },
    {
      "cell_type": "code",
      "source": [
        "A = np.zeros((6, 7))\n",
        "A"
      ],
      "metadata": {
        "colab": {
          "base_uri": "https://localhost:8080/"
        },
        "id": "78OKQFA2QRYg",
        "outputId": "1f120171-54e6-41b6-82db-bf85c3a92729"
      },
      "execution_count": 2,
      "outputs": [
        {
          "output_type": "execute_result",
          "data": {
            "text/plain": [
              "array([[0., 0., 0., 0., 0., 0., 0.],\n",
              "       [0., 0., 0., 0., 0., 0., 0.],\n",
              "       [0., 0., 0., 0., 0., 0., 0.],\n",
              "       [0., 0., 0., 0., 0., 0., 0.],\n",
              "       [0., 0., 0., 0., 0., 0., 0.],\n",
              "       [0., 0., 0., 0., 0., 0., 0.]])"
            ]
          },
          "metadata": {},
          "execution_count": 2
        }
      ]
    },
    {
      "cell_type": "markdown",
      "source": [
        "Bài 3 – Ma trận vuông: Là ma trận có số hàng và số cột bằng nhau. Sử dụng thư viện NumPy, hãy tạo ra một ma trận A ∈ R7×7, giá trị các phần tử của ma trận được sinh ngẫu nhiên. Kết quả xuất ra màn hình."
      ],
      "metadata": {
        "id": "B2nzCxDKQndR"
      }
    },
    {
      "cell_type": "code",
      "source": [
        "A = np.random.randint(-10, 10, (7, 7))\n",
        "A"
      ],
      "metadata": {
        "colab": {
          "base_uri": "https://localhost:8080/"
        },
        "id": "aN3KpUdgQpP4",
        "outputId": "3228f3bd-dcfb-4fcc-d5c8-7633fb443a64"
      },
      "execution_count": 3,
      "outputs": [
        {
          "output_type": "execute_result",
          "data": {
            "text/plain": [
              "array([[ 6, -7, -7, -8, -7, -3, -6],\n",
              "       [ 2,  6, -1, -3, -4, -4, -6],\n",
              "       [-1, -4, -9,  6,  0, -6,  1],\n",
              "       [ 7,  5,  4, -7,  1, -4, -4],\n",
              "       [ 4, -4,  6,  2,  1, -6, -8],\n",
              "       [-3, -2, -4,  7,  4,  2, -3],\n",
              "       [ 8, -9, -5, -8, -8, -6,  7]])"
            ]
          },
          "metadata": {},
          "execution_count": 3
        }
      ]
    },
    {
      "cell_type": "markdown",
      "source": [
        "Bài 4 – Ma trận chéo (diagonal matrix): Ma trận vuông có các phần tử trên đường chéo ai,i ≠ 0 trong khi các phần tử còn lại ai,j = 0, ∀i ≠ j.\n",
        "Sử dụng thư viện NumPy, hãy tạo một ma trận chéo A6×6 với phần tử nằm trên đường chéo có giá trị là 15. Gợi ý: sử dụng kết hợp hàm numpy.zeros() và numpy.fill_diagonal(). Kết quả xuất ra màn hình."
      ],
      "metadata": {
        "id": "IQzPMrj1Q6Vn"
      }
    },
    {
      "cell_type": "code",
      "source": [
        "A = np.zeros((6,6))\n",
        "np.fill_diagonal(A, 15)\n",
        "A"
      ],
      "metadata": {
        "colab": {
          "base_uri": "https://localhost:8080/"
        },
        "id": "S2Zs1tJhQ61p",
        "outputId": "4d81888d-f185-462d-9aed-5a1940431d07"
      },
      "execution_count": 4,
      "outputs": [
        {
          "output_type": "execute_result",
          "data": {
            "text/plain": [
              "array([[15.,  0.,  0.,  0.,  0.,  0.],\n",
              "       [ 0., 15.,  0.,  0.,  0.,  0.],\n",
              "       [ 0.,  0., 15.,  0.,  0.,  0.],\n",
              "       [ 0.,  0.,  0., 15.,  0.,  0.],\n",
              "       [ 0.,  0.,  0.,  0., 15.,  0.],\n",
              "       [ 0.,  0.,  0.,  0.,  0., 15.]])"
            ]
          },
          "metadata": {},
          "execution_count": 4
        }
      ]
    },
    {
      "cell_type": "markdown",
      "source": [
        "Bài 5 – Ma trận tam giác trên (upper triangular matrix): Ma trận vuông An×n được gọi là ma trận tam giác trên nếu các phần tử nằm trên đường chéo đều khác 0 và các phần tử nằm dưới đường chéo đều bằng 0.\n",
        "Sử dụng thư viện NumPy, hãy tạo một ma trận tam giác trên A8×8. Gợi ý: sử dụng hàm numpy.triu(). Kết quả xuất ra màn hình."
      ],
      "metadata": {
        "id": "IH6LnwtqRK5H"
      }
    },
    {
      "cell_type": "code",
      "source": [
        "A = np.random.randint(-10, 10, (8, 8))\n",
        "A_ = np.triu(A,1)\n",
        "A_"
      ],
      "metadata": {
        "colab": {
          "base_uri": "https://localhost:8080/"
        },
        "id": "dopdLcW7RMVz",
        "outputId": "98f7b4f2-6e7b-40db-befd-b5a1dae7d938"
      },
      "execution_count": 5,
      "outputs": [
        {
          "output_type": "execute_result",
          "data": {
            "text/plain": [
              "array([[  0,  -5,   3,  -7,   7,   5,   5,  -8],\n",
              "       [  0,   0,  -4,   9,   1,  -7,   1,  -7],\n",
              "       [  0,   0,   0,  -1,   4,   9, -10,  -8],\n",
              "       [  0,   0,   0,   0,  -4,  -6,  -3,  -8],\n",
              "       [  0,   0,   0,   0,   0,   8,   4,   2],\n",
              "       [  0,   0,   0,   0,   0,   0,  -3,   1],\n",
              "       [  0,   0,   0,   0,   0,   0,   0,   1],\n",
              "       [  0,   0,   0,   0,   0,   0,   0,   0]])"
            ]
          },
          "metadata": {},
          "execution_count": 5
        }
      ]
    },
    {
      "cell_type": "markdown",
      "source": [
        "Bài 6 – Ma trận tam giác dưới (lower triangular matrix): Tương tự bài 5, bạn hãy xây dựng\n",
        "ma trận tam giác dưới. Kết quả xuất ra màn hình."
      ],
      "metadata": {
        "id": "5RvrCxTGRZ2s"
      }
    },
    {
      "cell_type": "code",
      "source": [
        "A_ = np.tril(A,-1)\n",
        "A_"
      ],
      "metadata": {
        "colab": {
          "base_uri": "https://localhost:8080/"
        },
        "id": "TzWhkkEpRbTJ",
        "outputId": "00c43cec-8b33-49aa-b499-01fd39682d5f"
      },
      "execution_count": 6,
      "outputs": [
        {
          "output_type": "execute_result",
          "data": {
            "text/plain": [
              "array([[  0,   0,   0,   0,   0,   0,   0,   0],\n",
              "       [  0,   0,   0,   0,   0,   0,   0,   0],\n",
              "       [  7,  -9,   0,   0,   0,   0,   0,   0],\n",
              "       [  1,  -1,   4,   0,   0,   0,   0,   0],\n",
              "       [ -8,   4,  -9,   6,   0,   0,   0,   0],\n",
              "       [ -7,   0,   0,  -2,   7,   0,   0,   0],\n",
              "       [ -6,  -2, -10,   7,  -2,  -8,   0,   0],\n",
              "       [ -7,  -8,   4, -10,  -4,  -9,   3,   0]])"
            ]
          },
          "metadata": {},
          "execution_count": 6
        }
      ]
    },
    {
      "cell_type": "markdown",
      "source": [
        "Bài 7 – Ma trận đơn vị (identity matrix): Ma trận đơn vị In có số chiều n là một ma trận vuông\n",
        "mà mọi phần tử trên đường chéo chính bằng 1. Sử dụng thư viện NumPy, hãy tạo ra một ma trận\n",
        "I9\n",
        ". Kết quả xuất ra màn hình. Gợi ý: sử dụng hàm numpy.identity()"
      ],
      "metadata": {
        "id": "jilxl_xeRmZH"
      }
    },
    {
      "cell_type": "code",
      "source": [
        "I = np.identity(9)\n",
        "I"
      ],
      "metadata": {
        "colab": {
          "base_uri": "https://localhost:8080/"
        },
        "id": "mNyI4DyBRn5_",
        "outputId": "8588c81a-52dc-4790-be47-3c22be962056"
      },
      "execution_count": 7,
      "outputs": [
        {
          "output_type": "execute_result",
          "data": {
            "text/plain": [
              "array([[1., 0., 0., 0., 0., 0., 0., 0., 0.],\n",
              "       [0., 1., 0., 0., 0., 0., 0., 0., 0.],\n",
              "       [0., 0., 1., 0., 0., 0., 0., 0., 0.],\n",
              "       [0., 0., 0., 1., 0., 0., 0., 0., 0.],\n",
              "       [0., 0., 0., 0., 1., 0., 0., 0., 0.],\n",
              "       [0., 0., 0., 0., 0., 1., 0., 0., 0.],\n",
              "       [0., 0., 0., 0., 0., 0., 1., 0., 0.],\n",
              "       [0., 0., 0., 0., 0., 0., 0., 1., 0.],\n",
              "       [0., 0., 0., 0., 0., 0., 0., 0., 1.]])"
            ]
          },
          "metadata": {},
          "execution_count": 7
        }
      ]
    },
    {
      "cell_type": "markdown",
      "source": [
        "Bài 8 – Phép toán trên ma trận: sử dụng thư viện NumPy để thực hiện các yêu cầu sau:"
      ],
      "metadata": {
        "id": "O2pptwWPRraS"
      }
    },
    {
      "cell_type": "code",
      "source": [
        "# Sinh ngẫu nhiên 2 ma trận có kích thước 6x7. \n",
        "# Thực hiện phép cộng 2 ma trận trên. Xuất giá trị các ma trận ra màn hình.\n",
        "max1 = np.random.randint(-10, 10, (6, 7))\n",
        "print(\"matrix A:\", max1, sep=zz)\n",
        "max2 = np.random.randint(-10, 10, (6, 7))\n",
        "print(\"matrix B:\", max2, sep=zz)\n",
        "print(\"matrix C:\", max1+max2, sep=zz)"
      ],
      "metadata": {
        "colab": {
          "base_uri": "https://localhost:8080/"
        },
        "id": "N6Oz4qiPRspV",
        "outputId": "baae55eb-4de5-4801-91b6-156c8488c19a"
      },
      "execution_count": 8,
      "outputs": [
        {
          "output_type": "stream",
          "name": "stdout",
          "text": [
            "matrix A:\n",
            "[[  9  -5  -4  -4  -7   7  -2]\n",
            " [ -7  -4  -1   8   4   8   1]\n",
            " [  7  -1   2 -10   0   2 -10]\n",
            " [ -8  -9  -4   9   9   6   3]\n",
            " [ -1   4   7 -10  -8 -10  -7]\n",
            " [ -9   8   9   5   8  -9   8]]\n",
            "matrix B:\n",
            "[[-8 -2  4 -8 -7  2 -4]\n",
            " [ 4  7 -7  2 -7  7  5]\n",
            " [-5  9  3 -9 -3  9 -9]\n",
            " [ 2  6 -6 -3 -3  8 -6]\n",
            " [ 4 -6 -9 -3 -1  7 -1]\n",
            " [-5 -3  4  9 -2  5  9]]\n",
            "matrix C:\n",
            "[[  1  -7   0 -12 -14   9  -6]\n",
            " [ -3   3  -8  10  -3  15   6]\n",
            " [  2   8   5 -19  -3  11 -19]\n",
            " [ -6  -3 -10   6   6  14  -3]\n",
            " [  3  -2  -2 -13  -9  -3  -8]\n",
            " [-14   5  13  14   6  -4  17]]\n"
          ]
        }
      ]
    },
    {
      "cell_type": "code",
      "source": [
        "# Sinh ngẫu nhiên 1 ma trận có kích thước 5x8. \n",
        "# Thực hiện nhân vô hướng 1 số được nhập từ bàn phím với ma trận này.\n",
        "# Kết quả xuất ra màn hình.\n",
        "max3 = np.random.randint(-10, 10, (5, 8))\n",
        "print(\"matrix:\", max3, sep=zz)\n",
        "m = int(input(\"m: \"))\n",
        "print(\"matrix x m:\", m*max3, sep=zz)"
      ],
      "metadata": {
        "colab": {
          "base_uri": "https://localhost:8080/"
        },
        "id": "j6eUAUQbSctQ",
        "outputId": "85e755b4-e5d8-45fa-b8e5-1eaad492b156"
      },
      "execution_count": 9,
      "outputs": [
        {
          "output_type": "stream",
          "name": "stdout",
          "text": [
            "matrix:\n",
            "[[  0  -2   2  -2   1   0   6   9]\n",
            " [ -3   4   1  -7  -5   5   7 -10]\n",
            " [  1  -6  -3  -2  -8  -6  -8  -6]\n",
            " [ -4  -8   8   4  -7   0   4  -1]\n",
            " [  9  -4  -5  -5  -7   6   4  -9]]\n",
            "m: 4\n",
            "matrix x m:\n",
            "[[  0  -8   8  -8   4   0  24  36]\n",
            " [-12  16   4 -28 -20  20  28 -40]\n",
            " [  4 -24 -12  -8 -32 -24 -32 -24]\n",
            " [-16 -32  32  16 -28   0  16  -4]\n",
            " [ 36 -16 -20 -20 -28  24  16 -36]]\n"
          ]
        }
      ]
    },
    {
      "cell_type": "code",
      "source": [
        "# Sinh ngẫu nhiên một ma trận có kích thước 3x7. \n",
        "# Thực hiện phép chuyển vị đối với ma trận này. \n",
        "# Xuất các ma trận này ra màn hình.\n",
        "max4 = np.random.randint(-10, 10, (3, 7))\n",
        "print(\"matrix:\", max4, sep=zz)\n",
        "print(\"transpose matrix:\", max4.T, sep=zz)"
      ],
      "metadata": {
        "colab": {
          "base_uri": "https://localhost:8080/"
        },
        "id": "RC5yHEWnTVj-",
        "outputId": "4750f05e-019d-46b5-9ae0-49288cec268c"
      },
      "execution_count": 10,
      "outputs": [
        {
          "output_type": "stream",
          "name": "stdout",
          "text": [
            "matrix:\n",
            "[[ -3  -6   7 -10   9   0  -6]\n",
            " [ -1   8   8   6  -5  -5   0]\n",
            " [  4  -8  -3  -9   8   6   6]]\n",
            "transpose matrix:\n",
            "[[ -3  -1   4]\n",
            " [ -6   8  -8]\n",
            " [  7   8  -3]\n",
            " [-10   6  -9]\n",
            " [  9  -5   8]\n",
            " [  0  -5   6]\n",
            " [ -6   0   6]]\n"
          ]
        }
      ]
    },
    {
      "cell_type": "code",
      "source": [
        "# Hãy sinh ngẫu nhiên 2 ma trận A5×7 và B7×3,\n",
        "# tiến hành nhân 2 ma trận này để thu được ma trận C5×3. \n",
        "# Xuất các ma trận trên ra màn hình. Gợi ý: sử dụng hàm numpy.dot()\n",
        "max5 = np.random.randint(-10, 10, (5, 7))\n",
        "print(\"matrix 5x7\", max5, sep=zz)\n",
        "max6 = np.random.randint(-10, 10, (7, 3))\n",
        "print(\"matrix 3x7:\", max6, sep=zz)\n",
        "print(\"matrix c5x3:\", np.dot(max5, max6), sep=zz)"
      ],
      "metadata": {
        "colab": {
          "base_uri": "https://localhost:8080/"
        },
        "id": "zocw7GaRUf48",
        "outputId": "6dc12ecc-379f-4103-a64b-dbcabef30c08"
      },
      "execution_count": 11,
      "outputs": [
        {
          "output_type": "stream",
          "name": "stdout",
          "text": [
            "matrix 5x7\n",
            "[[ -7  -1   1   1   9   8  -7]\n",
            " [ -3   3  -8   5  -7   5  -7]\n",
            " [  3  -8  -4   7  -1  -7   5]\n",
            " [  0   3  -8 -10  -7   8   0]\n",
            " [ -8  -4  -6  -5   6 -10  -1]]\n",
            "matrix 3x7:\n",
            "[[ -7   6  -6]\n",
            " [ -8   7   8]\n",
            " [ -6  -4  -6]\n",
            " [  8   4   6]\n",
            " [  2  -5 -10]\n",
            " [  9   7   7]\n",
            " [ -8   3   2]]\n",
            "matrix c5x3:\n",
            "[[ 205  -59  -14]\n",
            " [ 172  104  211]\n",
            " [  18  -23  -45]\n",
            " [   2  104  138]\n",
            " [  14 -175 -110]]\n"
          ]
        }
      ]
    },
    {
      "cell_type": "code",
      "source": [
        "# Cho ma trận A5×7, hãy tính ma trận khả nghịch của A. \n",
        "# Gợi ý: sử dụng hàm numpy.linalg.inv()\n",
        "max7 = np.random.randint(-10, 10, (5, 7))\n",
        "print(\"matrix 5x7:\", max7, sep=zz)\n",
        "print(\"invertible matrix:\", np.linalg.pinv(max7), sep=zz)"
      ],
      "metadata": {
        "colab": {
          "base_uri": "https://localhost:8080/"
        },
        "id": "k9hPpjarVAmQ",
        "outputId": "dedd4b60-73f6-47f1-da9f-f0ee0f5cbc19"
      },
      "execution_count": 12,
      "outputs": [
        {
          "output_type": "stream",
          "name": "stdout",
          "text": [
            "matrix 5x7:\n",
            "[[  7  -9   8   6   1  -4   0]\n",
            " [  3   7   8  -6  -2  -8   5]\n",
            " [  5  -1   7  -6   3 -10   2]\n",
            " [  7  -5   2  -1   8   6  -1]\n",
            " [ -1   8   5   4  -9   2   9]]\n",
            "invertible matrix:\n",
            "[[ 0.04304004  0.10860279 -0.09700744  0.0428963  -0.03863706]\n",
            " [ 0.02697011  0.2225586  -0.21256542  0.01002079 -0.08250366]\n",
            " [ 0.06746285  0.14785186 -0.13027292  0.01678159 -0.04479592]\n",
            " [ 0.06680926  0.03772596 -0.08925801 -0.02229142 -0.01271092]\n",
            " [-0.03734671 -0.05246423  0.07157472  0.04240896  0.01020058]\n",
            " [-0.00955974  0.02847462 -0.06803     0.06325002  0.01191031]\n",
            " [-0.12158589 -0.34346183  0.37690501  0.02479648  0.21824446]]\n"
          ]
        }
      ]
    },
    {
      "cell_type": "markdown",
      "source": [
        "Bài 9 – Vector là dạng ma trận đặc biệt: Sử dụng numpy để thực hiện các yêu cầu sau"
      ],
      "metadata": {
        "id": "3O_ERF3YWNrv"
      }
    },
    {
      "cell_type": "code",
      "source": [
        "# Vector hàng (row vector) thực chất là ma trận có kích thước 1 × n. \n",
        "# Hãy tạo ngẫu nhiên 1 vector hàng x có kích thước 1 × 8. \n",
        "# Kết quả xuất ra màn hình.\n",
        "import numpy as np\n",
        "\n",
        "row_vector = np.random.randint(-10, 10, (1,8))\n",
        "row_vector"
      ],
      "metadata": {
        "colab": {
          "base_uri": "https://localhost:8080/"
        },
        "id": "XjomW3dqWPTQ",
        "outputId": "7a438e55-2632-413b-f838-1707977ac5c7"
      },
      "execution_count": 13,
      "outputs": [
        {
          "output_type": "execute_result",
          "data": {
            "text/plain": [
              "array([[ 5,  4, -6,  4, -8, -9,  6,  3]])"
            ]
          },
          "metadata": {},
          "execution_count": 13
        }
      ]
    },
    {
      "cell_type": "code",
      "source": [
        "# Vector cột (column vector) thực chất là ma trận có kích thước m × 1. \n",
        "# Hãy tạo ngẫu nhiên 1 vector cột x có kích thước 8 × 1. \n",
        "# Kết quả xuất ra màn hình.\n",
        "import numpy as np\n",
        "\n",
        "column_vector = np.random.randint(-10, 10, (8,1))\n",
        "column_vector"
      ],
      "metadata": {
        "colab": {
          "base_uri": "https://localhost:8080/"
        },
        "id": "JdP4Y6uAWYiO",
        "outputId": "aa7d2672-9e4c-4866-8084-22a58989ae42"
      },
      "execution_count": 14,
      "outputs": [
        {
          "output_type": "execute_result",
          "data": {
            "text/plain": [
              "array([[ 9],\n",
              "       [-4],\n",
              "       [-3],\n",
              "       [-1],\n",
              "       [ 9],\n",
              "       [ 2],\n",
              "       [-8],\n",
              "       [-3]])"
            ]
          },
          "metadata": {},
          "execution_count": 14
        }
      ]
    },
    {
      "cell_type": "markdown",
      "source": [
        "Bài 10 - Hệ phương trình tuyến tính:"
      ],
      "metadata": {
        "id": "S7e3rsa9X9Wk"
      }
    },
    {
      "cell_type": "code",
      "source": [
        "A = np.array([[4, 3, -5], \n",
        "              [-2, -4, 5], \n",
        "              [8, 8, 0]])\n",
        "y = np.array([2, 5, -3])\n",
        "\n",
        "x = np.linalg.solve(A, y)\n",
        "x"
      ],
      "metadata": {
        "colab": {
          "base_uri": "https://localhost:8080/"
        },
        "id": "Rzb_6aFqXLhD",
        "outputId": "bb46652a-47d0-442b-9de0-2980b2551b6c"
      },
      "execution_count": 15,
      "outputs": [
        {
          "output_type": "execute_result",
          "data": {
            "text/plain": [
              "array([ 2.20833333, -2.58333333, -0.18333333])"
            ]
          },
          "metadata": {},
          "execution_count": 15
        }
      ]
    },
    {
      "cell_type": "code",
      "source": [
        "#ma trận khả nghịch\n",
        "A_inv = np.linalg.pinv(A)\n",
        "x = np.dot(A_inv, y)\n",
        "print(\"ma trận khả nghịch:\")\n",
        "x"
      ],
      "metadata": {
        "id": "3RCcrOohX6dM",
        "outputId": "54bda0e0-e0f9-42bc-f3bb-b57f93e653ed",
        "colab": {
          "base_uri": "https://localhost:8080/"
        }
      },
      "execution_count": 16,
      "outputs": [
        {
          "output_type": "stream",
          "name": "stdout",
          "text": [
            "ma trận khả nghịch:\n"
          ]
        },
        {
          "output_type": "execute_result",
          "data": {
            "text/plain": [
              "array([ 2.20833333, -2.58333333, -0.18333333])"
            ]
          },
          "metadata": {},
          "execution_count": 16
        }
      ]
    }
  ]
}