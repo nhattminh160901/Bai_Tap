{
  "nbformat": 4,
  "nbformat_minor": 0,
  "metadata": {
    "colab": {
      "name": "numpy_01.ipynb",
      "provenance": [],
      "authorship_tag": "ABX9TyMxvWRzssb6Tr6xoTBXpqi9",
      "include_colab_link": true
    },
    "kernelspec": {
      "name": "python3",
      "display_name": "Python 3"
    },
    "language_info": {
      "name": "python"
    }
  },
  "cells": [
    {
      "cell_type": "markdown",
      "metadata": {
        "id": "view-in-github",
        "colab_type": "text"
      },
      "source": [
        "<a href=\"https://colab.research.google.com/github/nhattminh160901/Bai_Tap/blob/main/DoAn_2022/10_3_2022/numpy_01.ipynb\" target=\"_parent\"><img src=\"https://colab.research.google.com/assets/colab-badge.svg\" alt=\"Open In Colab\"/></a>"
      ]
    },
    {
      "cell_type": "markdown",
      "source": [
        "Bài 1: Xét không gian $R^3$, một điểm A trong không gian này có tọa độ là (5, 7, 14). Hãy khởi tạo giá trị của điểm A nêu trên bằng Numpy."
      ],
      "metadata": {
        "id": "yqkeumhJGc6E"
      }
    },
    {
      "cell_type": "code",
      "source": [
        "import numpy as np\n",
        "A = np.array([5, 7, 14])\n",
        "print(A)"
      ],
      "metadata": {
        "colab": {
          "base_uri": "https://localhost:8080/"
        },
        "id": "TQqv27C2Gd_V",
        "outputId": "78012a54-4084-4b8b-96ce-d4d60f0fefdd"
      },
      "execution_count": null,
      "outputs": [
        {
          "output_type": "stream",
          "name": "stdout",
          "text": [
            "[ 5  7 14]\n"
          ]
        }
      ]
    },
    {
      "cell_type": "markdown",
      "source": [
        "Bài 2: Mở rộng không gian lên $R^15$, điểm A trong không gian này có tọa độ là (1, 2, 3, 4, 5, 6, 7, 8, 9, 10, 11, 12, 13, 14, 15). Hãy khởi tạo điểm A trong không gian 15 chiều này bằng Numpy."
      ],
      "metadata": {
        "id": "VM8-jQchG5ws"
      }
    },
    {
      "cell_type": "code",
      "source": [
        "A = np.array([i+1 for i in range(15)])\n",
        "print(A)"
      ],
      "metadata": {
        "colab": {
          "base_uri": "https://localhost:8080/"
        },
        "id": "P5uZKVXtG323",
        "outputId": "39e05dce-2ead-41fa-bfb4-65426eab2b17"
      },
      "execution_count": null,
      "outputs": [
        {
          "output_type": "stream",
          "name": "stdout",
          "text": [
            "[ 1  2  3  4  5  6  7  8  9 10 11 12 13 14 15]\n"
          ]
        }
      ]
    },
    {
      "cell_type": "markdown",
      "source": [
        "Bài 3: Hãy viết chương trình sinh ngẫu nhiên một vector trong không gian $R^n$ với n là số nguyên dương được nhập vào từ bàn phím. Yêu cầu: sử dụng Numpy."
      ],
      "metadata": {
        "id": "cst8NCJJHOO3"
      }
    },
    {
      "cell_type": "code",
      "source": [
        "n = int(input(\"n: \"))\n",
        "A_ = np.random.randint(10, size=n)\n",
        "print(A_)"
      ],
      "metadata": {
        "colab": {
          "base_uri": "https://localhost:8080/"
        },
        "id": "itnzq8W3HP8x",
        "outputId": "f9dfbf30-3f5d-429e-e17d-54a601c497ea"
      },
      "execution_count": null,
      "outputs": [
        {
          "output_type": "stream",
          "name": "stdout",
          "text": [
            "n: 4\n",
            "[7 5 6 5]\n"
          ]
        }
      ]
    },
    {
      "cell_type": "markdown",
      "source": [
        "Bài 4: Hãy viết chương trình tính chiều dài của vector OA=[7,-5,8]"
      ],
      "metadata": {
        "id": "equ-pcXHJsur"
      }
    },
    {
      "cell_type": "code",
      "source": [
        "OA = np.array([7,-5,8])\n",
        "OA_ = np.linalg.norm(OA)\n",
        "print(OA)\n",
        "print(OA_)"
      ],
      "metadata": {
        "colab": {
          "base_uri": "https://localhost:8080/"
        },
        "id": "ANQ8DE75JtEG",
        "outputId": "7b2fd54a-c120-4e96-d217-15896222ab6d"
      },
      "execution_count": null,
      "outputs": [
        {
          "output_type": "stream",
          "name": "stdout",
          "text": [
            "[ 7 -5  8]\n",
            "11.74734012447073\n"
          ]
        }
      ]
    },
    {
      "cell_type": "markdown",
      "source": [
        "Bài 5: Trong không gian $R^n$, hãy sinh ngẫu nhiên 2 điểm A và B. Xác định vector AB và tính chiều dài của vector này ‖AB‖. Lưu ý: sử dụng Numpy."
      ],
      "metadata": {
        "id": "VG1vECd5KWfe"
      }
    },
    {
      "cell_type": "code",
      "source": [
        "n = int(input(\"n: \"))\n",
        "A = np.random.randint(10, size=n)\n",
        "print(\"vector A:\", A)\n",
        "B = np.random.randint(10, size=n)\n",
        "print(\"vector B:\", B)\n",
        "AB = B-A\n",
        "print(AB)\n",
        "print(np.linalg.norm(AB))"
      ],
      "metadata": {
        "colab": {
          "base_uri": "https://localhost:8080/"
        },
        "id": "YtkcV353KYN7",
        "outputId": "e6e8de4d-5121-4f80-b5a1-4c8c27f61bda"
      },
      "execution_count": null,
      "outputs": [
        {
          "output_type": "stream",
          "name": "stdout",
          "text": [
            "n: 4\n",
            "vector A: [6 5 8 5]\n",
            "vector B: [1 0 0 2]\n",
            "[-5 -5 -8 -3]\n",
            "11.090536506409418\n"
          ]
        }
      ]
    },
    {
      "cell_type": "markdown",
      "source": [
        "Bài 6: Trong không gian $R^n$, hãy sinh ngẫu nhiên 2 vector a & b và tính tích vô hướng của 2 vector này.\n",
        "Lưu ý: sử dụng numpy để tính tích vô hướng và số nguyên dương n được nhập vào từ bàn phím.\n",
        "Gợi ý: sử dụng hàm numpy.inner()"
      ],
      "metadata": {
        "id": "XawFtiiALrhU"
      }
    },
    {
      "cell_type": "code",
      "source": [
        "n = int(input(\"n: \"))\n",
        "a = np.random.randint(10, size=n)\n",
        "print(\"vector a:\", a)\n",
        "b = np.random.randint(10, size=n)\n",
        "print(\"vector b:\", b)\n",
        "\n",
        "print(np.inner(a, b))"
      ],
      "metadata": {
        "colab": {
          "base_uri": "https://localhost:8080/"
        },
        "id": "8RCCHX33Luqm",
        "outputId": "d2ba1dcd-7e23-4d7d-be14-3d8f47ff6357"
      },
      "execution_count": null,
      "outputs": [
        {
          "output_type": "stream",
          "name": "stdout",
          "text": [
            "n: 3\n",
            "vector a: [4 7 0]\n",
            "vector b: [7 7 7]\n",
            "77\n"
          ]
        }
      ]
    },
    {
      "cell_type": "markdown",
      "source": [
        "Bài 7: Trong không gian $R^n$, hãy sinh ngẫu nhiên 2 vector a & b và tính tích hữu hướng của 2 vector này.\n",
        "Lưu ý: sử dụng numpy để tính tích vô hướng và số nguyên dương n được nhập vào từ bàn phím.\n",
        "Gợi ý: sử dụng hàm numpy.cross()"
      ],
      "metadata": {
        "id": "HjOKeHAkMZ4Z"
      }
    },
    {
      "cell_type": "code",
      "source": [
        "print(np.cross(a, b))"
      ],
      "metadata": {
        "colab": {
          "base_uri": "https://localhost:8080/"
        },
        "id": "LM09yfM6McPy",
        "outputId": "ed77563b-3e74-468b-be17-d53964d2fa21"
      },
      "execution_count": null,
      "outputs": [
        {
          "output_type": "stream",
          "name": "stdout",
          "text": [
            "[ 49 -28 -21]\n"
          ]
        }
      ]
    },
    {
      "cell_type": "markdown",
      "source": [
        "Bài 8 - Phép chuyển vị (transpose): trong numpy, một vector a khi thực hiện chuyển vị sẽ được thực hiện thông qua thao tác a.T\n",
        "Hãy viết chương trình sinh ngẫu nhiên một vector a trong không gian $R^n$, số nguyên dương n được nhập vào từ bàn phím. Xuất ra màn hình giá của vector a và chuyển vị của vector a ."
      ],
      "metadata": {
        "id": "s-sd4CWDNkov"
      }
    },
    {
      "cell_type": "code",
      "source": [
        "n = int(input(\"n: \"))\n",
        "a = np.random.randint(10, size=n)\n",
        "print(\"vector a:\", a)\n",
        "print(\"transpose a:\", a.T)"
      ],
      "metadata": {
        "colab": {
          "base_uri": "https://localhost:8080/"
        },
        "id": "NrZsWBuvNnhY",
        "outputId": "1b5e9cf5-0071-4b1a-e2b2-0e336e51b984"
      },
      "execution_count": null,
      "outputs": [
        {
          "output_type": "stream",
          "name": "stdout",
          "text": [
            "n: 5\n",
            "vector a: [2 7 0 3 7]\n",
            "transpose a: [2 7 0 3 7]\n"
          ]
        }
      ]
    },
    {
      "cell_type": "markdown",
      "source": [
        "Bài 9 - Kết hợp cấu trúc list với Numpy:\n",
        "1. a = [1, 2, 3, 4, 5]\n",
        "2. b = [[1], [2], [3], [4], [5]]\n",
        "\n",
        "Hãy:\n",
        "- Xuất a và b ra màn hình\n",
        "- Tạo vector tương ứng từ a và b, xuất kết quả ra màn hình\n",
        "- Thực hiện phép chuyển vị đối với 2 vector ở trên và xuất kết quả ra màn hình."
      ],
      "metadata": {
        "id": "GzhnE4TcN5EA"
      }
    },
    {
      "cell_type": "code",
      "source": [
        "a = [1, 2, 3, 4, 5]\n",
        "b = [[1], [2], [3], [4], [5]]\n",
        "\n",
        "a_ = np.array(a)\n",
        "b_ = np.array(b)\n",
        "\n",
        "print(a)\n",
        "print(b)\n",
        "\n",
        "print(\"vector a:\", a_)\n",
        "print(\"vector b:\", b_, sep = '\\n')\n",
        "\n",
        "print(\"transpose a:\", a_.T)\n",
        "print(\"transpose b:\", b_.T)"
      ],
      "metadata": {
        "colab": {
          "base_uri": "https://localhost:8080/"
        },
        "id": "Yl2zkDbhN6ry",
        "outputId": "878ccaee-0928-4ee4-930a-fbab4c6436e7"
      },
      "execution_count": null,
      "outputs": [
        {
          "output_type": "stream",
          "name": "stdout",
          "text": [
            "[1, 2, 3, 4, 5]\n",
            "[[1], [2], [3], [4], [5]]\n",
            "vector a: [1 2 3 4 5]\n",
            "vector b:\n",
            "[[1]\n",
            " [2]\n",
            " [3]\n",
            " [4]\n",
            " [5]]\n",
            "transpose a: [1 2 3 4 5]\n",
            "transpose b: [[1 2 3 4 5]]\n"
          ]
        }
      ]
    },
    {
      "cell_type": "markdown",
      "source": [
        "Bài 10: Trong không gian $R^n$, hãy sinh ngẫu nhiên vector a và b, n là số nguyên dương nhập vào từ bàn phím. \n",
        "\n",
        "Hãy:\n",
        "\n",
        "-Thực hiện phép nhân: ma với m là số bất kỳ, xuất kết quả ra màn hình\n",
        "\n",
        "-Thực hiện phép cộng 2 vector: a + b và xuất kết quả ra màn hình."
      ],
      "metadata": {
        "id": "amsZ5EJtOWUd"
      }
    },
    {
      "cell_type": "code",
      "source": [
        "n = int(input(\"n: \"))\n",
        "a = np.random.randint(10, size=n)\n",
        "print(\"vector a:\", a)\n",
        "b = np.random.randint(10, size=n)\n",
        "print(\"vector b:\", b)\n",
        "\n",
        "m = int(input(\"m: \"))\n",
        "print(\"a+m:\", a+m)\n",
        "print(\"a+b:\", a+b)"
      ],
      "metadata": {
        "colab": {
          "base_uri": "https://localhost:8080/"
        },
        "id": "-eFe32ziOWwl",
        "outputId": "4be4129b-5778-402d-a829-74cb93e6a838"
      },
      "execution_count": null,
      "outputs": [
        {
          "output_type": "stream",
          "name": "stdout",
          "text": [
            "n: 5\n",
            "vector a: [7 3 8 0 9]\n",
            "vector b: [6 8 3 5 9]\n",
            "m: 10\n",
            "a+m: [17 13 18 10 19]\n",
            "a+b: [13 11 11  5 18]\n"
          ]
        }
      ]
    }
  ]
}