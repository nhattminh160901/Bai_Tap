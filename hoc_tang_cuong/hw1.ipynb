{
  "nbformat": 4,
  "nbformat_minor": 0,
  "metadata": {
    "colab": {
      "provenance": [],
      "authorship_tag": "ABX9TyO/OK7gYZrluKBGpm3gQc+s",
      "include_colab_link": true
    },
    "kernelspec": {
      "name": "python3",
      "display_name": "Python 3"
    },
    "language_info": {
      "name": "python"
    }
  },
  "cells": [
    {
      "cell_type": "markdown",
      "metadata": {
        "id": "view-in-github",
        "colab_type": "text"
      },
      "source": [
        "<a href=\"https://colab.research.google.com/github/nhattminh160901/Bai_Tap/blob/main/hoc_tang_cuong/hw1.ipynb\" target=\"_parent\"><img src=\"https://colab.research.google.com/assets/colab-badge.svg\" alt=\"Open In Colab\"/></a>"
      ]
    },
    {
      "cell_type": "code",
      "source": [
        "import random\n",
        "import numpy as np\n",
        "#w0: tien\n",
        "#p: xs thang\n",
        "#N: so tien cuoi cung\n",
        "#t: so luot choi\n",
        "def play_game(p, w0, N, t):\n",
        "  w = w0\n",
        "  for _ in range(t):\n",
        "    if random.random() < p:\n",
        "      w += 1\n",
        "    else:\n",
        "      w -= 1\n",
        "    if w == N:\n",
        "      return True\n",
        "    if w == 0:\n",
        "      return False\n",
        "  return False\n",
        "\n",
        "def calculate_probability(p, w0, N, t, num_simulations=100000):\n",
        "  win = 0\n",
        "  for _ in range(num_simulations):\n",
        "    if play_game(p, w0, N, t):\n",
        "      win += 1\n",
        "  return win/num_simulations"
      ],
      "metadata": {
        "id": "NgeEgMyBCeQ6"
      },
      "execution_count": null,
      "outputs": []
    },
    {
      "cell_type": "code",
      "source": [
        "w0 = 20\n",
        "N = 0\n",
        "t = 100\n",
        "# Tính xác suất ra về tay trắng với các giá trị khác nhau của p\n",
        "p_values = [0.25, 0.5, 0.75]\n",
        "for p in p_values:\n",
        "    p_lose = calculate_probability(p, w0, N, t)\n",
        "    print(f\"Xác suất ra về tay trắng với p = {p}: {p_lose*100:.2f}%\")"
      ],
      "metadata": {
        "colab": {
          "base_uri": "https://localhost:8080/"
        },
        "id": "12Pr-9akmpkr",
        "outputId": "594d36e2-0865-4f7a-cc56-dfe832f317a7"
      },
      "execution_count": null,
      "outputs": [
        {
          "output_type": "stream",
          "name": "stdout",
          "text": [
            "Xác suất ra về tay trắng với p = 0.25: 99.98%\n",
            "Xác suất ra về tay trắng với p = 0.5: 4.52%\n",
            "Xác suất ra về tay trắng với p = 0.75: 0.00%\n"
          ]
        }
      ]
    },
    {
      "cell_type": "code",
      "source": [
        "w0 = 20\n",
        "N = 100\n",
        "t = 100\n",
        "# Tính xác suất ra về cùng 100 đồng với các giá trị khác nhau của p\n",
        "p_values = [0.25, 0.5, 0.75]\n",
        "for p in p_values:\n",
        "    p_100 = calculate_probability(p, w0, N, t)\n",
        "    print(f\"Xác suất ra về cùng 100 đồng với p = {p}: {p_100*100:.2f}%\")"
      ],
      "metadata": {
        "colab": {
          "base_uri": "https://localhost:8080/"
        },
        "id": "_B4ohTgSmufD",
        "outputId": "c191547c-9edf-4f05-d49d-88aca4a7fc71"
      },
      "execution_count": null,
      "outputs": [
        {
          "output_type": "stream",
          "name": "stdout",
          "text": [
            "Xác suất ra về cùng 100 đồng với p = 0.25: 0.00%\n",
            "Xác suất ra về cùng 100 đồng với p = 0.5: 0.00%\n",
            "Xác suất ra về cùng 100 đồng với p = 0.75: 0.02%\n"
          ]
        }
      ]
    },
    {
      "cell_type": "code",
      "source": [
        "N = 0\n",
        "w0 = 100\n",
        "t = 500\n",
        "p_rates = []\n",
        "for p in np.arange(0.1, 1.0, 0.1):\n",
        "  p_rate = calculate_probability(p, w0, N, t)\n",
        "  p_rates.append(p_rate)\n",
        "  print(f\"Xác suất ra về tay trắng với p = {p:.1f}: {p_rate*100:.2f}%\")"
      ],
      "metadata": {
        "colab": {
          "base_uri": "https://localhost:8080/"
        },
        "id": "RWEcpfyrm7sf",
        "outputId": "1de397c5-c115-4242-fefd-64094c3acbd8"
      },
      "execution_count": null,
      "outputs": [
        {
          "output_type": "stream",
          "name": "stdout",
          "text": [
            "Xác suất ra về tay trắng với p = 0.1: 100.00%\n",
            "Xác suất ra về tay trắng với p = 0.2: 100.00%\n",
            "Xác suất ra về tay trắng với p = 0.3: 100.00%\n",
            "Xác suất ra về tay trắng với p = 0.4: 54.61%\n",
            "Xác suất ra về tay trắng với p = 0.5: 0.00%\n",
            "Xác suất ra về tay trắng với p = 0.6: 0.00%\n",
            "Xác suất ra về tay trắng với p = 0.7: 0.00%\n",
            "Xác suất ra về tay trắng với p = 0.8: 0.00%\n",
            "Xác suất ra về tay trắng với p = 0.9: 0.00%\n"
          ]
        }
      ]
    },
    {
      "cell_type": "code",
      "source": [
        "import matplotlib.pyplot as plt\n",
        "plt.plot(np.arange(0.1, 1.0, 0.1), p_rates)"
      ],
      "metadata": {
        "colab": {
          "base_uri": "https://localhost:8080/",
          "height": 447
        },
        "id": "NQIPmEVpn_Ux",
        "outputId": "c2d4f97f-8622-4ed7-d4db-1d25dec9e9a8"
      },
      "execution_count": null,
      "outputs": [
        {
          "output_type": "execute_result",
          "data": {
            "text/plain": [
              "[<matplotlib.lines.Line2D at 0x7aaff627a4a0>]"
            ]
          },
          "metadata": {},
          "execution_count": 59
        },
        {
          "output_type": "display_data",
          "data": {
            "text/plain": [
              "<Figure size 640x480 with 1 Axes>"
            ],
            "image/png": "[encoded data removed]"
          },
          "metadata": {}
        }
      ]
    }
  ]
}